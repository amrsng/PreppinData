{
 "cells": [
  {
   "cell_type": "markdown",
   "id": "c3f306ec-0be4-4f5c-b9b3-2c231d5921f7",
   "metadata": {},
   "source": [
    "# Preppin' Data 2023W05"
   ]
  },
  {
   "cell_type": "markdown",
   "id": "c7d0f078-fa14-41f7-8531-a9bae73be8fd",
   "metadata": {},
   "source": [
    "#### Load data"
   ]
  },
  {
   "cell_type": "code",
   "execution_count": 15,
   "id": "0a782433-3d3d-4ce2-8b76-3643ab1520b4",
   "metadata": {
    "tags": []
   },
   "outputs": [],
   "source": [
    "import pandas as pd\n",
    "import datetime as dt"
   ]
  },
  {
   "cell_type": "code",
   "execution_count": 51,
   "id": "ca133c41-bc24-4a90-afdf-4b7bc50b9831",
   "metadata": {
    "tags": []
   },
   "outputs": [],
   "source": [
    "df = pd.read_csv('2023W05_input.csv')"
   ]
  },
  {
   "cell_type": "code",
   "execution_count": 52,
   "id": "7796c2ee-5232-47b5-9c32-95aa43aa3abf",
   "metadata": {
    "tags": []
   },
   "outputs": [
    {
     "data": {
      "text/html": [
       "<div>\n",
       "<style scoped>\n",
       "    .dataframe tbody tr th:only-of-type {\n",
       "        vertical-align: middle;\n",
       "    }\n",
       "\n",
       "    .dataframe tbody tr th {\n",
       "        vertical-align: top;\n",
       "    }\n",
       "\n",
       "    .dataframe thead th {\n",
       "        text-align: right;\n",
       "    }\n",
       "</style>\n",
       "<table border=\"1\" class=\"dataframe\">\n",
       "  <thead>\n",
       "    <tr style=\"text-align: right;\">\n",
       "      <th></th>\n",
       "      <th>Transaction Code</th>\n",
       "      <th>Value</th>\n",
       "      <th>Customer Code</th>\n",
       "      <th>Online or In-Person</th>\n",
       "      <th>Transaction Date</th>\n",
       "    </tr>\n",
       "  </thead>\n",
       "  <tbody>\n",
       "    <tr>\n",
       "      <th>0</th>\n",
       "      <td>DTB-716-679-576</td>\n",
       "      <td>1448</td>\n",
       "      <td>100001</td>\n",
       "      <td>2</td>\n",
       "      <td>20/03/2023 00:00:00</td>\n",
       "    </tr>\n",
       "    <tr>\n",
       "      <th>1</th>\n",
       "      <td>DS-795-814-303</td>\n",
       "      <td>7839</td>\n",
       "      <td>100001</td>\n",
       "      <td>2</td>\n",
       "      <td>15/11/2023 00:00:00</td>\n",
       "    </tr>\n",
       "    <tr>\n",
       "      <th>2</th>\n",
       "      <td>DSB-807-592-406</td>\n",
       "      <td>5520</td>\n",
       "      <td>100005</td>\n",
       "      <td>1</td>\n",
       "      <td>14/07/2023 00:00:00</td>\n",
       "    </tr>\n",
       "    <tr>\n",
       "      <th>3</th>\n",
       "      <td>DS-367-545-264</td>\n",
       "      <td>7957</td>\n",
       "      <td>100007</td>\n",
       "      <td>2</td>\n",
       "      <td>18/08/2023 00:00:00</td>\n",
       "    </tr>\n",
       "    <tr>\n",
       "      <th>4</th>\n",
       "      <td>DSB-474-374-857</td>\n",
       "      <td>5375</td>\n",
       "      <td>100000</td>\n",
       "      <td>2</td>\n",
       "      <td>26/08/2023 00:00:00</td>\n",
       "    </tr>\n",
       "  </tbody>\n",
       "</table>\n",
       "</div>"
      ],
      "text/plain": [
       "  Transaction Code  Value  Customer Code  Online or In-Person  \\\n",
       "0  DTB-716-679-576   1448         100001                    2   \n",
       "1   DS-795-814-303   7839         100001                    2   \n",
       "2  DSB-807-592-406   5520         100005                    1   \n",
       "3   DS-367-545-264   7957         100007                    2   \n",
       "4  DSB-474-374-857   5375         100000                    2   \n",
       "\n",
       "      Transaction Date  \n",
       "0  20/03/2023 00:00:00  \n",
       "1  15/11/2023 00:00:00  \n",
       "2  14/07/2023 00:00:00  \n",
       "3  18/08/2023 00:00:00  \n",
       "4  26/08/2023 00:00:00  "
      ]
     },
     "execution_count": 52,
     "metadata": {},
     "output_type": "execute_result"
    }
   ],
   "source": [
    "df.head()"
   ]
  },
  {
   "cell_type": "markdown",
   "id": "e4a0a42e-73e7-48fa-87ad-015ec79c48e3",
   "metadata": {},
   "source": [
    "#### Create the bank code by splitting out off the letters from the Transaction code"
   ]
  },
  {
   "cell_type": "code",
   "execution_count": 53,
   "id": "fd9bcd72-8c5f-4820-82d5-e78153ef8e66",
   "metadata": {
    "tags": []
   },
   "outputs": [],
   "source": [
    "df['Bank'] = df['Transaction Code'].str.split('-').str[0]"
   ]
  },
  {
   "cell_type": "code",
   "execution_count": 54,
   "id": "a8c0f251-2420-4157-8af6-63697ad33e58",
   "metadata": {
    "tags": []
   },
   "outputs": [
    {
     "data": {
      "text/html": [
       "<div>\n",
       "<style scoped>\n",
       "    .dataframe tbody tr th:only-of-type {\n",
       "        vertical-align: middle;\n",
       "    }\n",
       "\n",
       "    .dataframe tbody tr th {\n",
       "        vertical-align: top;\n",
       "    }\n",
       "\n",
       "    .dataframe thead th {\n",
       "        text-align: right;\n",
       "    }\n",
       "</style>\n",
       "<table border=\"1\" class=\"dataframe\">\n",
       "  <thead>\n",
       "    <tr style=\"text-align: right;\">\n",
       "      <th></th>\n",
       "      <th>Transaction Code</th>\n",
       "      <th>Value</th>\n",
       "      <th>Customer Code</th>\n",
       "      <th>Online or In-Person</th>\n",
       "      <th>Transaction Date</th>\n",
       "      <th>Bank</th>\n",
       "    </tr>\n",
       "  </thead>\n",
       "  <tbody>\n",
       "    <tr>\n",
       "      <th>0</th>\n",
       "      <td>DTB-716-679-576</td>\n",
       "      <td>1448</td>\n",
       "      <td>100001</td>\n",
       "      <td>2</td>\n",
       "      <td>20/03/2023 00:00:00</td>\n",
       "      <td>DTB</td>\n",
       "    </tr>\n",
       "    <tr>\n",
       "      <th>1</th>\n",
       "      <td>DS-795-814-303</td>\n",
       "      <td>7839</td>\n",
       "      <td>100001</td>\n",
       "      <td>2</td>\n",
       "      <td>15/11/2023 00:00:00</td>\n",
       "      <td>DS</td>\n",
       "    </tr>\n",
       "    <tr>\n",
       "      <th>2</th>\n",
       "      <td>DSB-807-592-406</td>\n",
       "      <td>5520</td>\n",
       "      <td>100005</td>\n",
       "      <td>1</td>\n",
       "      <td>14/07/2023 00:00:00</td>\n",
       "      <td>DSB</td>\n",
       "    </tr>\n",
       "    <tr>\n",
       "      <th>3</th>\n",
       "      <td>DS-367-545-264</td>\n",
       "      <td>7957</td>\n",
       "      <td>100007</td>\n",
       "      <td>2</td>\n",
       "      <td>18/08/2023 00:00:00</td>\n",
       "      <td>DS</td>\n",
       "    </tr>\n",
       "    <tr>\n",
       "      <th>4</th>\n",
       "      <td>DSB-474-374-857</td>\n",
       "      <td>5375</td>\n",
       "      <td>100000</td>\n",
       "      <td>2</td>\n",
       "      <td>26/08/2023 00:00:00</td>\n",
       "      <td>DSB</td>\n",
       "    </tr>\n",
       "  </tbody>\n",
       "</table>\n",
       "</div>"
      ],
      "text/plain": [
       "  Transaction Code  Value  Customer Code  Online or In-Person  \\\n",
       "0  DTB-716-679-576   1448         100001                    2   \n",
       "1   DS-795-814-303   7839         100001                    2   \n",
       "2  DSB-807-592-406   5520         100005                    1   \n",
       "3   DS-367-545-264   7957         100007                    2   \n",
       "4  DSB-474-374-857   5375         100000                    2   \n",
       "\n",
       "      Transaction Date Bank  \n",
       "0  20/03/2023 00:00:00  DTB  \n",
       "1  15/11/2023 00:00:00   DS  \n",
       "2  14/07/2023 00:00:00  DSB  \n",
       "3  18/08/2023 00:00:00   DS  \n",
       "4  26/08/2023 00:00:00  DSB  "
      ]
     },
     "execution_count": 54,
     "metadata": {},
     "output_type": "execute_result"
    }
   ],
   "source": [
    "df.head()"
   ]
  },
  {
   "cell_type": "markdown",
   "id": "655bfb24-011a-4675-948d-4853b27ba93d",
   "metadata": {},
   "source": [
    "#### Change transaction date to the just be the month of the transaction"
   ]
  },
  {
   "cell_type": "code",
   "execution_count": 55,
   "id": "341f12b4-920d-490a-a0e5-bf4b4e86d700",
   "metadata": {
    "tags": []
   },
   "outputs": [],
   "source": [
    "df['Transaction Date'] = pd.to_datetime(df['Transaction Date'], dayfirst=True).dt.strftime('%B')"
   ]
  },
  {
   "cell_type": "code",
   "execution_count": 56,
   "id": "6591b71e-2214-4b3f-a7eb-8f76e49c8600",
   "metadata": {
    "tags": []
   },
   "outputs": [
    {
     "data": {
      "text/html": [
       "<div>\n",
       "<style scoped>\n",
       "    .dataframe tbody tr th:only-of-type {\n",
       "        vertical-align: middle;\n",
       "    }\n",
       "\n",
       "    .dataframe tbody tr th {\n",
       "        vertical-align: top;\n",
       "    }\n",
       "\n",
       "    .dataframe thead th {\n",
       "        text-align: right;\n",
       "    }\n",
       "</style>\n",
       "<table border=\"1\" class=\"dataframe\">\n",
       "  <thead>\n",
       "    <tr style=\"text-align: right;\">\n",
       "      <th></th>\n",
       "      <th>Transaction Code</th>\n",
       "      <th>Value</th>\n",
       "      <th>Customer Code</th>\n",
       "      <th>Online or In-Person</th>\n",
       "      <th>Transaction Date</th>\n",
       "      <th>Bank</th>\n",
       "    </tr>\n",
       "  </thead>\n",
       "  <tbody>\n",
       "    <tr>\n",
       "      <th>0</th>\n",
       "      <td>DTB-716-679-576</td>\n",
       "      <td>1448</td>\n",
       "      <td>100001</td>\n",
       "      <td>2</td>\n",
       "      <td>March</td>\n",
       "      <td>DTB</td>\n",
       "    </tr>\n",
       "    <tr>\n",
       "      <th>1</th>\n",
       "      <td>DS-795-814-303</td>\n",
       "      <td>7839</td>\n",
       "      <td>100001</td>\n",
       "      <td>2</td>\n",
       "      <td>November</td>\n",
       "      <td>DS</td>\n",
       "    </tr>\n",
       "    <tr>\n",
       "      <th>2</th>\n",
       "      <td>DSB-807-592-406</td>\n",
       "      <td>5520</td>\n",
       "      <td>100005</td>\n",
       "      <td>1</td>\n",
       "      <td>July</td>\n",
       "      <td>DSB</td>\n",
       "    </tr>\n",
       "    <tr>\n",
       "      <th>3</th>\n",
       "      <td>DS-367-545-264</td>\n",
       "      <td>7957</td>\n",
       "      <td>100007</td>\n",
       "      <td>2</td>\n",
       "      <td>August</td>\n",
       "      <td>DS</td>\n",
       "    </tr>\n",
       "    <tr>\n",
       "      <th>4</th>\n",
       "      <td>DSB-474-374-857</td>\n",
       "      <td>5375</td>\n",
       "      <td>100000</td>\n",
       "      <td>2</td>\n",
       "      <td>August</td>\n",
       "      <td>DSB</td>\n",
       "    </tr>\n",
       "  </tbody>\n",
       "</table>\n",
       "</div>"
      ],
      "text/plain": [
       "  Transaction Code  Value  Customer Code  Online or In-Person  \\\n",
       "0  DTB-716-679-576   1448         100001                    2   \n",
       "1   DS-795-814-303   7839         100001                    2   \n",
       "2  DSB-807-592-406   5520         100005                    1   \n",
       "3   DS-367-545-264   7957         100007                    2   \n",
       "4  DSB-474-374-857   5375         100000                    2   \n",
       "\n",
       "  Transaction Date Bank  \n",
       "0            March  DTB  \n",
       "1         November   DS  \n",
       "2             July  DSB  \n",
       "3           August   DS  \n",
       "4           August  DSB  "
      ]
     },
     "execution_count": 56,
     "metadata": {},
     "output_type": "execute_result"
    }
   ],
   "source": [
    "df.head()"
   ]
  },
  {
   "cell_type": "markdown",
   "id": "0f708244-914b-449d-86d0-0fe6f763e06a",
   "metadata": {},
   "source": [
    "#### drop additional columns"
   ]
  },
  {
   "cell_type": "code",
   "execution_count": 57,
   "id": "c5d51c5a-1337-4186-87e7-dfadbf339517",
   "metadata": {
    "tags": []
   },
   "outputs": [],
   "source": [
    "df = df.drop(['Transaction Code', 'Customer Code', 'Online or In-Person'], axis=1)"
   ]
  },
  {
   "cell_type": "markdown",
   "id": "c1178437-6080-449b-8814-4b59de66f177",
   "metadata": {},
   "source": [
    "#### Total up the transaction values so you have one row for each bank and month combination"
   ]
  },
  {
   "cell_type": "code",
   "execution_count": null,
   "id": "bb94caba-362f-4fa1-9f51-362c03a39d28",
   "metadata": {},
   "outputs": [],
   "source": [
    "df2 = df.groupby(['Bank','Transaction Date'])['Value'].sum().reset_index()"
   ]
  },
  {
   "cell_type": "code",
   "execution_count": null,
   "id": "7ecfea03-8187-4073-a69e-0e6a7e7ca35f",
   "metadata": {},
   "outputs": [
    {
     "data": {
      "text/html": [
       "<div>\n",
       "<style scoped>\n",
       "    .dataframe tbody tr th:only-of-type {\n",
       "        vertical-align: middle;\n",
       "    }\n",
       "\n",
       "    .dataframe tbody tr th {\n",
       "        vertical-align: top;\n",
       "    }\n",
       "\n",
       "    .dataframe thead th {\n",
       "        text-align: right;\n",
       "    }\n",
       "</style>\n",
       "<table border=\"1\" class=\"dataframe\">\n",
       "  <thead>\n",
       "    <tr style=\"text-align: right;\">\n",
       "      <th></th>\n",
       "      <th>Bank</th>\n",
       "      <th>Transaction Date</th>\n",
       "      <th>Value</th>\n",
       "    </tr>\n",
       "  </thead>\n",
       "  <tbody>\n",
       "    <tr>\n",
       "      <th>0</th>\n",
       "      <td>DS</td>\n",
       "      <td>April</td>\n",
       "      <td>40785</td>\n",
       "    </tr>\n",
       "    <tr>\n",
       "      <th>1</th>\n",
       "      <td>DS</td>\n",
       "      <td>August</td>\n",
       "      <td>102237</td>\n",
       "    </tr>\n",
       "    <tr>\n",
       "      <th>2</th>\n",
       "      <td>DS</td>\n",
       "      <td>December</td>\n",
       "      <td>33952</td>\n",
       "    </tr>\n",
       "    <tr>\n",
       "      <th>3</th>\n",
       "      <td>DS</td>\n",
       "      <td>February</td>\n",
       "      <td>31204</td>\n",
       "    </tr>\n",
       "    <tr>\n",
       "      <th>4</th>\n",
       "      <td>DS</td>\n",
       "      <td>January</td>\n",
       "      <td>50207</td>\n",
       "    </tr>\n",
       "  </tbody>\n",
       "</table>\n",
       "</div>"
      ],
      "text/plain": [
       "  Bank Transaction Date   Value\n",
       "0   DS            April   40785\n",
       "1   DS           August  102237\n",
       "2   DS         December   33952\n",
       "3   DS         February   31204\n",
       "4   DS          January   50207"
      ]
     },
     "execution_count": 59,
     "metadata": {},
     "output_type": "execute_result"
    }
   ],
   "source": [
    "df2.head()"
   ]
  },
  {
   "cell_type": "markdown",
   "id": "721452fe-eb16-4d86-938e-40360e61d3fe",
   "metadata": {},
   "source": [
    "#### Rank transactions of banks"
   ]
  },
  {
   "cell_type": "code",
   "execution_count": 102,
   "id": "e9093c9f-848d-4571-8020-79dec5a0e948",
   "metadata": {
    "tags": []
   },
   "outputs": [],
   "source": [
    "df2['Bank Rank per Month'] = df2.groupby(['Transaction Date'])['Value'].rank(ascending=False).astype(int)"
   ]
  },
  {
   "cell_type": "code",
   "execution_count": 104,
   "id": "6df93765-804d-46b1-843b-2c23c2aaced7",
   "metadata": {
    "tags": []
   },
   "outputs": [
    {
     "data": {
      "text/html": [
       "<div>\n",
       "<style scoped>\n",
       "    .dataframe tbody tr th:only-of-type {\n",
       "        vertical-align: middle;\n",
       "    }\n",
       "\n",
       "    .dataframe tbody tr th {\n",
       "        vertical-align: top;\n",
       "    }\n",
       "\n",
       "    .dataframe thead th {\n",
       "        text-align: right;\n",
       "    }\n",
       "</style>\n",
       "<table border=\"1\" class=\"dataframe\">\n",
       "  <thead>\n",
       "    <tr style=\"text-align: right;\">\n",
       "      <th></th>\n",
       "      <th>Bank</th>\n",
       "      <th>Transaction Date</th>\n",
       "      <th>Value</th>\n",
       "      <th>Bank Rank per Month</th>\n",
       "    </tr>\n",
       "  </thead>\n",
       "  <tbody>\n",
       "    <tr>\n",
       "      <th>0</th>\n",
       "      <td>DS</td>\n",
       "      <td>April</td>\n",
       "      <td>40785</td>\n",
       "      <td>2</td>\n",
       "    </tr>\n",
       "    <tr>\n",
       "      <th>1</th>\n",
       "      <td>DS</td>\n",
       "      <td>August</td>\n",
       "      <td>102237</td>\n",
       "      <td>1</td>\n",
       "    </tr>\n",
       "    <tr>\n",
       "      <th>2</th>\n",
       "      <td>DS</td>\n",
       "      <td>December</td>\n",
       "      <td>33952</td>\n",
       "      <td>2</td>\n",
       "    </tr>\n",
       "    <tr>\n",
       "      <th>3</th>\n",
       "      <td>DS</td>\n",
       "      <td>February</td>\n",
       "      <td>31204</td>\n",
       "      <td>2</td>\n",
       "    </tr>\n",
       "    <tr>\n",
       "      <th>4</th>\n",
       "      <td>DS</td>\n",
       "      <td>January</td>\n",
       "      <td>50207</td>\n",
       "      <td>2</td>\n",
       "    </tr>\n",
       "  </tbody>\n",
       "</table>\n",
       "</div>"
      ],
      "text/plain": [
       "  Bank Transaction Date   Value  Bank Rank per Month\n",
       "0   DS            April   40785                    2\n",
       "1   DS           August  102237                    1\n",
       "2   DS         December   33952                    2\n",
       "3   DS         February   31204                    2\n",
       "4   DS          January   50207                    2"
      ]
     },
     "execution_count": 104,
     "metadata": {},
     "output_type": "execute_result"
    }
   ],
   "source": [
    "df2.head()"
   ]
  },
  {
   "cell_type": "markdown",
   "id": "acadd82e-8fcf-4900-a107-04fe3b00ed77",
   "metadata": {},
   "source": [
    "#### Average rank per bank"
   ]
  },
  {
   "cell_type": "code",
   "execution_count": 122,
   "id": "d3f53233-ca0d-43dc-8201-61426c27bc4c",
   "metadata": {
    "tags": []
   },
   "outputs": [],
   "source": [
    "# groupby.mean() returned NaN\n",
    "df2['Avg Rank per Bank'] = df2.groupby(['Bank'])['Bank Rank per Month'].transform('mean')"
   ]
  },
  {
   "cell_type": "code",
   "execution_count": 123,
   "id": "353b1a2f-6af6-46e0-ac30-5d20acf6cad4",
   "metadata": {
    "tags": []
   },
   "outputs": [
    {
     "data": {
      "text/html": [
       "<div>\n",
       "<style scoped>\n",
       "    .dataframe tbody tr th:only-of-type {\n",
       "        vertical-align: middle;\n",
       "    }\n",
       "\n",
       "    .dataframe tbody tr th {\n",
       "        vertical-align: top;\n",
       "    }\n",
       "\n",
       "    .dataframe thead th {\n",
       "        text-align: right;\n",
       "    }\n",
       "</style>\n",
       "<table border=\"1\" class=\"dataframe\">\n",
       "  <thead>\n",
       "    <tr style=\"text-align: right;\">\n",
       "      <th></th>\n",
       "      <th>Bank</th>\n",
       "      <th>Transaction Date</th>\n",
       "      <th>Value</th>\n",
       "      <th>Bank Rank per Month</th>\n",
       "      <th>Avg Rank per Bank</th>\n",
       "    </tr>\n",
       "  </thead>\n",
       "  <tbody>\n",
       "    <tr>\n",
       "      <th>0</th>\n",
       "      <td>DS</td>\n",
       "      <td>April</td>\n",
       "      <td>40785</td>\n",
       "      <td>2</td>\n",
       "      <td>1.916667</td>\n",
       "    </tr>\n",
       "    <tr>\n",
       "      <th>1</th>\n",
       "      <td>DS</td>\n",
       "      <td>August</td>\n",
       "      <td>102237</td>\n",
       "      <td>1</td>\n",
       "      <td>1.916667</td>\n",
       "    </tr>\n",
       "    <tr>\n",
       "      <th>2</th>\n",
       "      <td>DS</td>\n",
       "      <td>December</td>\n",
       "      <td>33952</td>\n",
       "      <td>2</td>\n",
       "      <td>1.916667</td>\n",
       "    </tr>\n",
       "    <tr>\n",
       "      <th>3</th>\n",
       "      <td>DS</td>\n",
       "      <td>February</td>\n",
       "      <td>31204</td>\n",
       "      <td>2</td>\n",
       "      <td>1.916667</td>\n",
       "    </tr>\n",
       "    <tr>\n",
       "      <th>4</th>\n",
       "      <td>DS</td>\n",
       "      <td>January</td>\n",
       "      <td>50207</td>\n",
       "      <td>2</td>\n",
       "      <td>1.916667</td>\n",
       "    </tr>\n",
       "  </tbody>\n",
       "</table>\n",
       "</div>"
      ],
      "text/plain": [
       "  Bank Transaction Date   Value  Bank Rank per Month  Avg Rank per Bank\n",
       "0   DS            April   40785                    2           1.916667\n",
       "1   DS           August  102237                    1           1.916667\n",
       "2   DS         December   33952                    2           1.916667\n",
       "3   DS         February   31204                    2           1.916667\n",
       "4   DS          January   50207                    2           1.916667"
      ]
     },
     "execution_count": 123,
     "metadata": {},
     "output_type": "execute_result"
    }
   ],
   "source": [
    "df2.head()"
   ]
  },
  {
   "cell_type": "markdown",
   "id": "9880647a-eaa5-4f2c-9241-a0e0d39acdd5",
   "metadata": {},
   "source": [
    "#### Average transaction value per rank"
   ]
  },
  {
   "cell_type": "code",
   "execution_count": 127,
   "id": "a138f767-fe18-48af-a3fd-e64ec27634ef",
   "metadata": {
    "tags": []
   },
   "outputs": [],
   "source": [
    "df2['Avg Tranasction Value per Rank'] = df2.groupby(['Bank Rank per Month'])['Value'].transform('mean')"
   ]
  },
  {
   "cell_type": "code",
   "execution_count": 128,
   "id": "54c110b0-a59d-467a-a675-6406e7d40bfd",
   "metadata": {
    "tags": []
   },
   "outputs": [
    {
     "data": {
      "text/html": [
       "<div>\n",
       "<style scoped>\n",
       "    .dataframe tbody tr th:only-of-type {\n",
       "        vertical-align: middle;\n",
       "    }\n",
       "\n",
       "    .dataframe tbody tr th {\n",
       "        vertical-align: top;\n",
       "    }\n",
       "\n",
       "    .dataframe thead th {\n",
       "        text-align: right;\n",
       "    }\n",
       "</style>\n",
       "<table border=\"1\" class=\"dataframe\">\n",
       "  <thead>\n",
       "    <tr style=\"text-align: right;\">\n",
       "      <th></th>\n",
       "      <th>Bank</th>\n",
       "      <th>Transaction Date</th>\n",
       "      <th>Value</th>\n",
       "      <th>Bank Rank per Month</th>\n",
       "      <th>Avg Rank per Bank</th>\n",
       "      <th>Avg Tranasction Value per Rank</th>\n",
       "    </tr>\n",
       "  </thead>\n",
       "  <tbody>\n",
       "    <tr>\n",
       "      <th>0</th>\n",
       "      <td>DS</td>\n",
       "      <td>April</td>\n",
       "      <td>40785</td>\n",
       "      <td>2</td>\n",
       "      <td>1.916667</td>\n",
       "      <td>48633.666667</td>\n",
       "    </tr>\n",
       "    <tr>\n",
       "      <th>1</th>\n",
       "      <td>DS</td>\n",
       "      <td>August</td>\n",
       "      <td>102237</td>\n",
       "      <td>1</td>\n",
       "      <td>1.916667</td>\n",
       "      <td>66967.750000</td>\n",
       "    </tr>\n",
       "    <tr>\n",
       "      <th>2</th>\n",
       "      <td>DS</td>\n",
       "      <td>December</td>\n",
       "      <td>33952</td>\n",
       "      <td>2</td>\n",
       "      <td>1.916667</td>\n",
       "      <td>48633.666667</td>\n",
       "    </tr>\n",
       "    <tr>\n",
       "      <th>3</th>\n",
       "      <td>DS</td>\n",
       "      <td>February</td>\n",
       "      <td>31204</td>\n",
       "      <td>2</td>\n",
       "      <td>1.916667</td>\n",
       "      <td>48633.666667</td>\n",
       "    </tr>\n",
       "    <tr>\n",
       "      <th>4</th>\n",
       "      <td>DS</td>\n",
       "      <td>January</td>\n",
       "      <td>50207</td>\n",
       "      <td>2</td>\n",
       "      <td>1.916667</td>\n",
       "      <td>48633.666667</td>\n",
       "    </tr>\n",
       "  </tbody>\n",
       "</table>\n",
       "</div>"
      ],
      "text/plain": [
       "  Bank Transaction Date   Value  Bank Rank per Month  Avg Rank per Bank  \\\n",
       "0   DS            April   40785                    2           1.916667   \n",
       "1   DS           August  102237                    1           1.916667   \n",
       "2   DS         December   33952                    2           1.916667   \n",
       "3   DS         February   31204                    2           1.916667   \n",
       "4   DS          January   50207                    2           1.916667   \n",
       "\n",
       "   Avg Tranasction Value per Rank  \n",
       "0                    48633.666667  \n",
       "1                    66967.750000  \n",
       "2                    48633.666667  \n",
       "3                    48633.666667  \n",
       "4                    48633.666667  "
      ]
     },
     "execution_count": 128,
     "metadata": {},
     "output_type": "execute_result"
    }
   ],
   "source": [
    "df2.head()"
   ]
  },
  {
   "cell_type": "markdown",
   "id": "586f39ec-78d1-4d04-903b-fb65dc4f7aa2",
   "metadata": {},
   "source": [
    "#### Output"
   ]
  },
  {
   "cell_type": "code",
   "execution_count": 130,
   "id": "de7b3b0f-cc98-41e4-aae1-bfad253dea9f",
   "metadata": {
    "tags": []
   },
   "outputs": [],
   "source": [
    "df2.to_csv('2023W05_output.csv', index=False)"
   ]
  }
 ],
 "metadata": {
  "kernelspec": {
   "display_name": "Python 3 (ipykernel)",
   "language": "python",
   "name": "python3"
  },
  "language_info": {
   "codemirror_mode": {
    "name": "ipython",
    "version": 3
   },
   "file_extension": ".py",
   "mimetype": "text/x-python",
   "name": "python",
   "nbconvert_exporter": "python",
   "pygments_lexer": "ipython3",
   "version": "3.11.2"
  }
 },
 "nbformat": 4,
 "nbformat_minor": 5
}
