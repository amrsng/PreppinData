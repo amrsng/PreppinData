{
 "cells": [
  {
   "cell_type": "markdown",
   "id": "c5020009-1c63-423d-aa9b-e16f6000e006",
   "metadata": {},
   "source": [
    "# Preppin Data 2023 Week 11"
   ]
  },
  {
   "cell_type": "markdown",
   "id": "eaf8c144-2a23-428a-bf24-fa6de053b32f",
   "metadata": {},
   "source": [
    "#### Load data"
   ]
  },
  {
   "cell_type": "code",
   "execution_count": 30,
   "id": "dc06f09f-13d0-4944-9026-c3963272dcf9",
   "metadata": {
    "tags": []
   },
   "outputs": [],
   "source": [
    "import pandas as pd\n",
    "import math as mt\n",
    "import numpy as np"
   ]
  },
  {
   "cell_type": "code",
   "execution_count": 31,
   "id": "88669298-9d64-4878-8ebe-109180359fa4",
   "metadata": {
    "tags": []
   },
   "outputs": [],
   "source": [
    "branches = pd.read_csv('DSB Branches.csv')"
   ]
  },
  {
   "cell_type": "code",
   "execution_count": 32,
   "id": "224ab8c5-29a2-4150-9f2d-3f9ad4ead014",
   "metadata": {
    "tags": []
   },
   "outputs": [],
   "source": [
    "customers = pd.read_csv('DSB Customer Locations.csv')"
   ]
  },
  {
   "cell_type": "code",
   "execution_count": 33,
   "id": "cf257ebd-7fe1-494c-b06b-5c104a0ca9a4",
   "metadata": {
    "tags": []
   },
   "outputs": [
    {
     "data": {
      "text/html": [
       "<div>\n",
       "<style scoped>\n",
       "    .dataframe tbody tr th:only-of-type {\n",
       "        vertical-align: middle;\n",
       "    }\n",
       "\n",
       "    .dataframe tbody tr th {\n",
       "        vertical-align: top;\n",
       "    }\n",
       "\n",
       "    .dataframe thead th {\n",
       "        text-align: right;\n",
       "    }\n",
       "</style>\n",
       "<table border=\"1\" class=\"dataframe\">\n",
       "  <thead>\n",
       "    <tr style=\"text-align: right;\">\n",
       "      <th></th>\n",
       "      <th>Branch</th>\n",
       "      <th>Branch Long</th>\n",
       "      <th>Branch Lat</th>\n",
       "    </tr>\n",
       "  </thead>\n",
       "  <tbody>\n",
       "    <tr>\n",
       "      <th>0</th>\n",
       "      <td>London</td>\n",
       "      <td>-0.109863</td>\n",
       "      <td>51.481383</td>\n",
       "    </tr>\n",
       "    <tr>\n",
       "      <th>1</th>\n",
       "      <td>Oxford</td>\n",
       "      <td>-1.252441</td>\n",
       "      <td>51.727028</td>\n",
       "    </tr>\n",
       "    <tr>\n",
       "      <th>2</th>\n",
       "      <td>Nottingham</td>\n",
       "      <td>-1.142578</td>\n",
       "      <td>52.948638</td>\n",
       "    </tr>\n",
       "    <tr>\n",
       "      <th>3</th>\n",
       "      <td>Newcastle</td>\n",
       "      <td>-1.604004</td>\n",
       "      <td>54.965002</td>\n",
       "    </tr>\n",
       "  </tbody>\n",
       "</table>\n",
       "</div>"
      ],
      "text/plain": [
       "       Branch  Branch Long  Branch Lat\n",
       "0      London    -0.109863   51.481383\n",
       "1      Oxford    -1.252441   51.727028\n",
       "2  Nottingham    -1.142578   52.948638\n",
       "3   Newcastle    -1.604004   54.965002"
      ]
     },
     "execution_count": 33,
     "metadata": {},
     "output_type": "execute_result"
    }
   ],
   "source": [
    "branches.head()"
   ]
  },
  {
   "cell_type": "code",
   "execution_count": 34,
   "id": "799b2cbd-9f74-4594-8ffd-c82a9c312e42",
   "metadata": {
    "tags": []
   },
   "outputs": [
    {
     "data": {
      "text/html": [
       "<div>\n",
       "<style scoped>\n",
       "    .dataframe tbody tr th:only-of-type {\n",
       "        vertical-align: middle;\n",
       "    }\n",
       "\n",
       "    .dataframe tbody tr th {\n",
       "        vertical-align: top;\n",
       "    }\n",
       "\n",
       "    .dataframe thead th {\n",
       "        text-align: right;\n",
       "    }\n",
       "</style>\n",
       "<table border=\"1\" class=\"dataframe\">\n",
       "  <thead>\n",
       "    <tr style=\"text-align: right;\">\n",
       "      <th></th>\n",
       "      <th>Customer</th>\n",
       "      <th>Address Long</th>\n",
       "      <th>Address Lat</th>\n",
       "    </tr>\n",
       "  </thead>\n",
       "  <tbody>\n",
       "    <tr>\n",
       "      <th>0</th>\n",
       "      <td>1</td>\n",
       "      <td>0.747070</td>\n",
       "      <td>51.549751</td>\n",
       "    </tr>\n",
       "    <tr>\n",
       "      <th>1</th>\n",
       "      <td>2</td>\n",
       "      <td>0.406494</td>\n",
       "      <td>51.957807</td>\n",
       "    </tr>\n",
       "    <tr>\n",
       "      <th>2</th>\n",
       "      <td>3</td>\n",
       "      <td>-0.142822</td>\n",
       "      <td>50.833698</td>\n",
       "    </tr>\n",
       "    <tr>\n",
       "      <th>3</th>\n",
       "      <td>4</td>\n",
       "      <td>-4.640350</td>\n",
       "      <td>50.335819</td>\n",
       "    </tr>\n",
       "    <tr>\n",
       "      <th>4</th>\n",
       "      <td>5</td>\n",
       "      <td>-1.593018</td>\n",
       "      <td>51.289406</td>\n",
       "    </tr>\n",
       "  </tbody>\n",
       "</table>\n",
       "</div>"
      ],
      "text/plain": [
       "   Customer  Address Long  Address Lat\n",
       "0         1      0.747070    51.549751\n",
       "1         2      0.406494    51.957807\n",
       "2         3     -0.142822    50.833698\n",
       "3         4     -4.640350    50.335819\n",
       "4         5     -1.593018    51.289406"
      ]
     },
     "execution_count": 34,
     "metadata": {},
     "output_type": "execute_result"
    }
   ],
   "source": [
    "customers.head()"
   ]
  },
  {
   "cell_type": "markdown",
   "id": "1aee87a9-dcd3-48e1-bfcc-478ff9d3ec95",
   "metadata": {
    "tags": []
   },
   "source": [
    "#### join tables together"
   ]
  },
  {
   "cell_type": "code",
   "execution_count": 35,
   "id": "1d59d9b4-4081-46d4-91fd-de71907c803d",
   "metadata": {
    "tags": []
   },
   "outputs": [],
   "source": [
    "branches['join'] = 1\n",
    "customers['join'] = 1\n",
    "df = branches.merge(customers, on='join').drop('join', axis=1)"
   ]
  },
  {
   "cell_type": "code",
   "execution_count": 36,
   "id": "79087d34-01b4-47fe-aa9c-1bd8123c73a4",
   "metadata": {
    "tags": []
   },
   "outputs": [
    {
     "data": {
      "text/html": [
       "<div>\n",
       "<style scoped>\n",
       "    .dataframe tbody tr th:only-of-type {\n",
       "        vertical-align: middle;\n",
       "    }\n",
       "\n",
       "    .dataframe tbody tr th {\n",
       "        vertical-align: top;\n",
       "    }\n",
       "\n",
       "    .dataframe thead th {\n",
       "        text-align: right;\n",
       "    }\n",
       "</style>\n",
       "<table border=\"1\" class=\"dataframe\">\n",
       "  <thead>\n",
       "    <tr style=\"text-align: right;\">\n",
       "      <th></th>\n",
       "      <th>Branch</th>\n",
       "      <th>Branch Long</th>\n",
       "      <th>Branch Lat</th>\n",
       "      <th>Customer</th>\n",
       "      <th>Address Long</th>\n",
       "      <th>Address Lat</th>\n",
       "    </tr>\n",
       "  </thead>\n",
       "  <tbody>\n",
       "    <tr>\n",
       "      <th>0</th>\n",
       "      <td>London</td>\n",
       "      <td>-0.109863</td>\n",
       "      <td>51.481383</td>\n",
       "      <td>1</td>\n",
       "      <td>0.747070</td>\n",
       "      <td>51.549751</td>\n",
       "    </tr>\n",
       "    <tr>\n",
       "      <th>1</th>\n",
       "      <td>London</td>\n",
       "      <td>-0.109863</td>\n",
       "      <td>51.481383</td>\n",
       "      <td>2</td>\n",
       "      <td>0.406494</td>\n",
       "      <td>51.957807</td>\n",
       "    </tr>\n",
       "    <tr>\n",
       "      <th>2</th>\n",
       "      <td>London</td>\n",
       "      <td>-0.109863</td>\n",
       "      <td>51.481383</td>\n",
       "      <td>3</td>\n",
       "      <td>-0.142822</td>\n",
       "      <td>50.833698</td>\n",
       "    </tr>\n",
       "    <tr>\n",
       "      <th>3</th>\n",
       "      <td>London</td>\n",
       "      <td>-0.109863</td>\n",
       "      <td>51.481383</td>\n",
       "      <td>4</td>\n",
       "      <td>-4.640350</td>\n",
       "      <td>50.335819</td>\n",
       "    </tr>\n",
       "    <tr>\n",
       "      <th>4</th>\n",
       "      <td>London</td>\n",
       "      <td>-0.109863</td>\n",
       "      <td>51.481383</td>\n",
       "      <td>5</td>\n",
       "      <td>-1.593018</td>\n",
       "      <td>51.289406</td>\n",
       "    </tr>\n",
       "  </tbody>\n",
       "</table>\n",
       "</div>"
      ],
      "text/plain": [
       "   Branch  Branch Long  Branch Lat  Customer  Address Long  Address Lat\n",
       "0  London    -0.109863   51.481383         1      0.747070    51.549751\n",
       "1  London    -0.109863   51.481383         2      0.406494    51.957807\n",
       "2  London    -0.109863   51.481383         3     -0.142822    50.833698\n",
       "3  London    -0.109863   51.481383         4     -4.640350    50.335819\n",
       "4  London    -0.109863   51.481383         5     -1.593018    51.289406"
      ]
     },
     "execution_count": 36,
     "metadata": {},
     "output_type": "execute_result"
    }
   ],
   "source": [
    "df.head()"
   ]
  },
  {
   "cell_type": "code",
   "execution_count": 37,
   "id": "902fdcdf-7dbb-4f08-b25a-5aca59202c40",
   "metadata": {
    "tags": []
   },
   "outputs": [
    {
     "data": {
      "text/plain": [
       "500"
      ]
     },
     "execution_count": 37,
     "metadata": {},
     "output_type": "execute_result"
    }
   ],
   "source": [
    "# how many rows?\n",
    "df.shape[0]"
   ]
  },
  {
   "cell_type": "markdown",
   "id": "471486c3-2942-4008-9234-43fd393ffa89",
   "metadata": {
    "tags": []
   },
   "source": [
    "#### Transform the latitude and longitudes from decimal degrees to radians by dividing them by 180/pi"
   ]
  },
  {
   "cell_type": "code",
   "execution_count": 38,
   "id": "186f238f-8b68-4cc8-bcec-b1ad5b018db4",
   "metadata": {
    "tags": []
   },
   "outputs": [],
   "source": [
    "rad = 180/np.pi"
   ]
  },
  {
   "cell_type": "code",
   "execution_count": 39,
   "id": "feb4b2af-f5dd-4dda-9cd3-ff125601e4df",
   "metadata": {
    "tags": []
   },
   "outputs": [],
   "source": [
    "def distance(x):\n",
    "    rad = 180/np.pi\n",
    "    c_lat = x['Address Lat']/rad\n",
    "    c_lon = x['Address Long']/rad\n",
    "    b_lat = x['Branch Lat']/rad\n",
    "    b_lon = x['Branch Long']/rad\n",
    "    return 3963 * (np.arccos((np.sin(c_lat) * np.sin(b_lat)) + np.cos(c_lat) * np.cos(b_lat) * np.cos(b_lon - c_lon)))"
   ]
  },
  {
   "cell_type": "markdown",
   "id": "b55b0b30-6671-4ced-ad00-5c92d0cdf0d9",
   "metadata": {},
   "source": [
    "#### Calculate distance in miles from branch"
   ]
  },
  {
   "cell_type": "code",
   "execution_count": 40,
   "id": "e38d5b26-cdb5-4042-b210-bcb333e19ba7",
   "metadata": {
    "tags": []
   },
   "outputs": [],
   "source": [
    "# distance = 3963 * (np.arccos((np.sin(c_lat) * np.sin(b_lat)) + np.cos(c_lat) * np.cos(b_lat) * np.cos(b_lon - c_lon)))"
   ]
  },
  {
   "cell_type": "code",
   "execution_count": 41,
   "id": "9de0c8f7-6b37-4ace-bee8-3048331024aa",
   "metadata": {
    "tags": []
   },
   "outputs": [],
   "source": [
    "# apply to all rows\n",
    "df['Distance'] = round(distance(df), 2)"
   ]
  },
  {
   "cell_type": "code",
   "execution_count": 42,
   "id": "b0b8a87f-d318-439c-8449-6efe06667835",
   "metadata": {
    "tags": []
   },
   "outputs": [
    {
     "data": {
      "text/html": [
       "<div>\n",
       "<style scoped>\n",
       "    .dataframe tbody tr th:only-of-type {\n",
       "        vertical-align: middle;\n",
       "    }\n",
       "\n",
       "    .dataframe tbody tr th {\n",
       "        vertical-align: top;\n",
       "    }\n",
       "\n",
       "    .dataframe thead th {\n",
       "        text-align: right;\n",
       "    }\n",
       "</style>\n",
       "<table border=\"1\" class=\"dataframe\">\n",
       "  <thead>\n",
       "    <tr style=\"text-align: right;\">\n",
       "      <th></th>\n",
       "      <th>Branch</th>\n",
       "      <th>Branch Long</th>\n",
       "      <th>Branch Lat</th>\n",
       "      <th>Customer</th>\n",
       "      <th>Address Long</th>\n",
       "      <th>Address Lat</th>\n",
       "      <th>Distance</th>\n",
       "    </tr>\n",
       "  </thead>\n",
       "  <tbody>\n",
       "    <tr>\n",
       "      <th>98</th>\n",
       "      <td>London</td>\n",
       "      <td>-0.109863</td>\n",
       "      <td>51.481383</td>\n",
       "      <td>99</td>\n",
       "      <td>-0.241699</td>\n",
       "      <td>52.842595</td>\n",
       "      <td>94.32</td>\n",
       "    </tr>\n",
       "    <tr>\n",
       "      <th>223</th>\n",
       "      <td>Oxford</td>\n",
       "      <td>-1.252441</td>\n",
       "      <td>51.727028</td>\n",
       "      <td>99</td>\n",
       "      <td>-0.241699</td>\n",
       "      <td>52.842595</td>\n",
       "      <td>88.22</td>\n",
       "    </tr>\n",
       "    <tr>\n",
       "      <th>348</th>\n",
       "      <td>Nottingham</td>\n",
       "      <td>-1.142578</td>\n",
       "      <td>52.948638</td>\n",
       "      <td>99</td>\n",
       "      <td>-0.241699</td>\n",
       "      <td>52.842595</td>\n",
       "      <td>38.30</td>\n",
       "    </tr>\n",
       "    <tr>\n",
       "      <th>473</th>\n",
       "      <td>Newcastle</td>\n",
       "      <td>-1.604004</td>\n",
       "      <td>54.965002</td>\n",
       "      <td>99</td>\n",
       "      <td>-0.241699</td>\n",
       "      <td>52.842595</td>\n",
       "      <td>156.94</td>\n",
       "    </tr>\n",
       "  </tbody>\n",
       "</table>\n",
       "</div>"
      ],
      "text/plain": [
       "         Branch  Branch Long  Branch Lat  Customer  Address Long  Address Lat   \n",
       "98       London    -0.109863   51.481383        99     -0.241699    52.842595  \\\n",
       "223      Oxford    -1.252441   51.727028        99     -0.241699    52.842595   \n",
       "348  Nottingham    -1.142578   52.948638        99     -0.241699    52.842595   \n",
       "473   Newcastle    -1.604004   54.965002        99     -0.241699    52.842595   \n",
       "\n",
       "     Distance  \n",
       "98      94.32  \n",
       "223     88.22  \n",
       "348     38.30  \n",
       "473    156.94  "
      ]
     },
     "execution_count": 42,
     "metadata": {},
     "output_type": "execute_result"
    }
   ],
   "source": [
    "# check values\n",
    "df[df['Customer'] == 99]"
   ]
  },
  {
   "cell_type": "markdown",
   "id": "30a681b1-fbbe-4bed-8d0f-a14a6bd4533e",
   "metadata": {},
   "source": [
    "#### rank each customer by nearest distance"
   ]
  },
  {
   "cell_type": "code",
   "execution_count": 43,
   "id": "6036ca6d-cfc8-4808-a3b1-5de4ea2aff8f",
   "metadata": {
    "tags": []
   },
   "outputs": [],
   "source": [
    "df['Customer Rank'] = df.groupby('Customer')['Distance'].rank(method='first', ascending=True)"
   ]
  },
  {
   "cell_type": "code",
   "execution_count": 44,
   "id": "ebf52de6-fabb-47d7-9dc8-2da293027f62",
   "metadata": {
    "tags": []
   },
   "outputs": [
    {
     "data": {
      "text/html": [
       "<div>\n",
       "<style scoped>\n",
       "    .dataframe tbody tr th:only-of-type {\n",
       "        vertical-align: middle;\n",
       "    }\n",
       "\n",
       "    .dataframe tbody tr th {\n",
       "        vertical-align: top;\n",
       "    }\n",
       "\n",
       "    .dataframe thead th {\n",
       "        text-align: right;\n",
       "    }\n",
       "</style>\n",
       "<table border=\"1\" class=\"dataframe\">\n",
       "  <thead>\n",
       "    <tr style=\"text-align: right;\">\n",
       "      <th></th>\n",
       "      <th>Branch</th>\n",
       "      <th>Branch Long</th>\n",
       "      <th>Branch Lat</th>\n",
       "      <th>Customer</th>\n",
       "      <th>Address Long</th>\n",
       "      <th>Address Lat</th>\n",
       "      <th>Distance</th>\n",
       "      <th>Customer Rank</th>\n",
       "    </tr>\n",
       "  </thead>\n",
       "  <tbody>\n",
       "    <tr>\n",
       "      <th>0</th>\n",
       "      <td>London</td>\n",
       "      <td>-0.109863</td>\n",
       "      <td>51.481383</td>\n",
       "      <td>1</td>\n",
       "      <td>0.747070</td>\n",
       "      <td>51.549751</td>\n",
       "      <td>37.19</td>\n",
       "      <td>1.0</td>\n",
       "    </tr>\n",
       "    <tr>\n",
       "      <th>1</th>\n",
       "      <td>London</td>\n",
       "      <td>-0.109863</td>\n",
       "      <td>51.481383</td>\n",
       "      <td>2</td>\n",
       "      <td>0.406494</td>\n",
       "      <td>51.957807</td>\n",
       "      <td>39.69</td>\n",
       "      <td>1.0</td>\n",
       "    </tr>\n",
       "    <tr>\n",
       "      <th>2</th>\n",
       "      <td>London</td>\n",
       "      <td>-0.109863</td>\n",
       "      <td>51.481383</td>\n",
       "      <td>3</td>\n",
       "      <td>-0.142822</td>\n",
       "      <td>50.833698</td>\n",
       "      <td>44.82</td>\n",
       "      <td>1.0</td>\n",
       "    </tr>\n",
       "    <tr>\n",
       "      <th>3</th>\n",
       "      <td>London</td>\n",
       "      <td>-0.109863</td>\n",
       "      <td>51.481383</td>\n",
       "      <td>4</td>\n",
       "      <td>-4.640350</td>\n",
       "      <td>50.335819</td>\n",
       "      <td>212.84</td>\n",
       "      <td>2.0</td>\n",
       "    </tr>\n",
       "    <tr>\n",
       "      <th>4</th>\n",
       "      <td>London</td>\n",
       "      <td>-0.109863</td>\n",
       "      <td>51.481383</td>\n",
       "      <td>5</td>\n",
       "      <td>-1.593018</td>\n",
       "      <td>51.289406</td>\n",
       "      <td>65.38</td>\n",
       "      <td>2.0</td>\n",
       "    </tr>\n",
       "  </tbody>\n",
       "</table>\n",
       "</div>"
      ],
      "text/plain": [
       "   Branch  Branch Long  Branch Lat  Customer  Address Long  Address Lat   \n",
       "0  London    -0.109863   51.481383         1      0.747070    51.549751  \\\n",
       "1  London    -0.109863   51.481383         2      0.406494    51.957807   \n",
       "2  London    -0.109863   51.481383         3     -0.142822    50.833698   \n",
       "3  London    -0.109863   51.481383         4     -4.640350    50.335819   \n",
       "4  London    -0.109863   51.481383         5     -1.593018    51.289406   \n",
       "\n",
       "   Distance  Customer Rank  \n",
       "0     37.19            1.0  \n",
       "1     39.69            1.0  \n",
       "2     44.82            1.0  \n",
       "3    212.84            2.0  \n",
       "4     65.38            2.0  "
      ]
     },
     "execution_count": 44,
     "metadata": {},
     "output_type": "execute_result"
    }
   ],
   "source": [
    "df.head()"
   ]
  },
  {
   "cell_type": "markdown",
   "id": "e9f04721-4361-4f35-9ccd-c7bb97c24e0e",
   "metadata": {},
   "source": [
    "#### only get rows where customer is closest, rank = 1"
   ]
  },
  {
   "cell_type": "code",
   "execution_count": 45,
   "id": "f76fb20b-f055-46a6-8183-26bc1dd729a3",
   "metadata": {
    "tags": []
   },
   "outputs": [],
   "source": [
    "df2 = df[df['Customer Rank']==1]"
   ]
  },
  {
   "cell_type": "code",
   "execution_count": 46,
   "id": "56ea2aed-dfab-4522-993f-0459bffe139c",
   "metadata": {
    "tags": []
   },
   "outputs": [
    {
     "data": {
      "text/html": [
       "<div>\n",
       "<style scoped>\n",
       "    .dataframe tbody tr th:only-of-type {\n",
       "        vertical-align: middle;\n",
       "    }\n",
       "\n",
       "    .dataframe tbody tr th {\n",
       "        vertical-align: top;\n",
       "    }\n",
       "\n",
       "    .dataframe thead th {\n",
       "        text-align: right;\n",
       "    }\n",
       "</style>\n",
       "<table border=\"1\" class=\"dataframe\">\n",
       "  <thead>\n",
       "    <tr style=\"text-align: right;\">\n",
       "      <th></th>\n",
       "      <th>Branch</th>\n",
       "      <th>Branch Long</th>\n",
       "      <th>Branch Lat</th>\n",
       "      <th>Customer</th>\n",
       "      <th>Address Long</th>\n",
       "      <th>Address Lat</th>\n",
       "      <th>Distance</th>\n",
       "      <th>Customer Rank</th>\n",
       "    </tr>\n",
       "  </thead>\n",
       "  <tbody>\n",
       "    <tr>\n",
       "      <th>0</th>\n",
       "      <td>London</td>\n",
       "      <td>-0.109863</td>\n",
       "      <td>51.481383</td>\n",
       "      <td>1</td>\n",
       "      <td>0.747070</td>\n",
       "      <td>51.549751</td>\n",
       "      <td>37.19</td>\n",
       "      <td>1.0</td>\n",
       "    </tr>\n",
       "    <tr>\n",
       "      <th>1</th>\n",
       "      <td>London</td>\n",
       "      <td>-0.109863</td>\n",
       "      <td>51.481383</td>\n",
       "      <td>2</td>\n",
       "      <td>0.406494</td>\n",
       "      <td>51.957807</td>\n",
       "      <td>39.69</td>\n",
       "      <td>1.0</td>\n",
       "    </tr>\n",
       "    <tr>\n",
       "      <th>2</th>\n",
       "      <td>London</td>\n",
       "      <td>-0.109863</td>\n",
       "      <td>51.481383</td>\n",
       "      <td>3</td>\n",
       "      <td>-0.142822</td>\n",
       "      <td>50.833698</td>\n",
       "      <td>44.82</td>\n",
       "      <td>1.0</td>\n",
       "    </tr>\n",
       "    <tr>\n",
       "      <th>7</th>\n",
       "      <td>London</td>\n",
       "      <td>-0.109863</td>\n",
       "      <td>51.481383</td>\n",
       "      <td>8</td>\n",
       "      <td>1.296387</td>\n",
       "      <td>52.616390</td>\n",
       "      <td>98.69</td>\n",
       "      <td>1.0</td>\n",
       "    </tr>\n",
       "    <tr>\n",
       "      <th>25</th>\n",
       "      <td>London</td>\n",
       "      <td>-0.109863</td>\n",
       "      <td>51.481383</td>\n",
       "      <td>26</td>\n",
       "      <td>1.494141</td>\n",
       "      <td>52.308479</td>\n",
       "      <td>89.22</td>\n",
       "      <td>1.0</td>\n",
       "    </tr>\n",
       "  </tbody>\n",
       "</table>\n",
       "</div>"
      ],
      "text/plain": [
       "    Branch  Branch Long  Branch Lat  Customer  Address Long  Address Lat   \n",
       "0   London    -0.109863   51.481383         1      0.747070    51.549751  \\\n",
       "1   London    -0.109863   51.481383         2      0.406494    51.957807   \n",
       "2   London    -0.109863   51.481383         3     -0.142822    50.833698   \n",
       "7   London    -0.109863   51.481383         8      1.296387    52.616390   \n",
       "25  London    -0.109863   51.481383        26      1.494141    52.308479   \n",
       "\n",
       "    Distance  Customer Rank  \n",
       "0      37.19            1.0  \n",
       "1      39.69            1.0  \n",
       "2      44.82            1.0  \n",
       "7      98.69            1.0  \n",
       "25     89.22            1.0  "
      ]
     },
     "execution_count": 46,
     "metadata": {},
     "output_type": "execute_result"
    }
   ],
   "source": [
    "df2.head()"
   ]
  },
  {
   "cell_type": "markdown",
   "id": "d3a039b8-f5f4-4fb9-852c-032ea337a46b",
   "metadata": {},
   "source": [
    "#### order customers by priority based on distance to branch"
   ]
  },
  {
   "cell_type": "code",
   "execution_count": 55,
   "id": "1e6a3e44-59d3-4aa1-b20f-5c006e3d3fd0",
   "metadata": {
    "tags": []
   },
   "outputs": [],
   "source": [
    "df2['Customer Priority'] = df2.groupby('Branch')['Distance'].rank(method='first', ascending=True)"
   ]
  },
  {
   "cell_type": "markdown",
   "id": "7ffc6f59-bdde-4f38-9e86-4697d09424c7",
   "metadata": {},
   "source": [
    "#### output"
   ]
  },
  {
   "cell_type": "code",
   "execution_count": 56,
   "id": "ebe6b90e-7984-4bc5-8c34-ecbaa53a127d",
   "metadata": {
    "tags": []
   },
   "outputs": [],
   "source": [
    "df2 = df2.sort_values(['Branch','Customer Priority'], ascending=True)"
   ]
  },
  {
   "cell_type": "code",
   "execution_count": 57,
   "id": "dbc62f49-8502-482f-ab90-e9fbc29b02d4",
   "metadata": {
    "tags": []
   },
   "outputs": [],
   "source": [
    "df2.drop('Customer Rank', axis=1, inplace=True)"
   ]
  },
  {
   "cell_type": "code",
   "execution_count": 59,
   "id": "b17ab96d-1ba6-46aa-9342-6080426d547e",
   "metadata": {
    "tags": []
   },
   "outputs": [],
   "source": [
    "df2.to_csv('2023W11_output.csv', index=False)"
   ]
  }
 ],
 "metadata": {
  "kernelspec": {
   "display_name": "Python 3 (ipykernel)",
   "language": "python",
   "name": "python3"
  },
  "language_info": {
   "codemirror_mode": {
    "name": "ipython",
    "version": 3
   },
   "file_extension": ".py",
   "mimetype": "text/x-python",
   "name": "python",
   "nbconvert_exporter": "python",
   "pygments_lexer": "ipython3",
   "version": "3.11.2"
  }
 },
 "nbformat": 4,
 "nbformat_minor": 5
}
