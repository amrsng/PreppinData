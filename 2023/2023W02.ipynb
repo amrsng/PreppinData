{
 "cells": [
  {
   "cell_type": "markdown",
   "id": "c677dbfa-3376-44ea-b63b-13ba0fec2d30",
   "metadata": {},
   "source": [
    "# Preppin' Data 2023 W02"
   ]
  },
  {
   "cell_type": "markdown",
   "id": "c797f0f0-d4ea-4369-b0d3-3487a97432e5",
   "metadata": {},
   "source": [
    "source: https://preppindata.blogspot.com/2023/01/2023-week-2-international-bank-account.html"
   ]
  },
  {
   "cell_type": "markdown",
   "id": "1b97a9e7-0359-4715-b87a-8013dded09b3",
   "metadata": {},
   "source": [
    "### Load files"
   ]
  },
  {
   "cell_type": "code",
   "execution_count": 1,
   "id": "7ce9cde3-3a01-4ff5-a35e-9a05e2fba62d",
   "metadata": {
    "tags": []
   },
   "outputs": [],
   "source": [
    "import pandas as pd"
   ]
  },
  {
   "cell_type": "code",
   "execution_count": 2,
   "id": "a68c2991-4694-4858-a28e-b56445f98e98",
   "metadata": {
    "tags": []
   },
   "outputs": [],
   "source": [
    "df_cd = pd.read_csv('Swift Codes.csv')\n",
    "df_txn = pd.read_csv('Transactions.csv')"
   ]
  },
  {
   "cell_type": "code",
   "execution_count": 3,
   "id": "9ba9f040-602d-4673-b01e-aabf31084728",
   "metadata": {
    "tags": []
   },
   "outputs": [
    {
     "data": {
      "text/html": [
       "<div>\n",
       "<style scoped>\n",
       "    .dataframe tbody tr th:only-of-type {\n",
       "        vertical-align: middle;\n",
       "    }\n",
       "\n",
       "    .dataframe tbody tr th {\n",
       "        vertical-align: top;\n",
       "    }\n",
       "\n",
       "    .dataframe thead th {\n",
       "        text-align: right;\n",
       "    }\n",
       "</style>\n",
       "<table border=\"1\" class=\"dataframe\">\n",
       "  <thead>\n",
       "    <tr style=\"text-align: right;\">\n",
       "      <th></th>\n",
       "      <th>Bank</th>\n",
       "      <th>SWIFT code</th>\n",
       "      <th>Check Digits</th>\n",
       "    </tr>\n",
       "  </thead>\n",
       "  <tbody>\n",
       "    <tr>\n",
       "      <th>0</th>\n",
       "      <td>Lloyds Bank</td>\n",
       "      <td>LOYD</td>\n",
       "      <td>C1</td>\n",
       "    </tr>\n",
       "    <tr>\n",
       "      <th>1</th>\n",
       "      <td>Barclays Bank</td>\n",
       "      <td>BARC</td>\n",
       "      <td>22</td>\n",
       "    </tr>\n",
       "    <tr>\n",
       "      <th>2</th>\n",
       "      <td>Halifax</td>\n",
       "      <td>HLFX</td>\n",
       "      <td>22</td>\n",
       "    </tr>\n",
       "    <tr>\n",
       "      <th>3</th>\n",
       "      <td>HSBC</td>\n",
       "      <td>HBUK</td>\n",
       "      <td>4B</td>\n",
       "    </tr>\n",
       "    <tr>\n",
       "      <th>4</th>\n",
       "      <td>Natwest</td>\n",
       "      <td>NWBK</td>\n",
       "      <td>2L</td>\n",
       "    </tr>\n",
       "  </tbody>\n",
       "</table>\n",
       "</div>"
      ],
      "text/plain": [
       "            Bank SWIFT code Check Digits\n",
       "0    Lloyds Bank       LOYD           C1\n",
       "1  Barclays Bank       BARC           22\n",
       "2        Halifax       HLFX           22\n",
       "3           HSBC       HBUK           4B\n",
       "4        Natwest       NWBK           2L"
      ]
     },
     "execution_count": 3,
     "metadata": {},
     "output_type": "execute_result"
    }
   ],
   "source": [
    "df_cd.head()"
   ]
  },
  {
   "cell_type": "code",
   "execution_count": 4,
   "id": "71004ef7-7139-42cc-8ed2-acbab19525a1",
   "metadata": {
    "tags": []
   },
   "outputs": [
    {
     "data": {
      "text/html": [
       "<div>\n",
       "<style scoped>\n",
       "    .dataframe tbody tr th:only-of-type {\n",
       "        vertical-align: middle;\n",
       "    }\n",
       "\n",
       "    .dataframe tbody tr th {\n",
       "        vertical-align: top;\n",
       "    }\n",
       "\n",
       "    .dataframe thead th {\n",
       "        text-align: right;\n",
       "    }\n",
       "</style>\n",
       "<table border=\"1\" class=\"dataframe\">\n",
       "  <thead>\n",
       "    <tr style=\"text-align: right;\">\n",
       "      <th></th>\n",
       "      <th>Transaction ID</th>\n",
       "      <th>Account Number</th>\n",
       "      <th>Sort Code</th>\n",
       "      <th>Bank</th>\n",
       "    </tr>\n",
       "  </thead>\n",
       "  <tbody>\n",
       "    <tr>\n",
       "      <th>0</th>\n",
       "      <td>3888</td>\n",
       "      <td>62230725</td>\n",
       "      <td>95-98-82</td>\n",
       "      <td>Data Source Bank</td>\n",
       "    </tr>\n",
       "    <tr>\n",
       "      <th>1</th>\n",
       "      <td>4746</td>\n",
       "      <td>83172326</td>\n",
       "      <td>42-86-38</td>\n",
       "      <td>Barclays Bank</td>\n",
       "    </tr>\n",
       "    <tr>\n",
       "      <th>2</th>\n",
       "      <td>5404</td>\n",
       "      <td>34302539</td>\n",
       "      <td>53-28-21</td>\n",
       "      <td>Barclays Bank</td>\n",
       "    </tr>\n",
       "    <tr>\n",
       "      <th>3</th>\n",
       "      <td>9013</td>\n",
       "      <td>13350031</td>\n",
       "      <td>93-87-71</td>\n",
       "      <td>Natwest</td>\n",
       "    </tr>\n",
       "    <tr>\n",
       "      <th>4</th>\n",
       "      <td>2535</td>\n",
       "      <td>68745993</td>\n",
       "      <td>57-14-32</td>\n",
       "      <td>Barclays Bank</td>\n",
       "    </tr>\n",
       "  </tbody>\n",
       "</table>\n",
       "</div>"
      ],
      "text/plain": [
       "   Transaction ID  Account Number Sort Code              Bank\n",
       "0            3888        62230725  95-98-82  Data Source Bank\n",
       "1            4746        83172326  42-86-38     Barclays Bank\n",
       "2            5404        34302539  53-28-21     Barclays Bank\n",
       "3            9013        13350031  93-87-71           Natwest\n",
       "4            2535        68745993  57-14-32     Barclays Bank"
      ]
     },
     "execution_count": 4,
     "metadata": {},
     "output_type": "execute_result"
    }
   ],
   "source": [
    "df_txn.head()"
   ]
  },
  {
   "cell_type": "markdown",
   "id": "497e905a-cc01-42fe-b1d8-ade3e8d0ed90",
   "metadata": {},
   "source": [
    "### Replace hyphen in Sort Code"
   ]
  },
  {
   "cell_type": "code",
   "execution_count": 9,
   "id": "a7a50de9-737b-4620-bb95-d0f863687f9f",
   "metadata": {
    "tags": []
   },
   "outputs": [],
   "source": [
    "df_txn['Sort Code'] = df_txn['Sort Code'].str.replace('-','')"
   ]
  },
  {
   "cell_type": "code",
   "execution_count": 10,
   "id": "d079eabc-b45e-423d-a1f0-07a3c962ae72",
   "metadata": {
    "tags": []
   },
   "outputs": [
    {
     "data": {
      "text/html": [
       "<div>\n",
       "<style scoped>\n",
       "    .dataframe tbody tr th:only-of-type {\n",
       "        vertical-align: middle;\n",
       "    }\n",
       "\n",
       "    .dataframe tbody tr th {\n",
       "        vertical-align: top;\n",
       "    }\n",
       "\n",
       "    .dataframe thead th {\n",
       "        text-align: right;\n",
       "    }\n",
       "</style>\n",
       "<table border=\"1\" class=\"dataframe\">\n",
       "  <thead>\n",
       "    <tr style=\"text-align: right;\">\n",
       "      <th></th>\n",
       "      <th>Transaction ID</th>\n",
       "      <th>Account Number</th>\n",
       "      <th>Sort Code</th>\n",
       "      <th>Bank</th>\n",
       "    </tr>\n",
       "  </thead>\n",
       "  <tbody>\n",
       "    <tr>\n",
       "      <th>0</th>\n",
       "      <td>3888</td>\n",
       "      <td>62230725</td>\n",
       "      <td>959882</td>\n",
       "      <td>Data Source Bank</td>\n",
       "    </tr>\n",
       "    <tr>\n",
       "      <th>1</th>\n",
       "      <td>4746</td>\n",
       "      <td>83172326</td>\n",
       "      <td>428638</td>\n",
       "      <td>Barclays Bank</td>\n",
       "    </tr>\n",
       "    <tr>\n",
       "      <th>2</th>\n",
       "      <td>5404</td>\n",
       "      <td>34302539</td>\n",
       "      <td>532821</td>\n",
       "      <td>Barclays Bank</td>\n",
       "    </tr>\n",
       "    <tr>\n",
       "      <th>3</th>\n",
       "      <td>9013</td>\n",
       "      <td>13350031</td>\n",
       "      <td>938771</td>\n",
       "      <td>Natwest</td>\n",
       "    </tr>\n",
       "    <tr>\n",
       "      <th>4</th>\n",
       "      <td>2535</td>\n",
       "      <td>68745993</td>\n",
       "      <td>571432</td>\n",
       "      <td>Barclays Bank</td>\n",
       "    </tr>\n",
       "  </tbody>\n",
       "</table>\n",
       "</div>"
      ],
      "text/plain": [
       "   Transaction ID  Account Number Sort Code              Bank\n",
       "0            3888        62230725    959882  Data Source Bank\n",
       "1            4746        83172326    428638     Barclays Bank\n",
       "2            5404        34302539    532821     Barclays Bank\n",
       "3            9013        13350031    938771           Natwest\n",
       "4            2535        68745993    571432     Barclays Bank"
      ]
     },
     "execution_count": 10,
     "metadata": {},
     "output_type": "execute_result"
    }
   ],
   "source": [
    "df_txn.head()"
   ]
  },
  {
   "cell_type": "markdown",
   "id": "6abd467e-fc04-47b6-b76c-82543932a0db",
   "metadata": {},
   "source": [
    "### Join tables"
   ]
  },
  {
   "cell_type": "code",
   "execution_count": 19,
   "id": "91b3b154-7a2b-40ac-b528-e538ca9a23b6",
   "metadata": {
    "tags": []
   },
   "outputs": [],
   "source": [
    "df = df_txn.merge(df_cd, how='left', on='Bank')"
   ]
  },
  {
   "cell_type": "code",
   "execution_count": 21,
   "id": "6145645f-24a5-4ee2-aee2-3dd6e84bba5d",
   "metadata": {
    "tags": []
   },
   "outputs": [
    {
     "data": {
      "text/html": [
       "<div>\n",
       "<style scoped>\n",
       "    .dataframe tbody tr th:only-of-type {\n",
       "        vertical-align: middle;\n",
       "    }\n",
       "\n",
       "    .dataframe tbody tr th {\n",
       "        vertical-align: top;\n",
       "    }\n",
       "\n",
       "    .dataframe thead th {\n",
       "        text-align: right;\n",
       "    }\n",
       "</style>\n",
       "<table border=\"1\" class=\"dataframe\">\n",
       "  <thead>\n",
       "    <tr style=\"text-align: right;\">\n",
       "      <th></th>\n",
       "      <th>Transaction ID</th>\n",
       "      <th>Account Number</th>\n",
       "      <th>Sort Code</th>\n",
       "      <th>Bank</th>\n",
       "      <th>SWIFT code</th>\n",
       "      <th>Check Digits</th>\n",
       "    </tr>\n",
       "  </thead>\n",
       "  <tbody>\n",
       "    <tr>\n",
       "      <th>0</th>\n",
       "      <td>3888</td>\n",
       "      <td>62230725</td>\n",
       "      <td>959882</td>\n",
       "      <td>Data Source Bank</td>\n",
       "      <td>DSBX</td>\n",
       "      <td>12</td>\n",
       "    </tr>\n",
       "    <tr>\n",
       "      <th>1</th>\n",
       "      <td>4746</td>\n",
       "      <td>83172326</td>\n",
       "      <td>428638</td>\n",
       "      <td>Barclays Bank</td>\n",
       "      <td>BARC</td>\n",
       "      <td>22</td>\n",
       "    </tr>\n",
       "    <tr>\n",
       "      <th>2</th>\n",
       "      <td>5404</td>\n",
       "      <td>34302539</td>\n",
       "      <td>532821</td>\n",
       "      <td>Barclays Bank</td>\n",
       "      <td>BARC</td>\n",
       "      <td>22</td>\n",
       "    </tr>\n",
       "    <tr>\n",
       "      <th>3</th>\n",
       "      <td>9013</td>\n",
       "      <td>13350031</td>\n",
       "      <td>938771</td>\n",
       "      <td>Natwest</td>\n",
       "      <td>NWBK</td>\n",
       "      <td>2L</td>\n",
       "    </tr>\n",
       "    <tr>\n",
       "      <th>4</th>\n",
       "      <td>2535</td>\n",
       "      <td>68745993</td>\n",
       "      <td>571432</td>\n",
       "      <td>Barclays Bank</td>\n",
       "      <td>BARC</td>\n",
       "      <td>22</td>\n",
       "    </tr>\n",
       "    <tr>\n",
       "      <th>...</th>\n",
       "      <td>...</td>\n",
       "      <td>...</td>\n",
       "      <td>...</td>\n",
       "      <td>...</td>\n",
       "      <td>...</td>\n",
       "      <td>...</td>\n",
       "    </tr>\n",
       "    <tr>\n",
       "      <th>95</th>\n",
       "      <td>9373</td>\n",
       "      <td>44568613</td>\n",
       "      <td>241512</td>\n",
       "      <td>HSBC</td>\n",
       "      <td>HBUK</td>\n",
       "      <td>4B</td>\n",
       "    </tr>\n",
       "    <tr>\n",
       "      <th>96</th>\n",
       "      <td>2021</td>\n",
       "      <td>72261023</td>\n",
       "      <td>591751</td>\n",
       "      <td>Lloyds Bank</td>\n",
       "      <td>LOYD</td>\n",
       "      <td>C1</td>\n",
       "    </tr>\n",
       "    <tr>\n",
       "      <th>97</th>\n",
       "      <td>6764</td>\n",
       "      <td>10570182</td>\n",
       "      <td>297239</td>\n",
       "      <td>Data Source Bank</td>\n",
       "      <td>DSBX</td>\n",
       "      <td>12</td>\n",
       "    </tr>\n",
       "    <tr>\n",
       "      <th>98</th>\n",
       "      <td>3286</td>\n",
       "      <td>47326725</td>\n",
       "      <td>218530</td>\n",
       "      <td>Halifax</td>\n",
       "      <td>HLFX</td>\n",
       "      <td>22</td>\n",
       "    </tr>\n",
       "    <tr>\n",
       "      <th>99</th>\n",
       "      <td>7423</td>\n",
       "      <td>75616805</td>\n",
       "      <td>493126</td>\n",
       "      <td>Halifax</td>\n",
       "      <td>HLFX</td>\n",
       "      <td>22</td>\n",
       "    </tr>\n",
       "  </tbody>\n",
       "</table>\n",
       "<p>100 rows × 6 columns</p>\n",
       "</div>"
      ],
      "text/plain": [
       "    Transaction ID  Account Number Sort Code              Bank SWIFT code  \\\n",
       "0             3888        62230725    959882  Data Source Bank       DSBX   \n",
       "1             4746        83172326    428638     Barclays Bank       BARC   \n",
       "2             5404        34302539    532821     Barclays Bank       BARC   \n",
       "3             9013        13350031    938771           Natwest       NWBK   \n",
       "4             2535        68745993    571432     Barclays Bank       BARC   \n",
       "..             ...             ...       ...               ...        ...   \n",
       "95            9373        44568613    241512              HSBC       HBUK   \n",
       "96            2021        72261023    591751       Lloyds Bank       LOYD   \n",
       "97            6764        10570182    297239  Data Source Bank       DSBX   \n",
       "98            3286        47326725    218530           Halifax       HLFX   \n",
       "99            7423        75616805    493126           Halifax       HLFX   \n",
       "\n",
       "   Check Digits  \n",
       "0            12  \n",
       "1            22  \n",
       "2            22  \n",
       "3            2L  \n",
       "4            22  \n",
       "..          ...  \n",
       "95           4B  \n",
       "96           C1  \n",
       "97           12  \n",
       "98           22  \n",
       "99           22  \n",
       "\n",
       "[100 rows x 6 columns]"
      ]
     },
     "execution_count": 21,
     "metadata": {},
     "output_type": "execute_result"
    }
   ],
   "source": [
    "df"
   ]
  },
  {
   "cell_type": "markdown",
   "id": "252e208b-b5ee-4f30-adca-df3f7c69d4d5",
   "metadata": {},
   "source": [
    "### Add a country field"
   ]
  },
  {
   "cell_type": "code",
   "execution_count": 24,
   "id": "df40376b-1b17-407b-a24a-806987370eb1",
   "metadata": {
    "tags": []
   },
   "outputs": [],
   "source": [
    "df['Country'] = 'GB'"
   ]
  },
  {
   "cell_type": "code",
   "execution_count": 25,
   "id": "d7323883-6327-40ed-ad24-f3b78fcb8b5d",
   "metadata": {
    "tags": []
   },
   "outputs": [
    {
     "data": {
      "text/html": [
       "<div>\n",
       "<style scoped>\n",
       "    .dataframe tbody tr th:only-of-type {\n",
       "        vertical-align: middle;\n",
       "    }\n",
       "\n",
       "    .dataframe tbody tr th {\n",
       "        vertical-align: top;\n",
       "    }\n",
       "\n",
       "    .dataframe thead th {\n",
       "        text-align: right;\n",
       "    }\n",
       "</style>\n",
       "<table border=\"1\" class=\"dataframe\">\n",
       "  <thead>\n",
       "    <tr style=\"text-align: right;\">\n",
       "      <th></th>\n",
       "      <th>Transaction ID</th>\n",
       "      <th>Account Number</th>\n",
       "      <th>Sort Code</th>\n",
       "      <th>Bank</th>\n",
       "      <th>SWIFT code</th>\n",
       "      <th>Check Digits</th>\n",
       "      <th>Country</th>\n",
       "    </tr>\n",
       "  </thead>\n",
       "  <tbody>\n",
       "    <tr>\n",
       "      <th>0</th>\n",
       "      <td>3888</td>\n",
       "      <td>62230725</td>\n",
       "      <td>959882</td>\n",
       "      <td>Data Source Bank</td>\n",
       "      <td>DSBX</td>\n",
       "      <td>12</td>\n",
       "      <td>GB</td>\n",
       "    </tr>\n",
       "    <tr>\n",
       "      <th>1</th>\n",
       "      <td>4746</td>\n",
       "      <td>83172326</td>\n",
       "      <td>428638</td>\n",
       "      <td>Barclays Bank</td>\n",
       "      <td>BARC</td>\n",
       "      <td>22</td>\n",
       "      <td>GB</td>\n",
       "    </tr>\n",
       "    <tr>\n",
       "      <th>2</th>\n",
       "      <td>5404</td>\n",
       "      <td>34302539</td>\n",
       "      <td>532821</td>\n",
       "      <td>Barclays Bank</td>\n",
       "      <td>BARC</td>\n",
       "      <td>22</td>\n",
       "      <td>GB</td>\n",
       "    </tr>\n",
       "    <tr>\n",
       "      <th>3</th>\n",
       "      <td>9013</td>\n",
       "      <td>13350031</td>\n",
       "      <td>938771</td>\n",
       "      <td>Natwest</td>\n",
       "      <td>NWBK</td>\n",
       "      <td>2L</td>\n",
       "      <td>GB</td>\n",
       "    </tr>\n",
       "    <tr>\n",
       "      <th>4</th>\n",
       "      <td>2535</td>\n",
       "      <td>68745993</td>\n",
       "      <td>571432</td>\n",
       "      <td>Barclays Bank</td>\n",
       "      <td>BARC</td>\n",
       "      <td>22</td>\n",
       "      <td>GB</td>\n",
       "    </tr>\n",
       "  </tbody>\n",
       "</table>\n",
       "</div>"
      ],
      "text/plain": [
       "   Transaction ID  Account Number Sort Code              Bank SWIFT code  \\\n",
       "0            3888        62230725    959882  Data Source Bank       DSBX   \n",
       "1            4746        83172326    428638     Barclays Bank       BARC   \n",
       "2            5404        34302539    532821     Barclays Bank       BARC   \n",
       "3            9013        13350031    938771           Natwest       NWBK   \n",
       "4            2535        68745993    571432     Barclays Bank       BARC   \n",
       "\n",
       "  Check Digits Country  \n",
       "0           12      GB  \n",
       "1           22      GB  \n",
       "2           22      GB  \n",
       "3           2L      GB  \n",
       "4           22      GB  "
      ]
     },
     "execution_count": 25,
     "metadata": {},
     "output_type": "execute_result"
    }
   ],
   "source": [
    "df.head()"
   ]
  },
  {
   "cell_type": "markdown",
   "id": "f336fe36-d36a-4bef-85cf-6a452952b079",
   "metadata": {},
   "source": [
    "### Create IBAN code"
   ]
  },
  {
   "cell_type": "code",
   "execution_count": 36,
   "id": "4d9a14b1-a0dc-4a18-8cbb-e86ba31b2043",
   "metadata": {
    "tags": []
   },
   "outputs": [],
   "source": [
    "df['IBAN'] = df['Country'] + df['SWIFT code'] + df['Check Digits'] + df['Sort Code'].astype(str) \\\n",
    "+ df['Account Number'].astype(str)"
   ]
  },
  {
   "cell_type": "markdown",
   "id": "a38e3f24-d7a6-4824-8f59-7c1197cc4b12",
   "metadata": {},
   "source": [
    "### Check results"
   ]
  },
  {
   "cell_type": "code",
   "execution_count": 37,
   "id": "b05ce261-6619-4271-bddd-81b704017b38",
   "metadata": {
    "tags": []
   },
   "outputs": [
    {
     "data": {
      "text/html": [
       "<div>\n",
       "<style scoped>\n",
       "    .dataframe tbody tr th:only-of-type {\n",
       "        vertical-align: middle;\n",
       "    }\n",
       "\n",
       "    .dataframe tbody tr th {\n",
       "        vertical-align: top;\n",
       "    }\n",
       "\n",
       "    .dataframe thead th {\n",
       "        text-align: right;\n",
       "    }\n",
       "</style>\n",
       "<table border=\"1\" class=\"dataframe\">\n",
       "  <thead>\n",
       "    <tr style=\"text-align: right;\">\n",
       "      <th></th>\n",
       "      <th>Transaction ID</th>\n",
       "      <th>Account Number</th>\n",
       "      <th>Sort Code</th>\n",
       "      <th>Bank</th>\n",
       "      <th>SWIFT code</th>\n",
       "      <th>Check Digits</th>\n",
       "      <th>Country</th>\n",
       "      <th>IBAN</th>\n",
       "    </tr>\n",
       "  </thead>\n",
       "  <tbody>\n",
       "    <tr>\n",
       "      <th>0</th>\n",
       "      <td>3888</td>\n",
       "      <td>62230725</td>\n",
       "      <td>959882</td>\n",
       "      <td>Data Source Bank</td>\n",
       "      <td>DSBX</td>\n",
       "      <td>12</td>\n",
       "      <td>GB</td>\n",
       "      <td>GBDSBX1295988262230725</td>\n",
       "    </tr>\n",
       "    <tr>\n",
       "      <th>1</th>\n",
       "      <td>4746</td>\n",
       "      <td>83172326</td>\n",
       "      <td>428638</td>\n",
       "      <td>Barclays Bank</td>\n",
       "      <td>BARC</td>\n",
       "      <td>22</td>\n",
       "      <td>GB</td>\n",
       "      <td>GBBARC2242863883172326</td>\n",
       "    </tr>\n",
       "    <tr>\n",
       "      <th>2</th>\n",
       "      <td>5404</td>\n",
       "      <td>34302539</td>\n",
       "      <td>532821</td>\n",
       "      <td>Barclays Bank</td>\n",
       "      <td>BARC</td>\n",
       "      <td>22</td>\n",
       "      <td>GB</td>\n",
       "      <td>GBBARC2253282134302539</td>\n",
       "    </tr>\n",
       "    <tr>\n",
       "      <th>3</th>\n",
       "      <td>9013</td>\n",
       "      <td>13350031</td>\n",
       "      <td>938771</td>\n",
       "      <td>Natwest</td>\n",
       "      <td>NWBK</td>\n",
       "      <td>2L</td>\n",
       "      <td>GB</td>\n",
       "      <td>GBNWBK2L93877113350031</td>\n",
       "    </tr>\n",
       "    <tr>\n",
       "      <th>4</th>\n",
       "      <td>2535</td>\n",
       "      <td>68745993</td>\n",
       "      <td>571432</td>\n",
       "      <td>Barclays Bank</td>\n",
       "      <td>BARC</td>\n",
       "      <td>22</td>\n",
       "      <td>GB</td>\n",
       "      <td>GBBARC2257143268745993</td>\n",
       "    </tr>\n",
       "  </tbody>\n",
       "</table>\n",
       "</div>"
      ],
      "text/plain": [
       "   Transaction ID  Account Number Sort Code              Bank SWIFT code  \\\n",
       "0            3888        62230725    959882  Data Source Bank       DSBX   \n",
       "1            4746        83172326    428638     Barclays Bank       BARC   \n",
       "2            5404        34302539    532821     Barclays Bank       BARC   \n",
       "3            9013        13350031    938771           Natwest       NWBK   \n",
       "4            2535        68745993    571432     Barclays Bank       BARC   \n",
       "\n",
       "  Check Digits Country                    IBAN  \n",
       "0           12      GB  GBDSBX1295988262230725  \n",
       "1           22      GB  GBBARC2242863883172326  \n",
       "2           22      GB  GBBARC2253282134302539  \n",
       "3           2L      GB  GBNWBK2L93877113350031  \n",
       "4           22      GB  GBBARC2257143268745993  "
      ]
     },
     "execution_count": 37,
     "metadata": {},
     "output_type": "execute_result"
    }
   ],
   "source": [
    "df.head()"
   ]
  },
  {
   "cell_type": "markdown",
   "id": "d4f1f9d8-e0d6-4c89-a727-4bae7bf032a1",
   "metadata": {},
   "source": [
    "### Remove fields and export"
   ]
  },
  {
   "cell_type": "code",
   "execution_count": 40,
   "id": "36d5f4c5-e583-4347-8404-5a670cb0a493",
   "metadata": {
    "tags": []
   },
   "outputs": [],
   "source": [
    "df = df[['Transaction ID','IBAN']]"
   ]
  },
  {
   "cell_type": "code",
   "execution_count": 41,
   "id": "918eca92-f554-44bc-bfb4-8c789f04a58a",
   "metadata": {
    "tags": []
   },
   "outputs": [
    {
     "data": {
      "text/html": [
       "<div>\n",
       "<style scoped>\n",
       "    .dataframe tbody tr th:only-of-type {\n",
       "        vertical-align: middle;\n",
       "    }\n",
       "\n",
       "    .dataframe tbody tr th {\n",
       "        vertical-align: top;\n",
       "    }\n",
       "\n",
       "    .dataframe thead th {\n",
       "        text-align: right;\n",
       "    }\n",
       "</style>\n",
       "<table border=\"1\" class=\"dataframe\">\n",
       "  <thead>\n",
       "    <tr style=\"text-align: right;\">\n",
       "      <th></th>\n",
       "      <th>Transaction ID</th>\n",
       "      <th>IBAN</th>\n",
       "    </tr>\n",
       "  </thead>\n",
       "  <tbody>\n",
       "    <tr>\n",
       "      <th>0</th>\n",
       "      <td>3888</td>\n",
       "      <td>GBDSBX1295988262230725</td>\n",
       "    </tr>\n",
       "    <tr>\n",
       "      <th>1</th>\n",
       "      <td>4746</td>\n",
       "      <td>GBBARC2242863883172326</td>\n",
       "    </tr>\n",
       "    <tr>\n",
       "      <th>2</th>\n",
       "      <td>5404</td>\n",
       "      <td>GBBARC2253282134302539</td>\n",
       "    </tr>\n",
       "    <tr>\n",
       "      <th>3</th>\n",
       "      <td>9013</td>\n",
       "      <td>GBNWBK2L93877113350031</td>\n",
       "    </tr>\n",
       "    <tr>\n",
       "      <th>4</th>\n",
       "      <td>2535</td>\n",
       "      <td>GBBARC2257143268745993</td>\n",
       "    </tr>\n",
       "  </tbody>\n",
       "</table>\n",
       "</div>"
      ],
      "text/plain": [
       "   Transaction ID                    IBAN\n",
       "0            3888  GBDSBX1295988262230725\n",
       "1            4746  GBBARC2242863883172326\n",
       "2            5404  GBBARC2253282134302539\n",
       "3            9013  GBNWBK2L93877113350031\n",
       "4            2535  GBBARC2257143268745993"
      ]
     },
     "execution_count": 41,
     "metadata": {},
     "output_type": "execute_result"
    }
   ],
   "source": [
    "df.head()"
   ]
  },
  {
   "cell_type": "code",
   "execution_count": 43,
   "id": "2fea41ff-fffe-42e0-a042-e0b798c836f1",
   "metadata": {
    "tags": []
   },
   "outputs": [],
   "source": [
    "df.to_csv('2023W02_output.csv', index=False)"
   ]
  }
 ],
 "metadata": {
  "kernelspec": {
   "display_name": "Python 3 (ipykernel)",
   "language": "python",
   "name": "python3"
  },
  "language_info": {
   "codemirror_mode": {
    "name": "ipython",
    "version": 3
   },
   "file_extension": ".py",
   "mimetype": "text/x-python",
   "name": "python",
   "nbconvert_exporter": "python",
   "pygments_lexer": "ipython3",
   "version": "3.11.2"
  }
 },
 "nbformat": 4,
 "nbformat_minor": 5
}
