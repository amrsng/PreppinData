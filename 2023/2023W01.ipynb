{
 "cells": [
  {
   "cell_type": "markdown",
   "id": "71168426-fca4-4db3-b583-3fe2c547ef64",
   "metadata": {},
   "source": [
    "# Preppin Data 2023 Week 1"
   ]
  },
  {
   "cell_type": "markdown",
   "id": "88112ae1-650d-48f2-8b90-6e2feadf12e9",
   "metadata": {},
   "source": [
    "source: https://preppindata.blogspot.com/2023/01/2023-week-1-data-source-bank.html"
   ]
  },
  {
   "cell_type": "markdown",
   "id": "12cd5443-6dbf-40e5-b8c5-880d4c537f79",
   "metadata": {},
   "source": [
    "### Load file"
   ]
  },
  {
   "cell_type": "code",
   "execution_count": 188,
   "id": "4054cd3b-94a5-4be9-975e-35abcbc89ce8",
   "metadata": {
    "tags": []
   },
   "outputs": [],
   "source": [
    "import pandas as pd\n",
    "import datetime as dt"
   ]
  },
  {
   "cell_type": "code",
   "execution_count": 174,
   "id": "7976790a-662d-45ee-9411-e5130f009d07",
   "metadata": {
    "tags": []
   },
   "outputs": [],
   "source": [
    "df = pd.read_csv('2023W01_input.csv')"
   ]
  },
  {
   "cell_type": "code",
   "execution_count": 175,
   "id": "2f279c16-26db-40c8-98ac-3497d572ee05",
   "metadata": {
    "tags": []
   },
   "outputs": [
    {
     "data": {
      "text/html": [
       "<div>\n",
       "<style scoped>\n",
       "    .dataframe tbody tr th:only-of-type {\n",
       "        vertical-align: middle;\n",
       "    }\n",
       "\n",
       "    .dataframe tbody tr th {\n",
       "        vertical-align: top;\n",
       "    }\n",
       "\n",
       "    .dataframe thead th {\n",
       "        text-align: right;\n",
       "    }\n",
       "</style>\n",
       "<table border=\"1\" class=\"dataframe\">\n",
       "  <thead>\n",
       "    <tr style=\"text-align: right;\">\n",
       "      <th></th>\n",
       "      <th>Transaction Code</th>\n",
       "      <th>Value</th>\n",
       "      <th>Customer Code</th>\n",
       "      <th>Online or In-Person</th>\n",
       "      <th>Transaction Date</th>\n",
       "    </tr>\n",
       "  </thead>\n",
       "  <tbody>\n",
       "    <tr>\n",
       "      <th>0</th>\n",
       "      <td>DTB-716-679-576</td>\n",
       "      <td>1448</td>\n",
       "      <td>100001</td>\n",
       "      <td>2</td>\n",
       "      <td>20/03/2023 00:00:00</td>\n",
       "    </tr>\n",
       "    <tr>\n",
       "      <th>1</th>\n",
       "      <td>DS-795-814-303</td>\n",
       "      <td>7839</td>\n",
       "      <td>100001</td>\n",
       "      <td>2</td>\n",
       "      <td>15/11/2023 00:00:00</td>\n",
       "    </tr>\n",
       "    <tr>\n",
       "      <th>2</th>\n",
       "      <td>DSB-807-592-406</td>\n",
       "      <td>5520</td>\n",
       "      <td>100005</td>\n",
       "      <td>1</td>\n",
       "      <td>14/07/2023 00:00:00</td>\n",
       "    </tr>\n",
       "    <tr>\n",
       "      <th>3</th>\n",
       "      <td>DS-367-545-264</td>\n",
       "      <td>7957</td>\n",
       "      <td>100007</td>\n",
       "      <td>2</td>\n",
       "      <td>18/08/2023 00:00:00</td>\n",
       "    </tr>\n",
       "    <tr>\n",
       "      <th>4</th>\n",
       "      <td>DSB-474-374-857</td>\n",
       "      <td>5375</td>\n",
       "      <td>100000</td>\n",
       "      <td>2</td>\n",
       "      <td>26/08/2023 00:00:00</td>\n",
       "    </tr>\n",
       "  </tbody>\n",
       "</table>\n",
       "</div>"
      ],
      "text/plain": [
       "  Transaction Code  Value  Customer Code  Online or In-Person  \\\n",
       "0  DTB-716-679-576   1448         100001                    2   \n",
       "1   DS-795-814-303   7839         100001                    2   \n",
       "2  DSB-807-592-406   5520         100005                    1   \n",
       "3   DS-367-545-264   7957         100007                    2   \n",
       "4  DSB-474-374-857   5375         100000                    2   \n",
       "\n",
       "      Transaction Date  \n",
       "0  20/03/2023 00:00:00  \n",
       "1  15/11/2023 00:00:00  \n",
       "2  14/07/2023 00:00:00  \n",
       "3  18/08/2023 00:00:00  \n",
       "4  26/08/2023 00:00:00  "
      ]
     },
     "execution_count": 175,
     "metadata": {},
     "output_type": "execute_result"
    }
   ],
   "source": [
    "df.head()"
   ]
  },
  {
   "cell_type": "markdown",
   "id": "a612c99b-8211-4989-a992-a0642d76b62a",
   "metadata": {},
   "source": [
    "### Create new column for Bank"
   ]
  },
  {
   "cell_type": "markdown",
   "id": "ba6de30c-7735-4850-9eb9-a6263111f258",
   "metadata": {},
   "source": [
    "#### Splits the Transaction Code column by moving the letters to a new column"
   ]
  },
  {
   "cell_type": "code",
   "execution_count": 176,
   "id": "0517e86b-5ad3-4b1c-819c-08c1d83b6b21",
   "metadata": {
    "tags": []
   },
   "outputs": [],
   "source": [
    "df['Bank'] = df['Transaction Code'].str.split('-').str[0]"
   ]
  },
  {
   "cell_type": "code",
   "execution_count": 177,
   "id": "9fd5a93f-0b1b-4b54-a36d-5792e478b251",
   "metadata": {
    "tags": []
   },
   "outputs": [
    {
     "data": {
      "text/html": [
       "<div>\n",
       "<style scoped>\n",
       "    .dataframe tbody tr th:only-of-type {\n",
       "        vertical-align: middle;\n",
       "    }\n",
       "\n",
       "    .dataframe tbody tr th {\n",
       "        vertical-align: top;\n",
       "    }\n",
       "\n",
       "    .dataframe thead th {\n",
       "        text-align: right;\n",
       "    }\n",
       "</style>\n",
       "<table border=\"1\" class=\"dataframe\">\n",
       "  <thead>\n",
       "    <tr style=\"text-align: right;\">\n",
       "      <th></th>\n",
       "      <th>Transaction Code</th>\n",
       "      <th>Value</th>\n",
       "      <th>Customer Code</th>\n",
       "      <th>Online or In-Person</th>\n",
       "      <th>Transaction Date</th>\n",
       "      <th>Bank</th>\n",
       "    </tr>\n",
       "  </thead>\n",
       "  <tbody>\n",
       "    <tr>\n",
       "      <th>0</th>\n",
       "      <td>DTB-716-679-576</td>\n",
       "      <td>1448</td>\n",
       "      <td>100001</td>\n",
       "      <td>2</td>\n",
       "      <td>20/03/2023 00:00:00</td>\n",
       "      <td>DTB</td>\n",
       "    </tr>\n",
       "    <tr>\n",
       "      <th>1</th>\n",
       "      <td>DS-795-814-303</td>\n",
       "      <td>7839</td>\n",
       "      <td>100001</td>\n",
       "      <td>2</td>\n",
       "      <td>15/11/2023 00:00:00</td>\n",
       "      <td>DS</td>\n",
       "    </tr>\n",
       "    <tr>\n",
       "      <th>2</th>\n",
       "      <td>DSB-807-592-406</td>\n",
       "      <td>5520</td>\n",
       "      <td>100005</td>\n",
       "      <td>1</td>\n",
       "      <td>14/07/2023 00:00:00</td>\n",
       "      <td>DSB</td>\n",
       "    </tr>\n",
       "    <tr>\n",
       "      <th>3</th>\n",
       "      <td>DS-367-545-264</td>\n",
       "      <td>7957</td>\n",
       "      <td>100007</td>\n",
       "      <td>2</td>\n",
       "      <td>18/08/2023 00:00:00</td>\n",
       "      <td>DS</td>\n",
       "    </tr>\n",
       "    <tr>\n",
       "      <th>4</th>\n",
       "      <td>DSB-474-374-857</td>\n",
       "      <td>5375</td>\n",
       "      <td>100000</td>\n",
       "      <td>2</td>\n",
       "      <td>26/08/2023 00:00:00</td>\n",
       "      <td>DSB</td>\n",
       "    </tr>\n",
       "  </tbody>\n",
       "</table>\n",
       "</div>"
      ],
      "text/plain": [
       "  Transaction Code  Value  Customer Code  Online or In-Person  \\\n",
       "0  DTB-716-679-576   1448         100001                    2   \n",
       "1   DS-795-814-303   7839         100001                    2   \n",
       "2  DSB-807-592-406   5520         100005                    1   \n",
       "3   DS-367-545-264   7957         100007                    2   \n",
       "4  DSB-474-374-857   5375         100000                    2   \n",
       "\n",
       "      Transaction Date Bank  \n",
       "0  20/03/2023 00:00:00  DTB  \n",
       "1  15/11/2023 00:00:00   DS  \n",
       "2  14/07/2023 00:00:00  DSB  \n",
       "3  18/08/2023 00:00:00   DS  \n",
       "4  26/08/2023 00:00:00  DSB  "
      ]
     },
     "execution_count": 177,
     "metadata": {},
     "output_type": "execute_result"
    }
   ],
   "source": [
    "df.head()"
   ]
  },
  {
   "cell_type": "markdown",
   "id": "330cead4-c3ee-45eb-8647-dca744cb8b31",
   "metadata": {},
   "source": [
    "### Rename Online or In-Person values. 1 = Online and 2 = In-Person"
   ]
  },
  {
   "cell_type": "code",
   "execution_count": 178,
   "id": "ec30560f-32f3-4f59-9590-f6204ea3440d",
   "metadata": {
    "tags": []
   },
   "outputs": [],
   "source": [
    "df['Online or In-Person'] = df['Online or In-Person'].replace({1:'Online', 2:'In-Person'})"
   ]
  },
  {
   "cell_type": "code",
   "execution_count": 179,
   "id": "2cd64db2-a28d-456d-8370-f0a01eb0103d",
   "metadata": {
    "tags": []
   },
   "outputs": [
    {
     "data": {
      "text/html": [
       "<div>\n",
       "<style scoped>\n",
       "    .dataframe tbody tr th:only-of-type {\n",
       "        vertical-align: middle;\n",
       "    }\n",
       "\n",
       "    .dataframe tbody tr th {\n",
       "        vertical-align: top;\n",
       "    }\n",
       "\n",
       "    .dataframe thead th {\n",
       "        text-align: right;\n",
       "    }\n",
       "</style>\n",
       "<table border=\"1\" class=\"dataframe\">\n",
       "  <thead>\n",
       "    <tr style=\"text-align: right;\">\n",
       "      <th></th>\n",
       "      <th>Transaction Code</th>\n",
       "      <th>Value</th>\n",
       "      <th>Customer Code</th>\n",
       "      <th>Online or In-Person</th>\n",
       "      <th>Transaction Date</th>\n",
       "      <th>Bank</th>\n",
       "    </tr>\n",
       "  </thead>\n",
       "  <tbody>\n",
       "    <tr>\n",
       "      <th>0</th>\n",
       "      <td>DTB-716-679-576</td>\n",
       "      <td>1448</td>\n",
       "      <td>100001</td>\n",
       "      <td>In-Person</td>\n",
       "      <td>20/03/2023 00:00:00</td>\n",
       "      <td>DTB</td>\n",
       "    </tr>\n",
       "    <tr>\n",
       "      <th>1</th>\n",
       "      <td>DS-795-814-303</td>\n",
       "      <td>7839</td>\n",
       "      <td>100001</td>\n",
       "      <td>In-Person</td>\n",
       "      <td>15/11/2023 00:00:00</td>\n",
       "      <td>DS</td>\n",
       "    </tr>\n",
       "    <tr>\n",
       "      <th>2</th>\n",
       "      <td>DSB-807-592-406</td>\n",
       "      <td>5520</td>\n",
       "      <td>100005</td>\n",
       "      <td>Online</td>\n",
       "      <td>14/07/2023 00:00:00</td>\n",
       "      <td>DSB</td>\n",
       "    </tr>\n",
       "    <tr>\n",
       "      <th>3</th>\n",
       "      <td>DS-367-545-264</td>\n",
       "      <td>7957</td>\n",
       "      <td>100007</td>\n",
       "      <td>In-Person</td>\n",
       "      <td>18/08/2023 00:00:00</td>\n",
       "      <td>DS</td>\n",
       "    </tr>\n",
       "    <tr>\n",
       "      <th>4</th>\n",
       "      <td>DSB-474-374-857</td>\n",
       "      <td>5375</td>\n",
       "      <td>100000</td>\n",
       "      <td>In-Person</td>\n",
       "      <td>26/08/2023 00:00:00</td>\n",
       "      <td>DSB</td>\n",
       "    </tr>\n",
       "  </tbody>\n",
       "</table>\n",
       "</div>"
      ],
      "text/plain": [
       "  Transaction Code  Value  Customer Code Online or In-Person  \\\n",
       "0  DTB-716-679-576   1448         100001           In-Person   \n",
       "1   DS-795-814-303   7839         100001           In-Person   \n",
       "2  DSB-807-592-406   5520         100005              Online   \n",
       "3   DS-367-545-264   7957         100007           In-Person   \n",
       "4  DSB-474-374-857   5375         100000           In-Person   \n",
       "\n",
       "      Transaction Date Bank  \n",
       "0  20/03/2023 00:00:00  DTB  \n",
       "1  15/11/2023 00:00:00   DS  \n",
       "2  14/07/2023 00:00:00  DSB  \n",
       "3  18/08/2023 00:00:00   DS  \n",
       "4  26/08/2023 00:00:00  DSB  "
      ]
     },
     "execution_count": 179,
     "metadata": {},
     "output_type": "execute_result"
    }
   ],
   "source": [
    "df.head()"
   ]
  },
  {
   "cell_type": "markdown",
   "id": "5e3ca648-b621-4f3a-a9c6-02fc324b3dad",
   "metadata": {},
   "source": [
    "### Change day to be day of the week"
   ]
  },
  {
   "cell_type": "markdown",
   "id": "01ed2d4e-ebdb-4f6e-970b-9a3d9b39f55b",
   "metadata": {},
   "source": [
    "#### Had to add dayfirst=True as pandas was defining the wrong day name"
   ]
  },
  {
   "cell_type": "code",
   "execution_count": 180,
   "id": "1c490956-7e60-4787-a9c2-2d137815bd50",
   "metadata": {
    "tags": []
   },
   "outputs": [],
   "source": [
    "df['Transaction Date'] = pd.to_datetime(df['Transaction Date'], dayfirst=True).dt.strftime('%A')"
   ]
  },
  {
   "cell_type": "code",
   "execution_count": 181,
   "id": "7447be6c-eed2-4c54-a13d-c51db23e5904",
   "metadata": {
    "tags": []
   },
   "outputs": [
    {
     "data": {
      "text/html": [
       "<div>\n",
       "<style scoped>\n",
       "    .dataframe tbody tr th:only-of-type {\n",
       "        vertical-align: middle;\n",
       "    }\n",
       "\n",
       "    .dataframe tbody tr th {\n",
       "        vertical-align: top;\n",
       "    }\n",
       "\n",
       "    .dataframe thead th {\n",
       "        text-align: right;\n",
       "    }\n",
       "</style>\n",
       "<table border=\"1\" class=\"dataframe\">\n",
       "  <thead>\n",
       "    <tr style=\"text-align: right;\">\n",
       "      <th></th>\n",
       "      <th>Transaction Code</th>\n",
       "      <th>Value</th>\n",
       "      <th>Customer Code</th>\n",
       "      <th>Online or In-Person</th>\n",
       "      <th>Transaction Date</th>\n",
       "      <th>Bank</th>\n",
       "    </tr>\n",
       "  </thead>\n",
       "  <tbody>\n",
       "    <tr>\n",
       "      <th>0</th>\n",
       "      <td>DTB-716-679-576</td>\n",
       "      <td>1448</td>\n",
       "      <td>100001</td>\n",
       "      <td>In-Person</td>\n",
       "      <td>Monday</td>\n",
       "      <td>DTB</td>\n",
       "    </tr>\n",
       "    <tr>\n",
       "      <th>1</th>\n",
       "      <td>DS-795-814-303</td>\n",
       "      <td>7839</td>\n",
       "      <td>100001</td>\n",
       "      <td>In-Person</td>\n",
       "      <td>Wednesday</td>\n",
       "      <td>DS</td>\n",
       "    </tr>\n",
       "    <tr>\n",
       "      <th>2</th>\n",
       "      <td>DSB-807-592-406</td>\n",
       "      <td>5520</td>\n",
       "      <td>100005</td>\n",
       "      <td>Online</td>\n",
       "      <td>Friday</td>\n",
       "      <td>DSB</td>\n",
       "    </tr>\n",
       "    <tr>\n",
       "      <th>3</th>\n",
       "      <td>DS-367-545-264</td>\n",
       "      <td>7957</td>\n",
       "      <td>100007</td>\n",
       "      <td>In-Person</td>\n",
       "      <td>Friday</td>\n",
       "      <td>DS</td>\n",
       "    </tr>\n",
       "    <tr>\n",
       "      <th>4</th>\n",
       "      <td>DSB-474-374-857</td>\n",
       "      <td>5375</td>\n",
       "      <td>100000</td>\n",
       "      <td>In-Person</td>\n",
       "      <td>Saturday</td>\n",
       "      <td>DSB</td>\n",
       "    </tr>\n",
       "  </tbody>\n",
       "</table>\n",
       "</div>"
      ],
      "text/plain": [
       "  Transaction Code  Value  Customer Code Online or In-Person Transaction Date  \\\n",
       "0  DTB-716-679-576   1448         100001           In-Person           Monday   \n",
       "1   DS-795-814-303   7839         100001           In-Person        Wednesday   \n",
       "2  DSB-807-592-406   5520         100005              Online           Friday   \n",
       "3   DS-367-545-264   7957         100007           In-Person           Friday   \n",
       "4  DSB-474-374-857   5375         100000           In-Person         Saturday   \n",
       "\n",
       "  Bank  \n",
       "0  DTB  \n",
       "1   DS  \n",
       "2  DSB  \n",
       "3   DS  \n",
       "4  DSB  "
      ]
     },
     "execution_count": 181,
     "metadata": {},
     "output_type": "execute_result"
    }
   ],
   "source": [
    "df.head()"
   ]
  },
  {
   "cell_type": "markdown",
   "id": "5a851643-a3c1-486f-aa0e-50d72f414279",
   "metadata": {},
   "source": [
    "## Three outputs required"
   ]
  },
  {
   "cell_type": "markdown",
   "id": "91893605-d7fe-4ee4-b356-3b0e89afe1da",
   "metadata": {},
   "source": [
    "### Output 1: total values of transactions by each bank"
   ]
  },
  {
   "cell_type": "code",
   "execution_count": 182,
   "id": "a75d0eb5-f859-4f34-8284-5c7ae09022a8",
   "metadata": {
    "tags": []
   },
   "outputs": [],
   "source": [
    "df1 = df.groupby('Bank')['Value'].sum()"
   ]
  },
  {
   "cell_type": "code",
   "execution_count": 183,
   "id": "ca9e5682-a9a6-48a4-8773-4e500523c690",
   "metadata": {
    "tags": []
   },
   "outputs": [
    {
     "data": {
      "text/plain": [
       "Bank\n",
       "DS     653940\n",
       "DSB    530489\n",
       "DTB    618238\n",
       "Name: Value, dtype: int64"
      ]
     },
     "execution_count": 183,
     "metadata": {},
     "output_type": "execute_result"
    }
   ],
   "source": [
    "df1"
   ]
  },
  {
   "cell_type": "code",
   "execution_count": 54,
   "id": "dcc14517-b969-4ca6-a5e3-f8d711395ea3",
   "metadata": {
    "tags": []
   },
   "outputs": [],
   "source": [
    "df1.to_csv('2023W01_output_1.csv')"
   ]
  },
  {
   "cell_type": "markdown",
   "id": "a5ac5c32-5103-46cd-8fac-ea2b4f29a76f",
   "metadata": {},
   "source": [
    "### Output 2: Total Values by Bank, Day of the Week and Type of Transaction"
   ]
  },
  {
   "cell_type": "code",
   "execution_count": 184,
   "id": "e4fc452b-15ae-4256-bb54-2f26e5fa18ab",
   "metadata": {
    "tags": []
   },
   "outputs": [],
   "source": [
    "df2 = df.groupby(['Bank', 'Online or In-Person', 'Transaction Date'])['Value'].sum()"
   ]
  },
  {
   "cell_type": "code",
   "execution_count": 185,
   "id": "0d0e114f-25d8-428b-a573-bf604484c6b4",
   "metadata": {
    "tags": []
   },
   "outputs": [
    {
     "data": {
      "text/plain": [
       "Bank  Online or In-Person  Transaction Date\n",
       "DS    In-Person            Friday              58599\n",
       "                           Monday              42806\n",
       "                           Saturday            34867\n",
       "                           Sunday              51301\n",
       "                           Thursday            75582\n",
       "                           Tuesday             32607\n",
       "                           Wednesday           63686\n",
       "      Online               Friday              58731\n",
       "                           Monday              33563\n",
       "                           Saturday            71357\n",
       "                           Sunday              21761\n",
       "                           Thursday            13337\n",
       "                           Tuesday             36639\n",
       "                           Wednesday           59104\n",
       "DSB   In-Person            Friday               9402\n",
       "                           Monday              43546\n",
       "                           Saturday            72679\n",
       "                           Sunday              37755\n",
       "                           Thursday            37567\n",
       "                           Tuesday             28604\n",
       "                           Wednesday           36069\n",
       "      Online               Friday              45647\n",
       "                           Monday              31692\n",
       "                           Saturday            61350\n",
       "                           Sunday              13086\n",
       "                           Thursday            33463\n",
       "                           Tuesday             32257\n",
       "                           Wednesday           47372\n",
       "DTB   In-Person            Friday              41861\n",
       "                           Monday              21561\n",
       "                           Saturday            66334\n",
       "                           Sunday              29468\n",
       "                           Thursday            57605\n",
       "                           Tuesday             54029\n",
       "                           Wednesday           52819\n",
       "      Online               Friday              27366\n",
       "                           Monday              38688\n",
       "                           Saturday            21392\n",
       "                           Sunday              49087\n",
       "                           Thursday            53756\n",
       "                           Tuesday             68959\n",
       "                           Wednesday           35313\n",
       "Name: Value, dtype: int64"
      ]
     },
     "execution_count": 185,
     "metadata": {},
     "output_type": "execute_result"
    }
   ],
   "source": [
    "df2"
   ]
  },
  {
   "cell_type": "code",
   "execution_count": 118,
   "id": "2cdd1c12-8384-4ea9-8d9e-363d1fab8ebe",
   "metadata": {
    "tags": []
   },
   "outputs": [],
   "source": [
    "df2.to_csv('2023W01_output_2.csv')"
   ]
  },
  {
   "cell_type": "markdown",
   "id": "7fb72496-92d5-4290-bb59-ca34fd69b97b",
   "metadata": {},
   "source": [
    "### Output 3: total values by Bank and Customer Code"
   ]
  },
  {
   "cell_type": "code",
   "execution_count": 186,
   "id": "7d3b1ee1-e339-40e5-a0b5-5b36f8cb1f0d",
   "metadata": {
    "tags": []
   },
   "outputs": [],
   "source": [
    "df3 = df.groupby(['Bank', 'Customer Code'])['Value'].sum()"
   ]
  },
  {
   "cell_type": "code",
   "execution_count": 187,
   "id": "afc02f54-5d66-4ac2-bc19-c9b70db4551d",
   "metadata": {
    "tags": []
   },
   "outputs": [
    {
     "data": {
      "text/plain": [
       "Bank  Customer Code\n",
       "DS    100000           57909\n",
       "      100001           53063\n",
       "      100002           69803\n",
       "      100003           25482\n",
       "      100004           63315\n",
       "      100005           39668\n",
       "      100006           77636\n",
       "      100007           76190\n",
       "      100008           56400\n",
       "      100009           56581\n",
       "      100010           77893\n",
       "DSB   100000           27585\n",
       "      100001           67856\n",
       "      100002           27936\n",
       "      100003           58154\n",
       "      100004           39003\n",
       "      100005           56396\n",
       "      100006           32333\n",
       "      100007           29702\n",
       "      100008           47121\n",
       "      100009           51749\n",
       "      100010           92654\n",
       "DTB   100000           77252\n",
       "      100001           60675\n",
       "      100002           48616\n",
       "      100003           84574\n",
       "      100004           44435\n",
       "      100005           37795\n",
       "      100006           41909\n",
       "      100007           29308\n",
       "      100008           69352\n",
       "      100009           52926\n",
       "      100010           71396\n",
       "Name: Value, dtype: int64"
      ]
     },
     "execution_count": 187,
     "metadata": {},
     "output_type": "execute_result"
    }
   ],
   "source": [
    "df3"
   ]
  },
  {
   "cell_type": "code",
   "execution_count": 91,
   "id": "e4d028cd-ddfd-4ff7-af40-9f8ce0fdd98c",
   "metadata": {
    "tags": []
   },
   "outputs": [],
   "source": [
    "df3.to_csv('2023W01_output_3.csv')"
   ]
  }
 ],
 "metadata": {
  "kernelspec": {
   "display_name": "Python 3 (ipykernel)",
   "language": "python",
   "name": "python3"
  },
  "language_info": {
   "codemirror_mode": {
    "name": "ipython",
    "version": 3
   },
   "file_extension": ".py",
   "mimetype": "text/x-python",
   "name": "python",
   "nbconvert_exporter": "python",
   "pygments_lexer": "ipython3",
   "version": "3.11.2"
  }
 },
 "nbformat": 4,
 "nbformat_minor": 5
}
