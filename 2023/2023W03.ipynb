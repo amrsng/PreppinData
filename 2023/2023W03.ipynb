{
 "cells": [
  {
   "cell_type": "markdown",
   "id": "d1b361f0-52c3-4694-80c4-48e1538f1d87",
   "metadata": {},
   "source": [
    "# Preppin Data 2023 W03"
   ]
  },
  {
   "cell_type": "markdown",
   "id": "7db74e94-c028-4066-b7cf-7e18d215a7e3",
   "metadata": {},
   "source": [
    "source: https://preppindata.blogspot.com/2023/01/2023-week-3-targets-for-dsb.html"
   ]
  },
  {
   "cell_type": "markdown",
   "id": "e2072ca4-04f9-4bb7-a89a-9c060eb1380d",
   "metadata": {},
   "source": [
    "### Load data"
   ]
  },
  {
   "cell_type": "code",
   "execution_count": 97,
   "id": "02479ff7-fe62-47c1-9075-222069a85001",
   "metadata": {
    "tags": []
   },
   "outputs": [],
   "source": [
    "import pandas as pd\n",
    "import datetime as dt"
   ]
  },
  {
   "cell_type": "code",
   "execution_count": 98,
   "id": "5a543212-6f70-455c-88ae-a89120f94be1",
   "metadata": {
    "tags": []
   },
   "outputs": [],
   "source": [
    "txn = pd.read_csv('PD 2023 Wk 1 Input.csv')"
   ]
  },
  {
   "cell_type": "code",
   "execution_count": 99,
   "id": "a067a661-9433-47c2-850d-82c0a38689d3",
   "metadata": {
    "tags": []
   },
   "outputs": [],
   "source": [
    "tgt = pd.read_csv('Targets.csv')"
   ]
  },
  {
   "cell_type": "markdown",
   "id": "489d0090-d23c-4aa4-bac4-ce567c1fad64",
   "metadata": {},
   "source": [
    "### Filter transactions to DSB"
   ]
  },
  {
   "cell_type": "code",
   "execution_count": 100,
   "id": "546f82ff-75d3-44d6-a3a9-c19a455c7769",
   "metadata": {
    "tags": []
   },
   "outputs": [],
   "source": [
    "df = txn[txn['Transaction Code'].str.contains('DSB')]"
   ]
  },
  {
   "cell_type": "code",
   "execution_count": 101,
   "id": "ef907ded-1b0d-407a-b4ed-02fc640cae44",
   "metadata": {
    "tags": []
   },
   "outputs": [
    {
     "data": {
      "text/html": [
       "<div>\n",
       "<style scoped>\n",
       "    .dataframe tbody tr th:only-of-type {\n",
       "        vertical-align: middle;\n",
       "    }\n",
       "\n",
       "    .dataframe tbody tr th {\n",
       "        vertical-align: top;\n",
       "    }\n",
       "\n",
       "    .dataframe thead th {\n",
       "        text-align: right;\n",
       "    }\n",
       "</style>\n",
       "<table border=\"1\" class=\"dataframe\">\n",
       "  <thead>\n",
       "    <tr style=\"text-align: right;\">\n",
       "      <th></th>\n",
       "      <th>Transaction Code</th>\n",
       "      <th>Value</th>\n",
       "      <th>Customer Code</th>\n",
       "      <th>Online or In-Person</th>\n",
       "      <th>Transaction Date</th>\n",
       "    </tr>\n",
       "  </thead>\n",
       "  <tbody>\n",
       "    <tr>\n",
       "      <th>2</th>\n",
       "      <td>DSB-807-592-406</td>\n",
       "      <td>5520</td>\n",
       "      <td>100005</td>\n",
       "      <td>1</td>\n",
       "      <td>14/07/2023 00:00:00</td>\n",
       "    </tr>\n",
       "    <tr>\n",
       "      <th>4</th>\n",
       "      <td>DSB-474-374-857</td>\n",
       "      <td>5375</td>\n",
       "      <td>100000</td>\n",
       "      <td>2</td>\n",
       "      <td>26/08/2023 00:00:00</td>\n",
       "    </tr>\n",
       "    <tr>\n",
       "      <th>5</th>\n",
       "      <td>DSB-448-546-348</td>\n",
       "      <td>4525</td>\n",
       "      <td>100009</td>\n",
       "      <td>1</td>\n",
       "      <td>27/05/2023 00:00:00</td>\n",
       "    </tr>\n",
       "    <tr>\n",
       "      <th>11</th>\n",
       "      <td>DSB-422-218-322</td>\n",
       "      <td>118</td>\n",
       "      <td>100010</td>\n",
       "      <td>1</td>\n",
       "      <td>12/05/2023 00:00:00</td>\n",
       "    </tr>\n",
       "    <tr>\n",
       "      <th>12</th>\n",
       "      <td>DSB-669-227-170</td>\n",
       "      <td>830</td>\n",
       "      <td>100001</td>\n",
       "      <td>1</td>\n",
       "      <td>15/04/2023 00:00:00</td>\n",
       "    </tr>\n",
       "  </tbody>\n",
       "</table>\n",
       "</div>"
      ],
      "text/plain": [
       "   Transaction Code  Value  Customer Code  Online or In-Person  \\\n",
       "2   DSB-807-592-406   5520         100005                    1   \n",
       "4   DSB-474-374-857   5375         100000                    2   \n",
       "5   DSB-448-546-348   4525         100009                    1   \n",
       "11  DSB-422-218-322    118         100010                    1   \n",
       "12  DSB-669-227-170    830         100001                    1   \n",
       "\n",
       "       Transaction Date  \n",
       "2   14/07/2023 00:00:00  \n",
       "4   26/08/2023 00:00:00  \n",
       "5   27/05/2023 00:00:00  \n",
       "11  12/05/2023 00:00:00  \n",
       "12  15/04/2023 00:00:00  "
      ]
     },
     "execution_count": 101,
     "metadata": {},
     "output_type": "execute_result"
    }
   ],
   "source": [
    "df.head()"
   ]
  },
  {
   "cell_type": "markdown",
   "id": "4af6696e-72ca-4f27-86f7-6dd3aeb0a5c8",
   "metadata": {},
   "source": [
    "### Add values for online or in-person"
   ]
  },
  {
   "cell_type": "code",
   "execution_count": 102,
   "id": "23314181-fca0-414c-9555-76433e75a989",
   "metadata": {
    "tags": []
   },
   "outputs": [
    {
     "name": "stderr",
     "output_type": "stream",
     "text": [
      "C:\\Users\\amar\\AppData\\Local\\Temp\\ipykernel_13036\\1993348434.py:1: SettingWithCopyWarning: \n",
      "A value is trying to be set on a copy of a slice from a DataFrame.\n",
      "Try using .loc[row_indexer,col_indexer] = value instead\n",
      "\n",
      "See the caveats in the documentation: https://pandas.pydata.org/pandas-docs/stable/user_guide/indexing.html#returning-a-view-versus-a-copy\n",
      "  df['Online or In-Person'] = df['Online or In-Person'].replace({1:'Online',2:'In-Person'})\n"
     ]
    }
   ],
   "source": [
    "df['Online or In-Person'] = df['Online or In-Person'].replace({1:'Online',2:'In-Person'})"
   ]
  },
  {
   "cell_type": "code",
   "execution_count": 103,
   "id": "f54687e2-f82a-4e66-b2ea-784ea0dc8605",
   "metadata": {
    "tags": []
   },
   "outputs": [
    {
     "data": {
      "text/html": [
       "<div>\n",
       "<style scoped>\n",
       "    .dataframe tbody tr th:only-of-type {\n",
       "        vertical-align: middle;\n",
       "    }\n",
       "\n",
       "    .dataframe tbody tr th {\n",
       "        vertical-align: top;\n",
       "    }\n",
       "\n",
       "    .dataframe thead th {\n",
       "        text-align: right;\n",
       "    }\n",
       "</style>\n",
       "<table border=\"1\" class=\"dataframe\">\n",
       "  <thead>\n",
       "    <tr style=\"text-align: right;\">\n",
       "      <th></th>\n",
       "      <th>Transaction Code</th>\n",
       "      <th>Value</th>\n",
       "      <th>Customer Code</th>\n",
       "      <th>Online or In-Person</th>\n",
       "      <th>Transaction Date</th>\n",
       "    </tr>\n",
       "  </thead>\n",
       "  <tbody>\n",
       "    <tr>\n",
       "      <th>2</th>\n",
       "      <td>DSB-807-592-406</td>\n",
       "      <td>5520</td>\n",
       "      <td>100005</td>\n",
       "      <td>Online</td>\n",
       "      <td>14/07/2023 00:00:00</td>\n",
       "    </tr>\n",
       "    <tr>\n",
       "      <th>4</th>\n",
       "      <td>DSB-474-374-857</td>\n",
       "      <td>5375</td>\n",
       "      <td>100000</td>\n",
       "      <td>In-Person</td>\n",
       "      <td>26/08/2023 00:00:00</td>\n",
       "    </tr>\n",
       "    <tr>\n",
       "      <th>5</th>\n",
       "      <td>DSB-448-546-348</td>\n",
       "      <td>4525</td>\n",
       "      <td>100009</td>\n",
       "      <td>Online</td>\n",
       "      <td>27/05/2023 00:00:00</td>\n",
       "    </tr>\n",
       "    <tr>\n",
       "      <th>11</th>\n",
       "      <td>DSB-422-218-322</td>\n",
       "      <td>118</td>\n",
       "      <td>100010</td>\n",
       "      <td>Online</td>\n",
       "      <td>12/05/2023 00:00:00</td>\n",
       "    </tr>\n",
       "    <tr>\n",
       "      <th>12</th>\n",
       "      <td>DSB-669-227-170</td>\n",
       "      <td>830</td>\n",
       "      <td>100001</td>\n",
       "      <td>Online</td>\n",
       "      <td>15/04/2023 00:00:00</td>\n",
       "    </tr>\n",
       "  </tbody>\n",
       "</table>\n",
       "</div>"
      ],
      "text/plain": [
       "   Transaction Code  Value  Customer Code Online or In-Person  \\\n",
       "2   DSB-807-592-406   5520         100005              Online   \n",
       "4   DSB-474-374-857   5375         100000           In-Person   \n",
       "5   DSB-448-546-348   4525         100009              Online   \n",
       "11  DSB-422-218-322    118         100010              Online   \n",
       "12  DSB-669-227-170    830         100001              Online   \n",
       "\n",
       "       Transaction Date  \n",
       "2   14/07/2023 00:00:00  \n",
       "4   26/08/2023 00:00:00  \n",
       "5   27/05/2023 00:00:00  \n",
       "11  12/05/2023 00:00:00  \n",
       "12  15/04/2023 00:00:00  "
      ]
     },
     "execution_count": 103,
     "metadata": {},
     "output_type": "execute_result"
    }
   ],
   "source": [
    "df.head()"
   ]
  },
  {
   "cell_type": "markdown",
   "id": "c22a7aee-6510-46ed-9313-dcf6ae71374f",
   "metadata": {},
   "source": [
    "### Change date to be quarter"
   ]
  },
  {
   "cell_type": "code",
   "execution_count": 104,
   "id": "e976cb22-8d17-4cab-9b91-c2754a095dfe",
   "metadata": {
    "tags": []
   },
   "outputs": [
    {
     "name": "stderr",
     "output_type": "stream",
     "text": [
      "C:\\Users\\amar\\AppData\\Local\\Temp\\ipykernel_13036\\2300362314.py:1: SettingWithCopyWarning: \n",
      "A value is trying to be set on a copy of a slice from a DataFrame.\n",
      "Try using .loc[row_indexer,col_indexer] = value instead\n",
      "\n",
      "See the caveats in the documentation: https://pandas.pydata.org/pandas-docs/stable/user_guide/indexing.html#returning-a-view-versus-a-copy\n",
      "  df['Transaction Date'] = pd.to_datetime(df['Transaction Date'], dayfirst=True)\n"
     ]
    }
   ],
   "source": [
    "df['Transaction Date'] = pd.to_datetime(df['Transaction Date'], dayfirst=True)"
   ]
  },
  {
   "cell_type": "code",
   "execution_count": 105,
   "id": "1ded2b85-5322-478e-ab9d-fa6f87b9d33b",
   "metadata": {
    "tags": []
   },
   "outputs": [
    {
     "name": "stderr",
     "output_type": "stream",
     "text": [
      "C:\\Users\\amar\\AppData\\Local\\Temp\\ipykernel_13036\\3176987397.py:1: SettingWithCopyWarning: \n",
      "A value is trying to be set on a copy of a slice from a DataFrame.\n",
      "Try using .loc[row_indexer,col_indexer] = value instead\n",
      "\n",
      "See the caveats in the documentation: https://pandas.pydata.org/pandas-docs/stable/user_guide/indexing.html#returning-a-view-versus-a-copy\n",
      "  df['Transaction Date'] = df['Transaction Date'].dt.quarter\n"
     ]
    }
   ],
   "source": [
    "df['Transaction Date'] = df['Transaction Date'].dt.quarter"
   ]
  },
  {
   "cell_type": "code",
   "execution_count": 106,
   "id": "09200b19-ae4e-458b-9015-c05e498586fa",
   "metadata": {
    "tags": []
   },
   "outputs": [],
   "source": [
    "df = df.rename(columns={'Transaction Date':'Quarter'})"
   ]
  },
  {
   "cell_type": "code",
   "execution_count": 107,
   "id": "e32614a6-81b5-4453-8332-bae273f89488",
   "metadata": {
    "tags": []
   },
   "outputs": [
    {
     "data": {
      "text/html": [
       "<div>\n",
       "<style scoped>\n",
       "    .dataframe tbody tr th:only-of-type {\n",
       "        vertical-align: middle;\n",
       "    }\n",
       "\n",
       "    .dataframe tbody tr th {\n",
       "        vertical-align: top;\n",
       "    }\n",
       "\n",
       "    .dataframe thead th {\n",
       "        text-align: right;\n",
       "    }\n",
       "</style>\n",
       "<table border=\"1\" class=\"dataframe\">\n",
       "  <thead>\n",
       "    <tr style=\"text-align: right;\">\n",
       "      <th></th>\n",
       "      <th>Transaction Code</th>\n",
       "      <th>Value</th>\n",
       "      <th>Customer Code</th>\n",
       "      <th>Online or In-Person</th>\n",
       "      <th>Quarter</th>\n",
       "    </tr>\n",
       "  </thead>\n",
       "  <tbody>\n",
       "    <tr>\n",
       "      <th>2</th>\n",
       "      <td>DSB-807-592-406</td>\n",
       "      <td>5520</td>\n",
       "      <td>100005</td>\n",
       "      <td>Online</td>\n",
       "      <td>3</td>\n",
       "    </tr>\n",
       "    <tr>\n",
       "      <th>4</th>\n",
       "      <td>DSB-474-374-857</td>\n",
       "      <td>5375</td>\n",
       "      <td>100000</td>\n",
       "      <td>In-Person</td>\n",
       "      <td>3</td>\n",
       "    </tr>\n",
       "    <tr>\n",
       "      <th>5</th>\n",
       "      <td>DSB-448-546-348</td>\n",
       "      <td>4525</td>\n",
       "      <td>100009</td>\n",
       "      <td>Online</td>\n",
       "      <td>2</td>\n",
       "    </tr>\n",
       "    <tr>\n",
       "      <th>11</th>\n",
       "      <td>DSB-422-218-322</td>\n",
       "      <td>118</td>\n",
       "      <td>100010</td>\n",
       "      <td>Online</td>\n",
       "      <td>2</td>\n",
       "    </tr>\n",
       "    <tr>\n",
       "      <th>12</th>\n",
       "      <td>DSB-669-227-170</td>\n",
       "      <td>830</td>\n",
       "      <td>100001</td>\n",
       "      <td>Online</td>\n",
       "      <td>2</td>\n",
       "    </tr>\n",
       "  </tbody>\n",
       "</table>\n",
       "</div>"
      ],
      "text/plain": [
       "   Transaction Code  Value  Customer Code Online or In-Person  Quarter\n",
       "2   DSB-807-592-406   5520         100005              Online        3\n",
       "4   DSB-474-374-857   5375         100000           In-Person        3\n",
       "5   DSB-448-546-348   4525         100009              Online        2\n",
       "11  DSB-422-218-322    118         100010              Online        2\n",
       "12  DSB-669-227-170    830         100001              Online        2"
      ]
     },
     "execution_count": 107,
     "metadata": {},
     "output_type": "execute_result"
    }
   ],
   "source": [
    "df.head()"
   ]
  },
  {
   "cell_type": "markdown",
   "id": "f6f7f71a-4966-4dab-82e1-cf59ae3f0934",
   "metadata": {},
   "source": [
    "### Sum values by quarter"
   ]
  },
  {
   "cell_type": "code",
   "execution_count": 108,
   "id": "57b1788d-a525-48e8-a5ff-b676cc521764",
   "metadata": {
    "tags": []
   },
   "outputs": [],
   "source": [
    "df = df.drop(['Transaction Code','Customer Code'], axis=1)"
   ]
  },
  {
   "cell_type": "code",
   "execution_count": 109,
   "id": "4eec7114-dab2-4b26-9b47-82aeb2a6de43",
   "metadata": {
    "tags": []
   },
   "outputs": [],
   "source": [
    "df = df.groupby(['Online or In-Person','Quarter']).sum()"
   ]
  },
  {
   "cell_type": "code",
   "execution_count": 110,
   "id": "717eef26-f6b1-42b3-9584-55453faac633",
   "metadata": {
    "tags": []
   },
   "outputs": [
    {
     "data": {
      "text/html": [
       "<div>\n",
       "<style scoped>\n",
       "    .dataframe tbody tr th:only-of-type {\n",
       "        vertical-align: middle;\n",
       "    }\n",
       "\n",
       "    .dataframe tbody tr th {\n",
       "        vertical-align: top;\n",
       "    }\n",
       "\n",
       "    .dataframe thead th {\n",
       "        text-align: right;\n",
       "    }\n",
       "</style>\n",
       "<table border=\"1\" class=\"dataframe\">\n",
       "  <thead>\n",
       "    <tr style=\"text-align: right;\">\n",
       "      <th></th>\n",
       "      <th></th>\n",
       "      <th>Value</th>\n",
       "    </tr>\n",
       "    <tr>\n",
       "      <th>Online or In-Person</th>\n",
       "      <th>Quarter</th>\n",
       "      <th></th>\n",
       "    </tr>\n",
       "  </thead>\n",
       "  <tbody>\n",
       "    <tr>\n",
       "      <th rowspan=\"4\" valign=\"top\">In-Person</th>\n",
       "      <th>1</th>\n",
       "      <td>77576</td>\n",
       "    </tr>\n",
       "    <tr>\n",
       "      <th>2</th>\n",
       "      <td>70634</td>\n",
       "    </tr>\n",
       "    <tr>\n",
       "      <th>3</th>\n",
       "      <td>74189</td>\n",
       "    </tr>\n",
       "    <tr>\n",
       "      <th>4</th>\n",
       "      <td>43223</td>\n",
       "    </tr>\n",
       "    <tr>\n",
       "      <th>Online</th>\n",
       "      <th>1</th>\n",
       "      <td>74562</td>\n",
       "    </tr>\n",
       "  </tbody>\n",
       "</table>\n",
       "</div>"
      ],
      "text/plain": [
       "                             Value\n",
       "Online or In-Person Quarter       \n",
       "In-Person           1        77576\n",
       "                    2        70634\n",
       "                    3        74189\n",
       "                    4        43223\n",
       "Online              1        74562"
      ]
     },
     "execution_count": 110,
     "metadata": {},
     "output_type": "execute_result"
    }
   ],
   "source": [
    "df.head()"
   ]
  },
  {
   "cell_type": "markdown",
   "id": "aec454ce-5432-43c6-bb8d-10fad65aff3b",
   "metadata": {},
   "source": [
    "### Unpivot targets"
   ]
  },
  {
   "cell_type": "code",
   "execution_count": 111,
   "id": "fb5ef295-03cf-496e-97c3-21db49365f0a",
   "metadata": {
    "tags": []
   },
   "outputs": [
    {
     "data": {
      "text/html": [
       "<div>\n",
       "<style scoped>\n",
       "    .dataframe tbody tr th:only-of-type {\n",
       "        vertical-align: middle;\n",
       "    }\n",
       "\n",
       "    .dataframe tbody tr th {\n",
       "        vertical-align: top;\n",
       "    }\n",
       "\n",
       "    .dataframe thead th {\n",
       "        text-align: right;\n",
       "    }\n",
       "</style>\n",
       "<table border=\"1\" class=\"dataframe\">\n",
       "  <thead>\n",
       "    <tr style=\"text-align: right;\">\n",
       "      <th></th>\n",
       "      <th>Online or In-Person</th>\n",
       "      <th>Q1</th>\n",
       "      <th>Q2</th>\n",
       "      <th>Q3</th>\n",
       "      <th>Q4</th>\n",
       "    </tr>\n",
       "  </thead>\n",
       "  <tbody>\n",
       "    <tr>\n",
       "      <th>0</th>\n",
       "      <td>Online</td>\n",
       "      <td>72500</td>\n",
       "      <td>70000</td>\n",
       "      <td>60000</td>\n",
       "      <td>60000</td>\n",
       "    </tr>\n",
       "    <tr>\n",
       "      <th>1</th>\n",
       "      <td>In-Person</td>\n",
       "      <td>75000</td>\n",
       "      <td>70000</td>\n",
       "      <td>70000</td>\n",
       "      <td>60000</td>\n",
       "    </tr>\n",
       "  </tbody>\n",
       "</table>\n",
       "</div>"
      ],
      "text/plain": [
       "  Online or In-Person     Q1     Q2     Q3     Q4\n",
       "0              Online  72500  70000  60000  60000\n",
       "1           In-Person  75000  70000  70000  60000"
      ]
     },
     "execution_count": 111,
     "metadata": {},
     "output_type": "execute_result"
    }
   ],
   "source": [
    "tgt.head()"
   ]
  },
  {
   "cell_type": "code",
   "execution_count": 112,
   "id": "8021bb6f-84e3-4864-8e90-a7abd2e4a158",
   "metadata": {
    "tags": []
   },
   "outputs": [],
   "source": [
    "df_tgt = pd.melt(tgt, id_vars=['Online or In-Person'], var_name='Quarter', value_name='Quarterly Targets')"
   ]
  },
  {
   "cell_type": "code",
   "execution_count": 113,
   "id": "d8346242-a4eb-479b-a5b3-2d1cbc3b80b7",
   "metadata": {
    "tags": []
   },
   "outputs": [
    {
     "data": {
      "text/html": [
       "<div>\n",
       "<style scoped>\n",
       "    .dataframe tbody tr th:only-of-type {\n",
       "        vertical-align: middle;\n",
       "    }\n",
       "\n",
       "    .dataframe tbody tr th {\n",
       "        vertical-align: top;\n",
       "    }\n",
       "\n",
       "    .dataframe thead th {\n",
       "        text-align: right;\n",
       "    }\n",
       "</style>\n",
       "<table border=\"1\" class=\"dataframe\">\n",
       "  <thead>\n",
       "    <tr style=\"text-align: right;\">\n",
       "      <th></th>\n",
       "      <th>Online or In-Person</th>\n",
       "      <th>Quarter</th>\n",
       "      <th>Quarterly Targets</th>\n",
       "    </tr>\n",
       "  </thead>\n",
       "  <tbody>\n",
       "    <tr>\n",
       "      <th>0</th>\n",
       "      <td>Online</td>\n",
       "      <td>Q1</td>\n",
       "      <td>72500</td>\n",
       "    </tr>\n",
       "    <tr>\n",
       "      <th>1</th>\n",
       "      <td>In-Person</td>\n",
       "      <td>Q1</td>\n",
       "      <td>75000</td>\n",
       "    </tr>\n",
       "    <tr>\n",
       "      <th>2</th>\n",
       "      <td>Online</td>\n",
       "      <td>Q2</td>\n",
       "      <td>70000</td>\n",
       "    </tr>\n",
       "    <tr>\n",
       "      <th>3</th>\n",
       "      <td>In-Person</td>\n",
       "      <td>Q2</td>\n",
       "      <td>70000</td>\n",
       "    </tr>\n",
       "    <tr>\n",
       "      <th>4</th>\n",
       "      <td>Online</td>\n",
       "      <td>Q3</td>\n",
       "      <td>60000</td>\n",
       "    </tr>\n",
       "  </tbody>\n",
       "</table>\n",
       "</div>"
      ],
      "text/plain": [
       "  Online or In-Person Quarter  Quarterly Targets\n",
       "0              Online      Q1              72500\n",
       "1           In-Person      Q1              75000\n",
       "2              Online      Q2              70000\n",
       "3           In-Person      Q2              70000\n",
       "4              Online      Q3              60000"
      ]
     },
     "execution_count": 113,
     "metadata": {},
     "output_type": "execute_result"
    }
   ],
   "source": [
    "df_tgt.head()"
   ]
  },
  {
   "cell_type": "markdown",
   "id": "e58447f0-a7e2-4713-bf2e-565d2c0b04d1",
   "metadata": {},
   "source": [
    "### Remove letter Q from quarter"
   ]
  },
  {
   "cell_type": "code",
   "execution_count": 114,
   "id": "36e79d15-0435-4bea-bf2e-41d4c94a66cf",
   "metadata": {
    "tags": []
   },
   "outputs": [],
   "source": [
    "df_tgt['Quarter'] = df_tgt['Quarter'].str.replace('Q','')"
   ]
  },
  {
   "cell_type": "code",
   "execution_count": 115,
   "id": "3d074be1-3c1b-4c17-9bc2-7ef42949d0dd",
   "metadata": {
    "tags": []
   },
   "outputs": [],
   "source": [
    "df_tgt['Quarter'] = df_tgt['Quarter'].astype(int)"
   ]
  },
  {
   "cell_type": "code",
   "execution_count": 116,
   "id": "5af26bcf-7516-42d8-8240-a0019adf8e2a",
   "metadata": {
    "tags": []
   },
   "outputs": [
    {
     "data": {
      "text/html": [
       "<div>\n",
       "<style scoped>\n",
       "    .dataframe tbody tr th:only-of-type {\n",
       "        vertical-align: middle;\n",
       "    }\n",
       "\n",
       "    .dataframe tbody tr th {\n",
       "        vertical-align: top;\n",
       "    }\n",
       "\n",
       "    .dataframe thead th {\n",
       "        text-align: right;\n",
       "    }\n",
       "</style>\n",
       "<table border=\"1\" class=\"dataframe\">\n",
       "  <thead>\n",
       "    <tr style=\"text-align: right;\">\n",
       "      <th></th>\n",
       "      <th>Online or In-Person</th>\n",
       "      <th>Quarter</th>\n",
       "      <th>Quarterly Targets</th>\n",
       "    </tr>\n",
       "  </thead>\n",
       "  <tbody>\n",
       "    <tr>\n",
       "      <th>0</th>\n",
       "      <td>Online</td>\n",
       "      <td>1</td>\n",
       "      <td>72500</td>\n",
       "    </tr>\n",
       "    <tr>\n",
       "      <th>1</th>\n",
       "      <td>In-Person</td>\n",
       "      <td>1</td>\n",
       "      <td>75000</td>\n",
       "    </tr>\n",
       "    <tr>\n",
       "      <th>2</th>\n",
       "      <td>Online</td>\n",
       "      <td>2</td>\n",
       "      <td>70000</td>\n",
       "    </tr>\n",
       "    <tr>\n",
       "      <th>3</th>\n",
       "      <td>In-Person</td>\n",
       "      <td>2</td>\n",
       "      <td>70000</td>\n",
       "    </tr>\n",
       "    <tr>\n",
       "      <th>4</th>\n",
       "      <td>Online</td>\n",
       "      <td>3</td>\n",
       "      <td>60000</td>\n",
       "    </tr>\n",
       "  </tbody>\n",
       "</table>\n",
       "</div>"
      ],
      "text/plain": [
       "  Online or In-Person  Quarter  Quarterly Targets\n",
       "0              Online        1              72500\n",
       "1           In-Person        1              75000\n",
       "2              Online        2              70000\n",
       "3           In-Person        2              70000\n",
       "4              Online        3              60000"
      ]
     },
     "execution_count": 116,
     "metadata": {},
     "output_type": "execute_result"
    }
   ],
   "source": [
    "df_tgt.head()"
   ]
  },
  {
   "cell_type": "markdown",
   "id": "6f433f55-41fd-4b1e-a0c3-e272d5ba8d9c",
   "metadata": {},
   "source": [
    "### Join datasets"
   ]
  },
  {
   "cell_type": "code",
   "execution_count": 117,
   "id": "a134f271-3712-45fd-a206-efd8942e50bb",
   "metadata": {
    "tags": []
   },
   "outputs": [],
   "source": [
    "df_dsb = pd.merge(df, df_tgt, on=['Online or In-Person','Quarter'], how='left')"
   ]
  },
  {
   "cell_type": "code",
   "execution_count": 118,
   "id": "59868c5c-2efc-4d54-b067-c77675c3aea6",
   "metadata": {
    "tags": []
   },
   "outputs": [
    {
     "data": {
      "text/html": [
       "<div>\n",
       "<style scoped>\n",
       "    .dataframe tbody tr th:only-of-type {\n",
       "        vertical-align: middle;\n",
       "    }\n",
       "\n",
       "    .dataframe tbody tr th {\n",
       "        vertical-align: top;\n",
       "    }\n",
       "\n",
       "    .dataframe thead th {\n",
       "        text-align: right;\n",
       "    }\n",
       "</style>\n",
       "<table border=\"1\" class=\"dataframe\">\n",
       "  <thead>\n",
       "    <tr style=\"text-align: right;\">\n",
       "      <th></th>\n",
       "      <th>Online or In-Person</th>\n",
       "      <th>Quarter</th>\n",
       "      <th>Value</th>\n",
       "      <th>Quarterly Targets</th>\n",
       "    </tr>\n",
       "  </thead>\n",
       "  <tbody>\n",
       "    <tr>\n",
       "      <th>0</th>\n",
       "      <td>In-Person</td>\n",
       "      <td>1</td>\n",
       "      <td>77576</td>\n",
       "      <td>75000</td>\n",
       "    </tr>\n",
       "    <tr>\n",
       "      <th>1</th>\n",
       "      <td>In-Person</td>\n",
       "      <td>2</td>\n",
       "      <td>70634</td>\n",
       "      <td>70000</td>\n",
       "    </tr>\n",
       "    <tr>\n",
       "      <th>2</th>\n",
       "      <td>In-Person</td>\n",
       "      <td>3</td>\n",
       "      <td>74189</td>\n",
       "      <td>70000</td>\n",
       "    </tr>\n",
       "    <tr>\n",
       "      <th>3</th>\n",
       "      <td>In-Person</td>\n",
       "      <td>4</td>\n",
       "      <td>43223</td>\n",
       "      <td>60000</td>\n",
       "    </tr>\n",
       "    <tr>\n",
       "      <th>4</th>\n",
       "      <td>Online</td>\n",
       "      <td>1</td>\n",
       "      <td>74562</td>\n",
       "      <td>72500</td>\n",
       "    </tr>\n",
       "  </tbody>\n",
       "</table>\n",
       "</div>"
      ],
      "text/plain": [
       "  Online or In-Person  Quarter  Value  Quarterly Targets\n",
       "0           In-Person        1  77576              75000\n",
       "1           In-Person        2  70634              70000\n",
       "2           In-Person        3  74189              70000\n",
       "3           In-Person        4  43223              60000\n",
       "4              Online        1  74562              72500"
      ]
     },
     "execution_count": 118,
     "metadata": {},
     "output_type": "execute_result"
    }
   ],
   "source": [
    "df_dsb.head()"
   ]
  },
  {
   "cell_type": "markdown",
   "id": "147d9790-f352-4634-9efb-0da07384b313",
   "metadata": {},
   "source": [
    "### Calculate variance"
   ]
  },
  {
   "cell_type": "code",
   "execution_count": 119,
   "id": "33f4a441-d29c-489d-9d9e-07f900ed7022",
   "metadata": {
    "tags": []
   },
   "outputs": [],
   "source": [
    "df_dsb['Variance'] = df_dsb['Value'] - df_dsb['Quarterly Targets']"
   ]
  },
  {
   "cell_type": "code",
   "execution_count": 121,
   "id": "e8330d24-7330-414b-a141-74514978da28",
   "metadata": {
    "tags": []
   },
   "outputs": [
    {
     "data": {
      "text/html": [
       "<div>\n",
       "<style scoped>\n",
       "    .dataframe tbody tr th:only-of-type {\n",
       "        vertical-align: middle;\n",
       "    }\n",
       "\n",
       "    .dataframe tbody tr th {\n",
       "        vertical-align: top;\n",
       "    }\n",
       "\n",
       "    .dataframe thead th {\n",
       "        text-align: right;\n",
       "    }\n",
       "</style>\n",
       "<table border=\"1\" class=\"dataframe\">\n",
       "  <thead>\n",
       "    <tr style=\"text-align: right;\">\n",
       "      <th></th>\n",
       "      <th>Online or In-Person</th>\n",
       "      <th>Quarter</th>\n",
       "      <th>Value</th>\n",
       "      <th>Quarterly Targets</th>\n",
       "      <th>Variance</th>\n",
       "    </tr>\n",
       "  </thead>\n",
       "  <tbody>\n",
       "    <tr>\n",
       "      <th>0</th>\n",
       "      <td>In-Person</td>\n",
       "      <td>1</td>\n",
       "      <td>77576</td>\n",
       "      <td>75000</td>\n",
       "      <td>2576</td>\n",
       "    </tr>\n",
       "    <tr>\n",
       "      <th>1</th>\n",
       "      <td>In-Person</td>\n",
       "      <td>2</td>\n",
       "      <td>70634</td>\n",
       "      <td>70000</td>\n",
       "      <td>634</td>\n",
       "    </tr>\n",
       "    <tr>\n",
       "      <th>2</th>\n",
       "      <td>In-Person</td>\n",
       "      <td>3</td>\n",
       "      <td>74189</td>\n",
       "      <td>70000</td>\n",
       "      <td>4189</td>\n",
       "    </tr>\n",
       "    <tr>\n",
       "      <th>3</th>\n",
       "      <td>In-Person</td>\n",
       "      <td>4</td>\n",
       "      <td>43223</td>\n",
       "      <td>60000</td>\n",
       "      <td>-16777</td>\n",
       "    </tr>\n",
       "    <tr>\n",
       "      <th>4</th>\n",
       "      <td>Online</td>\n",
       "      <td>1</td>\n",
       "      <td>74562</td>\n",
       "      <td>72500</td>\n",
       "      <td>2062</td>\n",
       "    </tr>\n",
       "    <tr>\n",
       "      <th>5</th>\n",
       "      <td>Online</td>\n",
       "      <td>2</td>\n",
       "      <td>69325</td>\n",
       "      <td>70000</td>\n",
       "      <td>-675</td>\n",
       "    </tr>\n",
       "    <tr>\n",
       "      <th>6</th>\n",
       "      <td>Online</td>\n",
       "      <td>3</td>\n",
       "      <td>59072</td>\n",
       "      <td>60000</td>\n",
       "      <td>-928</td>\n",
       "    </tr>\n",
       "    <tr>\n",
       "      <th>7</th>\n",
       "      <td>Online</td>\n",
       "      <td>4</td>\n",
       "      <td>61908</td>\n",
       "      <td>60000</td>\n",
       "      <td>1908</td>\n",
       "    </tr>\n",
       "  </tbody>\n",
       "</table>\n",
       "</div>"
      ],
      "text/plain": [
       "  Online or In-Person  Quarter  Value  Quarterly Targets  Variance\n",
       "0           In-Person        1  77576              75000      2576\n",
       "1           In-Person        2  70634              70000       634\n",
       "2           In-Person        3  74189              70000      4189\n",
       "3           In-Person        4  43223              60000    -16777\n",
       "4              Online        1  74562              72500      2062\n",
       "5              Online        2  69325              70000      -675\n",
       "6              Online        3  59072              60000      -928\n",
       "7              Online        4  61908              60000      1908"
      ]
     },
     "execution_count": 121,
     "metadata": {},
     "output_type": "execute_result"
    }
   ],
   "source": [
    "df_dsb"
   ]
  },
  {
   "cell_type": "markdown",
   "id": "3d1272d5-0899-4c8c-9026-b5857f436789",
   "metadata": {},
   "source": [
    "### Export"
   ]
  },
  {
   "cell_type": "code",
   "execution_count": 123,
   "id": "ae9ae4cb-6a6f-422d-8b8a-4a9e775aa7c8",
   "metadata": {
    "tags": []
   },
   "outputs": [],
   "source": [
    "df_dsb.to_csv('2023W03_output.csv', index=False)"
   ]
  }
 ],
 "metadata": {
  "kernelspec": {
   "display_name": "Python 3 (ipykernel)",
   "language": "python",
   "name": "python3"
  },
  "language_info": {
   "codemirror_mode": {
    "name": "ipython",
    "version": 3
   },
   "file_extension": ".py",
   "mimetype": "text/x-python",
   "name": "python",
   "nbconvert_exporter": "python",
   "pygments_lexer": "ipython3",
   "version": "3.11.2"
  }
 },
 "nbformat": 4,
 "nbformat_minor": 5
}
