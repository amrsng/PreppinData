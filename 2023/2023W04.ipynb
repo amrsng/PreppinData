{
 "cells": [
  {
   "cell_type": "markdown",
   "id": "ed08740b-4c1d-4cc0-8000-3eab9758e39c",
   "metadata": {},
   "source": [
    "# Preppin' Data 2023W04"
   ]
  },
  {
   "cell_type": "markdown",
   "id": "64d1e762-227f-4c12-9898-bac905cc3646",
   "metadata": {
    "tags": []
   },
   "source": [
    "Source: https://preppindata.blogspot.com/2023/01/2023-week-4-new-customers.html"
   ]
  },
  {
   "cell_type": "markdown",
   "id": "c39368e7-f4b2-4a57-abbe-1fe9064aa434",
   "metadata": {},
   "source": [
    "### Load file"
   ]
  },
  {
   "cell_type": "code",
   "execution_count": 132,
   "id": "7c9801f8-bd08-47d9-8256-0c81e1a44ece",
   "metadata": {
    "tags": []
   },
   "outputs": [],
   "source": [
    "import pandas as pd\n",
    "import datetime as dt"
   ]
  },
  {
   "cell_type": "markdown",
   "id": "1b236003-37ed-481c-9a18-2c37a8d2f068",
   "metadata": {},
   "source": [
    "Because some months had different headers, I appended without header names then set the headers based on the January worksheet"
   ]
  },
  {
   "cell_type": "code",
   "execution_count": 76,
   "id": "4714dd9f-b9b5-412e-b8f3-abfa5d7cd97e",
   "metadata": {
    "tags": []
   },
   "outputs": [],
   "source": [
    "#df0 = pd.read_excel('New Customers.xlsx',sheet_name='January')"
   ]
  },
  {
   "cell_type": "code",
   "execution_count": 114,
   "id": "09f22e46-e227-47b0-ad54-2a84e758b60d",
   "metadata": {
    "tags": []
   },
   "outputs": [],
   "source": [
    "#df = pd.concat(pd.read_excel('New Customers.xlsx',sheet_name=None, header=None), ignore_index=True)"
   ]
  },
  {
   "cell_type": "code",
   "execution_count": 110,
   "id": "74e86f7a-6a87-48f3-a59c-8115153100a3",
   "metadata": {
    "tags": []
   },
   "outputs": [],
   "source": [
    "#df.columns[0:3] = df0.columns"
   ]
  },
  {
   "cell_type": "code",
   "execution_count": 137,
   "id": "7898996c-ff22-418f-9577-9c2fff4bf28e",
   "metadata": {
    "tags": []
   },
   "outputs": [],
   "source": [
    "# read file, ignore column headers and sheet names\n",
    "df = pd.read_excel('New Customers.xlsx',sheet_name=None, header=None)"
   ]
  },
  {
   "cell_type": "code",
   "execution_count": 138,
   "id": "e975db14-28c5-40b5-8229-cd920476809b",
   "metadata": {
    "tags": []
   },
   "outputs": [],
   "source": [
    "# add a new column which is the sheet name\n",
    "df = pd.concat([sheet.assign(Month=i) for i, sheet in df.items()])"
   ]
  },
  {
   "cell_type": "code",
   "execution_count": 139,
   "id": "25427778-6130-4aec-aeb2-decaabc8f10e",
   "metadata": {
    "tags": []
   },
   "outputs": [],
   "source": [
    "# rename columns\n",
    "df = df.rename(columns={0:'ID',1:'Joining Day',2:'Demographic',3:'Value'})"
   ]
  },
  {
   "cell_type": "code",
   "execution_count": 140,
   "id": "6ac47ee1-582f-4df0-b11a-f0b54cb0b512",
   "metadata": {
    "tags": []
   },
   "outputs": [],
   "source": [
    "# drop the first row as the column names were not right\n",
    "df = df.iloc[1:]"
   ]
  },
  {
   "cell_type": "code",
   "execution_count": 154,
   "id": "df93f8d5-9d95-4007-a2d2-fc7599cdf7ec",
   "metadata": {
    "tags": []
   },
   "outputs": [
    {
     "data": {
      "text/html": [
       "<div>\n",
       "<style scoped>\n",
       "    .dataframe tbody tr th:only-of-type {\n",
       "        vertical-align: middle;\n",
       "    }\n",
       "\n",
       "    .dataframe tbody tr th {\n",
       "        vertical-align: top;\n",
       "    }\n",
       "\n",
       "    .dataframe thead th {\n",
       "        text-align: right;\n",
       "    }\n",
       "</style>\n",
       "<table border=\"1\" class=\"dataframe\">\n",
       "  <thead>\n",
       "    <tr style=\"text-align: right;\">\n",
       "      <th></th>\n",
       "      <th>ID</th>\n",
       "      <th>Joining Day</th>\n",
       "      <th>Demographic</th>\n",
       "      <th>Value</th>\n",
       "      <th>Month</th>\n",
       "      <th>Year</th>\n",
       "    </tr>\n",
       "  </thead>\n",
       "  <tbody>\n",
       "    <tr>\n",
       "      <th>1</th>\n",
       "      <td>490910</td>\n",
       "      <td>3</td>\n",
       "      <td>Ethnicity</td>\n",
       "      <td>White</td>\n",
       "      <td>1</td>\n",
       "      <td>2023</td>\n",
       "    </tr>\n",
       "    <tr>\n",
       "      <th>2</th>\n",
       "      <td>490910</td>\n",
       "      <td>3</td>\n",
       "      <td>Date of Birth</td>\n",
       "      <td>5/23/1981</td>\n",
       "      <td>1</td>\n",
       "      <td>2023</td>\n",
       "    </tr>\n",
       "    <tr>\n",
       "      <th>3</th>\n",
       "      <td>490910</td>\n",
       "      <td>3</td>\n",
       "      <td>Account Type</td>\n",
       "      <td>Basic</td>\n",
       "      <td>1</td>\n",
       "      <td>2023</td>\n",
       "    </tr>\n",
       "    <tr>\n",
       "      <th>4</th>\n",
       "      <td>369221</td>\n",
       "      <td>18</td>\n",
       "      <td>Ethnicity</td>\n",
       "      <td>Black</td>\n",
       "      <td>1</td>\n",
       "      <td>2023</td>\n",
       "    </tr>\n",
       "    <tr>\n",
       "      <th>5</th>\n",
       "      <td>369221</td>\n",
       "      <td>18</td>\n",
       "      <td>Date of Birth</td>\n",
       "      <td>3/4/2019</td>\n",
       "      <td>1</td>\n",
       "      <td>2023</td>\n",
       "    </tr>\n",
       "    <tr>\n",
       "      <th>...</th>\n",
       "      <td>...</td>\n",
       "      <td>...</td>\n",
       "      <td>...</td>\n",
       "      <td>...</td>\n",
       "      <td>...</td>\n",
       "      <td>...</td>\n",
       "    </tr>\n",
       "    <tr>\n",
       "      <th>269</th>\n",
       "      <td>174699</td>\n",
       "      <td>2</td>\n",
       "      <td>Date of Birth</td>\n",
       "      <td>3/13/1989</td>\n",
       "      <td>12</td>\n",
       "      <td>2023</td>\n",
       "    </tr>\n",
       "    <tr>\n",
       "      <th>270</th>\n",
       "      <td>174699</td>\n",
       "      <td>2</td>\n",
       "      <td>Account Type</td>\n",
       "      <td>Gold</td>\n",
       "      <td>12</td>\n",
       "      <td>2023</td>\n",
       "    </tr>\n",
       "    <tr>\n",
       "      <th>271</th>\n",
       "      <td>514598</td>\n",
       "      <td>28</td>\n",
       "      <td>Ethnicity</td>\n",
       "      <td>Other</td>\n",
       "      <td>12</td>\n",
       "      <td>2023</td>\n",
       "    </tr>\n",
       "    <tr>\n",
       "      <th>272</th>\n",
       "      <td>514598</td>\n",
       "      <td>28</td>\n",
       "      <td>Date of Birth</td>\n",
       "      <td>10/10/1971</td>\n",
       "      <td>12</td>\n",
       "      <td>2023</td>\n",
       "    </tr>\n",
       "    <tr>\n",
       "      <th>273</th>\n",
       "      <td>514598</td>\n",
       "      <td>28</td>\n",
       "      <td>Account Type</td>\n",
       "      <td>Platinum</td>\n",
       "      <td>12</td>\n",
       "      <td>2023</td>\n",
       "    </tr>\n",
       "  </tbody>\n",
       "</table>\n",
       "<p>2981 rows × 6 columns</p>\n",
       "</div>"
      ],
      "text/plain": [
       "         ID Joining Day    Demographic       Value Month  Year\n",
       "1    490910           3      Ethnicity       White     1  2023\n",
       "2    490910           3  Date of Birth   5/23/1981     1  2023\n",
       "3    490910           3   Account Type       Basic     1  2023\n",
       "4    369221          18      Ethnicity       Black     1  2023\n",
       "5    369221          18  Date of Birth    3/4/2019     1  2023\n",
       "..      ...         ...            ...         ...   ...   ...\n",
       "269  174699           2  Date of Birth   3/13/1989    12  2023\n",
       "270  174699           2   Account Type        Gold    12  2023\n",
       "271  514598          28      Ethnicity       Other    12  2023\n",
       "272  514598          28  Date of Birth  10/10/1971    12  2023\n",
       "273  514598          28   Account Type    Platinum    12  2023\n",
       "\n",
       "[2981 rows x 6 columns]"
      ]
     },
     "execution_count": 154,
     "metadata": {},
     "output_type": "execute_result"
    }
   ],
   "source": [
    "df"
   ]
  },
  {
   "cell_type": "markdown",
   "id": "5d74b73b-00c9-4312-8171-6066c117ea5a",
   "metadata": {},
   "source": [
    "### Make Joining Day field"
   ]
  },
  {
   "cell_type": "code",
   "execution_count": 142,
   "id": "e0b88348-f4c9-485e-8a4e-b34c5fe5ff2e",
   "metadata": {
    "tags": []
   },
   "outputs": [],
   "source": [
    "df['Month'] = pd.to_datetime(df['Month'], format='%B').dt.month.astype(str)"
   ]
  },
  {
   "cell_type": "code",
   "execution_count": 159,
   "id": "36ee286f-4576-45a8-b219-a809b10ea168",
   "metadata": {
    "tags": []
   },
   "outputs": [],
   "source": [
    "df['Year'] = 2023"
   ]
  },
  {
   "cell_type": "code",
   "execution_count": 173,
   "id": "f8666339-b94b-4e07-a188-bafbbacf1a67",
   "metadata": {
    "tags": []
   },
   "outputs": [
    {
     "ename": "ValueError",
     "evalue": "Unable to parse string \"Joining Day\" at position 249",
     "output_type": "error",
     "traceback": [
      "\u001b[1;31m---------------------------------------------------------------------------\u001b[0m",
      "\u001b[1;31mValueError\u001b[0m                                Traceback (most recent call last)",
      "File \u001b[1;32m~\\AppData\\Local\\Programs\\Python\\Python311\\Lib\\site-packages\\pandas\\_libs\\lib.pyx:2369\u001b[0m, in \u001b[0;36mpandas._libs.lib.maybe_convert_numeric\u001b[1;34m()\u001b[0m\n",
      "\u001b[1;31mValueError\u001b[0m: Unable to parse string \"Joining Day\"",
      "\nDuring handling of the above exception, another exception occurred:\n",
      "\u001b[1;31mValueError\u001b[0m                                Traceback (most recent call last)",
      "Cell \u001b[1;32mIn[173], line 1\u001b[0m\n\u001b[1;32m----> 1\u001b[0m df[\u001b[38;5;124m'\u001b[39m\u001b[38;5;124mDay\u001b[39m\u001b[38;5;124m'\u001b[39m] \u001b[38;5;241m=\u001b[39m \u001b[43mpd\u001b[49m\u001b[38;5;241;43m.\u001b[39;49m\u001b[43mto_numeric\u001b[49m\u001b[43m(\u001b[49m\u001b[43mdf\u001b[49m\u001b[43m[\u001b[49m\u001b[38;5;124;43m'\u001b[39;49m\u001b[38;5;124;43mJoining Day\u001b[39;49m\u001b[38;5;124;43m'\u001b[39;49m\u001b[43m]\u001b[49m\u001b[43m)\u001b[49m\n",
      "File \u001b[1;32m~\\AppData\\Local\\Programs\\Python\\Python311\\Lib\\site-packages\\pandas\\core\\tools\\numeric.py:185\u001b[0m, in \u001b[0;36mto_numeric\u001b[1;34m(arg, errors, downcast)\u001b[0m\n\u001b[0;32m    183\u001b[0m coerce_numeric \u001b[38;5;241m=\u001b[39m errors \u001b[38;5;129;01mnot\u001b[39;00m \u001b[38;5;129;01min\u001b[39;00m (\u001b[38;5;124m\"\u001b[39m\u001b[38;5;124mignore\u001b[39m\u001b[38;5;124m\"\u001b[39m, \u001b[38;5;124m\"\u001b[39m\u001b[38;5;124mraise\u001b[39m\u001b[38;5;124m\"\u001b[39m)\n\u001b[0;32m    184\u001b[0m \u001b[38;5;28;01mtry\u001b[39;00m:\n\u001b[1;32m--> 185\u001b[0m     values, _ \u001b[38;5;241m=\u001b[39m \u001b[43mlib\u001b[49m\u001b[38;5;241;43m.\u001b[39;49m\u001b[43mmaybe_convert_numeric\u001b[49m\u001b[43m(\u001b[49m\n\u001b[0;32m    186\u001b[0m \u001b[43m        \u001b[49m\u001b[43mvalues\u001b[49m\u001b[43m,\u001b[49m\u001b[43m \u001b[49m\u001b[38;5;28;43mset\u001b[39;49m\u001b[43m(\u001b[49m\u001b[43m)\u001b[49m\u001b[43m,\u001b[49m\u001b[43m \u001b[49m\u001b[43mcoerce_numeric\u001b[49m\u001b[38;5;241;43m=\u001b[39;49m\u001b[43mcoerce_numeric\u001b[49m\n\u001b[0;32m    187\u001b[0m \u001b[43m    \u001b[49m\u001b[43m)\u001b[49m\n\u001b[0;32m    188\u001b[0m \u001b[38;5;28;01mexcept\u001b[39;00m (\u001b[38;5;167;01mValueError\u001b[39;00m, \u001b[38;5;167;01mTypeError\u001b[39;00m):\n\u001b[0;32m    189\u001b[0m     \u001b[38;5;28;01mif\u001b[39;00m errors \u001b[38;5;241m==\u001b[39m \u001b[38;5;124m\"\u001b[39m\u001b[38;5;124mraise\u001b[39m\u001b[38;5;124m\"\u001b[39m:\n",
      "File \u001b[1;32m~\\AppData\\Local\\Programs\\Python\\Python311\\Lib\\site-packages\\pandas\\_libs\\lib.pyx:2411\u001b[0m, in \u001b[0;36mpandas._libs.lib.maybe_convert_numeric\u001b[1;34m()\u001b[0m\n",
      "\u001b[1;31mValueError\u001b[0m: Unable to parse string \"Joining Day\" at position 249"
     ]
    }
   ],
   "source": [
    "df['Day'] = pd.to_numeric(df['Joining Day'])"
   ]
  },
  {
   "cell_type": "code",
   "execution_count": 179,
   "id": "f5edac80-91ff-4db7-9dca-809a3bc3eb87",
   "metadata": {
    "tags": []
   },
   "outputs": [],
   "source": [
    "# index position 249 caused error so dropped row\n",
    "df = df.drop(df.index[249])"
   ]
  },
  {
   "cell_type": "code",
   "execution_count": 180,
   "id": "807a7bce-8904-4a30-b01c-410faad68046",
   "metadata": {
    "tags": []
   },
   "outputs": [],
   "source": [
    "df['Joining Date'] = pd.to_datetime(df[['Year','Month','Day']])"
   ]
  },
  {
   "cell_type": "code",
   "execution_count": 181,
   "id": "48afa754-929c-48d6-804a-a36882041f30",
   "metadata": {
    "tags": []
   },
   "outputs": [
    {
     "data": {
      "text/html": [
       "<div>\n",
       "<style scoped>\n",
       "    .dataframe tbody tr th:only-of-type {\n",
       "        vertical-align: middle;\n",
       "    }\n",
       "\n",
       "    .dataframe tbody tr th {\n",
       "        vertical-align: top;\n",
       "    }\n",
       "\n",
       "    .dataframe thead th {\n",
       "        text-align: right;\n",
       "    }\n",
       "</style>\n",
       "<table border=\"1\" class=\"dataframe\">\n",
       "  <thead>\n",
       "    <tr style=\"text-align: right;\">\n",
       "      <th></th>\n",
       "      <th>ID</th>\n",
       "      <th>Joining Day</th>\n",
       "      <th>Demographic</th>\n",
       "      <th>Value</th>\n",
       "      <th>Month</th>\n",
       "      <th>Year</th>\n",
       "      <th>Day</th>\n",
       "      <th>Joining Date</th>\n",
       "    </tr>\n",
       "  </thead>\n",
       "  <tbody>\n",
       "    <tr>\n",
       "      <th>1</th>\n",
       "      <td>490910</td>\n",
       "      <td>3</td>\n",
       "      <td>Ethnicity</td>\n",
       "      <td>White</td>\n",
       "      <td>1</td>\n",
       "      <td>2023</td>\n",
       "      <td>3</td>\n",
       "      <td>2023-01-03</td>\n",
       "    </tr>\n",
       "    <tr>\n",
       "      <th>2</th>\n",
       "      <td>490910</td>\n",
       "      <td>3</td>\n",
       "      <td>Date of Birth</td>\n",
       "      <td>5/23/1981</td>\n",
       "      <td>1</td>\n",
       "      <td>2023</td>\n",
       "      <td>3</td>\n",
       "      <td>2023-01-03</td>\n",
       "    </tr>\n",
       "    <tr>\n",
       "      <th>3</th>\n",
       "      <td>490910</td>\n",
       "      <td>3</td>\n",
       "      <td>Account Type</td>\n",
       "      <td>Basic</td>\n",
       "      <td>1</td>\n",
       "      <td>2023</td>\n",
       "      <td>3</td>\n",
       "      <td>2023-01-03</td>\n",
       "    </tr>\n",
       "    <tr>\n",
       "      <th>4</th>\n",
       "      <td>369221</td>\n",
       "      <td>18</td>\n",
       "      <td>Ethnicity</td>\n",
       "      <td>Black</td>\n",
       "      <td>1</td>\n",
       "      <td>2023</td>\n",
       "      <td>18</td>\n",
       "      <td>2023-01-18</td>\n",
       "    </tr>\n",
       "    <tr>\n",
       "      <th>5</th>\n",
       "      <td>369221</td>\n",
       "      <td>18</td>\n",
       "      <td>Date of Birth</td>\n",
       "      <td>3/4/2019</td>\n",
       "      <td>1</td>\n",
       "      <td>2023</td>\n",
       "      <td>18</td>\n",
       "      <td>2023-01-18</td>\n",
       "    </tr>\n",
       "    <tr>\n",
       "      <th>...</th>\n",
       "      <td>...</td>\n",
       "      <td>...</td>\n",
       "      <td>...</td>\n",
       "      <td>...</td>\n",
       "      <td>...</td>\n",
       "      <td>...</td>\n",
       "      <td>...</td>\n",
       "      <td>...</td>\n",
       "    </tr>\n",
       "    <tr>\n",
       "      <th>269</th>\n",
       "      <td>174699</td>\n",
       "      <td>2</td>\n",
       "      <td>Date of Birth</td>\n",
       "      <td>3/13/1989</td>\n",
       "      <td>12</td>\n",
       "      <td>2023</td>\n",
       "      <td>2</td>\n",
       "      <td>2023-12-02</td>\n",
       "    </tr>\n",
       "    <tr>\n",
       "      <th>270</th>\n",
       "      <td>174699</td>\n",
       "      <td>2</td>\n",
       "      <td>Account Type</td>\n",
       "      <td>Gold</td>\n",
       "      <td>12</td>\n",
       "      <td>2023</td>\n",
       "      <td>2</td>\n",
       "      <td>2023-12-02</td>\n",
       "    </tr>\n",
       "    <tr>\n",
       "      <th>271</th>\n",
       "      <td>514598</td>\n",
       "      <td>28</td>\n",
       "      <td>Ethnicity</td>\n",
       "      <td>Other</td>\n",
       "      <td>12</td>\n",
       "      <td>2023</td>\n",
       "      <td>28</td>\n",
       "      <td>2023-12-28</td>\n",
       "    </tr>\n",
       "    <tr>\n",
       "      <th>272</th>\n",
       "      <td>514598</td>\n",
       "      <td>28</td>\n",
       "      <td>Date of Birth</td>\n",
       "      <td>10/10/1971</td>\n",
       "      <td>12</td>\n",
       "      <td>2023</td>\n",
       "      <td>28</td>\n",
       "      <td>2023-12-28</td>\n",
       "    </tr>\n",
       "    <tr>\n",
       "      <th>273</th>\n",
       "      <td>514598</td>\n",
       "      <td>28</td>\n",
       "      <td>Account Type</td>\n",
       "      <td>Platinum</td>\n",
       "      <td>12</td>\n",
       "      <td>2023</td>\n",
       "      <td>28</td>\n",
       "      <td>2023-12-28</td>\n",
       "    </tr>\n",
       "  </tbody>\n",
       "</table>\n",
       "<p>2970 rows × 8 columns</p>\n",
       "</div>"
      ],
      "text/plain": [
       "         ID Joining Day    Demographic       Value Month  Year Day  \\\n",
       "1    490910           3      Ethnicity       White     1  2023   3   \n",
       "2    490910           3  Date of Birth   5/23/1981     1  2023   3   \n",
       "3    490910           3   Account Type       Basic     1  2023   3   \n",
       "4    369221          18      Ethnicity       Black     1  2023  18   \n",
       "5    369221          18  Date of Birth    3/4/2019     1  2023  18   \n",
       "..      ...         ...            ...         ...   ...   ...  ..   \n",
       "269  174699           2  Date of Birth   3/13/1989    12  2023   2   \n",
       "270  174699           2   Account Type        Gold    12  2023   2   \n",
       "271  514598          28      Ethnicity       Other    12  2023  28   \n",
       "272  514598          28  Date of Birth  10/10/1971    12  2023  28   \n",
       "273  514598          28   Account Type    Platinum    12  2023  28   \n",
       "\n",
       "    Joining Date  \n",
       "1     2023-01-03  \n",
       "2     2023-01-03  \n",
       "3     2023-01-03  \n",
       "4     2023-01-18  \n",
       "5     2023-01-18  \n",
       "..           ...  \n",
       "269   2023-12-02  \n",
       "270   2023-12-02  \n",
       "271   2023-12-28  \n",
       "272   2023-12-28  \n",
       "273   2023-12-28  \n",
       "\n",
       "[2970 rows x 8 columns]"
      ]
     },
     "execution_count": 181,
     "metadata": {},
     "output_type": "execute_result"
    }
   ],
   "source": [
    "df"
   ]
  },
  {
   "cell_type": "markdown",
   "id": "eaa6aa93-d325-44aa-82ed-54dda8d5587b",
   "metadata": {},
   "source": [
    "### Reshape data"
   ]
  },
  {
   "cell_type": "code",
   "execution_count": 193,
   "id": "c345c0ba-5e5e-4ea6-a72a-6ef1bee4f4ef",
   "metadata": {
    "tags": []
   },
   "outputs": [],
   "source": [
    "df2 = df.pivot_table(values='Value', index='ID', columns='Demographic', aggfunc='first').reset_index()"
   ]
  },
  {
   "cell_type": "code",
   "execution_count": 206,
   "id": "89c58f74-c9d1-4a53-a293-c380d6cbe52d",
   "metadata": {
    "tags": []
   },
   "outputs": [],
   "source": [
    "df3 = pd.merge(df, df2, how='left', on=['ID', 'ID'])"
   ]
  },
  {
   "cell_type": "code",
   "execution_count": 207,
   "id": "c76c6ce4-5d9a-44da-b40b-ebb29b432030",
   "metadata": {
    "tags": []
   },
   "outputs": [
    {
     "data": {
      "text/html": [
       "<div>\n",
       "<style scoped>\n",
       "    .dataframe tbody tr th:only-of-type {\n",
       "        vertical-align: middle;\n",
       "    }\n",
       "\n",
       "    .dataframe tbody tr th {\n",
       "        vertical-align: top;\n",
       "    }\n",
       "\n",
       "    .dataframe thead th {\n",
       "        text-align: right;\n",
       "    }\n",
       "</style>\n",
       "<table border=\"1\" class=\"dataframe\">\n",
       "  <thead>\n",
       "    <tr style=\"text-align: right;\">\n",
       "      <th></th>\n",
       "      <th>ID</th>\n",
       "      <th>Joining Day</th>\n",
       "      <th>Demographic</th>\n",
       "      <th>Value</th>\n",
       "      <th>Month</th>\n",
       "      <th>Year</th>\n",
       "      <th>Day</th>\n",
       "      <th>Joining Date</th>\n",
       "      <th>Account Type</th>\n",
       "      <th>Date of Birth</th>\n",
       "      <th>Ethnicity</th>\n",
       "    </tr>\n",
       "  </thead>\n",
       "  <tbody>\n",
       "    <tr>\n",
       "      <th>0</th>\n",
       "      <td>490910</td>\n",
       "      <td>3</td>\n",
       "      <td>Ethnicity</td>\n",
       "      <td>White</td>\n",
       "      <td>1</td>\n",
       "      <td>2023</td>\n",
       "      <td>3</td>\n",
       "      <td>2023-01-03</td>\n",
       "      <td>Basic</td>\n",
       "      <td>5/23/1981</td>\n",
       "      <td>White</td>\n",
       "    </tr>\n",
       "    <tr>\n",
       "      <th>1</th>\n",
       "      <td>490910</td>\n",
       "      <td>3</td>\n",
       "      <td>Date of Birth</td>\n",
       "      <td>5/23/1981</td>\n",
       "      <td>1</td>\n",
       "      <td>2023</td>\n",
       "      <td>3</td>\n",
       "      <td>2023-01-03</td>\n",
       "      <td>Basic</td>\n",
       "      <td>5/23/1981</td>\n",
       "      <td>White</td>\n",
       "    </tr>\n",
       "    <tr>\n",
       "      <th>2</th>\n",
       "      <td>490910</td>\n",
       "      <td>3</td>\n",
       "      <td>Account Type</td>\n",
       "      <td>Basic</td>\n",
       "      <td>1</td>\n",
       "      <td>2023</td>\n",
       "      <td>3</td>\n",
       "      <td>2023-01-03</td>\n",
       "      <td>Basic</td>\n",
       "      <td>5/23/1981</td>\n",
       "      <td>White</td>\n",
       "    </tr>\n",
       "    <tr>\n",
       "      <th>3</th>\n",
       "      <td>369221</td>\n",
       "      <td>18</td>\n",
       "      <td>Ethnicity</td>\n",
       "      <td>Black</td>\n",
       "      <td>1</td>\n",
       "      <td>2023</td>\n",
       "      <td>18</td>\n",
       "      <td>2023-01-18</td>\n",
       "      <td>Platinum</td>\n",
       "      <td>3/4/2019</td>\n",
       "      <td>Black</td>\n",
       "    </tr>\n",
       "    <tr>\n",
       "      <th>4</th>\n",
       "      <td>369221</td>\n",
       "      <td>18</td>\n",
       "      <td>Date of Birth</td>\n",
       "      <td>3/4/2019</td>\n",
       "      <td>1</td>\n",
       "      <td>2023</td>\n",
       "      <td>18</td>\n",
       "      <td>2023-01-18</td>\n",
       "      <td>Platinum</td>\n",
       "      <td>3/4/2019</td>\n",
       "      <td>Black</td>\n",
       "    </tr>\n",
       "    <tr>\n",
       "      <th>...</th>\n",
       "      <td>...</td>\n",
       "      <td>...</td>\n",
       "      <td>...</td>\n",
       "      <td>...</td>\n",
       "      <td>...</td>\n",
       "      <td>...</td>\n",
       "      <td>...</td>\n",
       "      <td>...</td>\n",
       "      <td>...</td>\n",
       "      <td>...</td>\n",
       "      <td>...</td>\n",
       "    </tr>\n",
       "    <tr>\n",
       "      <th>2965</th>\n",
       "      <td>174699</td>\n",
       "      <td>2</td>\n",
       "      <td>Date of Birth</td>\n",
       "      <td>3/13/1989</td>\n",
       "      <td>12</td>\n",
       "      <td>2023</td>\n",
       "      <td>2</td>\n",
       "      <td>2023-12-02</td>\n",
       "      <td>Gold</td>\n",
       "      <td>3/13/1989</td>\n",
       "      <td>Asian</td>\n",
       "    </tr>\n",
       "    <tr>\n",
       "      <th>2966</th>\n",
       "      <td>174699</td>\n",
       "      <td>2</td>\n",
       "      <td>Account Type</td>\n",
       "      <td>Gold</td>\n",
       "      <td>12</td>\n",
       "      <td>2023</td>\n",
       "      <td>2</td>\n",
       "      <td>2023-12-02</td>\n",
       "      <td>Gold</td>\n",
       "      <td>3/13/1989</td>\n",
       "      <td>Asian</td>\n",
       "    </tr>\n",
       "    <tr>\n",
       "      <th>2967</th>\n",
       "      <td>514598</td>\n",
       "      <td>28</td>\n",
       "      <td>Ethnicity</td>\n",
       "      <td>Other</td>\n",
       "      <td>12</td>\n",
       "      <td>2023</td>\n",
       "      <td>28</td>\n",
       "      <td>2023-12-28</td>\n",
       "      <td>Platinum</td>\n",
       "      <td>10/10/1971</td>\n",
       "      <td>Other</td>\n",
       "    </tr>\n",
       "    <tr>\n",
       "      <th>2968</th>\n",
       "      <td>514598</td>\n",
       "      <td>28</td>\n",
       "      <td>Date of Birth</td>\n",
       "      <td>10/10/1971</td>\n",
       "      <td>12</td>\n",
       "      <td>2023</td>\n",
       "      <td>28</td>\n",
       "      <td>2023-12-28</td>\n",
       "      <td>Platinum</td>\n",
       "      <td>10/10/1971</td>\n",
       "      <td>Other</td>\n",
       "    </tr>\n",
       "    <tr>\n",
       "      <th>2969</th>\n",
       "      <td>514598</td>\n",
       "      <td>28</td>\n",
       "      <td>Account Type</td>\n",
       "      <td>Platinum</td>\n",
       "      <td>12</td>\n",
       "      <td>2023</td>\n",
       "      <td>28</td>\n",
       "      <td>2023-12-28</td>\n",
       "      <td>Platinum</td>\n",
       "      <td>10/10/1971</td>\n",
       "      <td>Other</td>\n",
       "    </tr>\n",
       "  </tbody>\n",
       "</table>\n",
       "<p>2970 rows × 11 columns</p>\n",
       "</div>"
      ],
      "text/plain": [
       "          ID Joining Day    Demographic       Value Month  Year Day  \\\n",
       "0     490910           3      Ethnicity       White     1  2023   3   \n",
       "1     490910           3  Date of Birth   5/23/1981     1  2023   3   \n",
       "2     490910           3   Account Type       Basic     1  2023   3   \n",
       "3     369221          18      Ethnicity       Black     1  2023  18   \n",
       "4     369221          18  Date of Birth    3/4/2019     1  2023  18   \n",
       "...      ...         ...            ...         ...   ...   ...  ..   \n",
       "2965  174699           2  Date of Birth   3/13/1989    12  2023   2   \n",
       "2966  174699           2   Account Type        Gold    12  2023   2   \n",
       "2967  514598          28      Ethnicity       Other    12  2023  28   \n",
       "2968  514598          28  Date of Birth  10/10/1971    12  2023  28   \n",
       "2969  514598          28   Account Type    Platinum    12  2023  28   \n",
       "\n",
       "     Joining Date Account Type Date of Birth Ethnicity  \n",
       "0      2023-01-03        Basic     5/23/1981     White  \n",
       "1      2023-01-03        Basic     5/23/1981     White  \n",
       "2      2023-01-03        Basic     5/23/1981     White  \n",
       "3      2023-01-18     Platinum      3/4/2019     Black  \n",
       "4      2023-01-18     Platinum      3/4/2019     Black  \n",
       "...           ...          ...           ...       ...  \n",
       "2965   2023-12-02         Gold     3/13/1989     Asian  \n",
       "2966   2023-12-02         Gold     3/13/1989     Asian  \n",
       "2967   2023-12-28     Platinum    10/10/1971     Other  \n",
       "2968   2023-12-28     Platinum    10/10/1971     Other  \n",
       "2969   2023-12-28     Platinum    10/10/1971     Other  \n",
       "\n",
       "[2970 rows x 11 columns]"
      ]
     },
     "execution_count": 207,
     "metadata": {},
     "output_type": "execute_result"
    }
   ],
   "source": [
    "df3"
   ]
  },
  {
   "cell_type": "markdown",
   "id": "6c6653c4-1f5c-4962-a671-96b55895e5fd",
   "metadata": {},
   "source": [
    "### Remove duplicates"
   ]
  },
  {
   "cell_type": "code",
   "execution_count": 209,
   "id": "aaad939d-7b4c-4c18-8642-e6f2d13764c1",
   "metadata": {
    "tags": []
   },
   "outputs": [],
   "source": [
    "df3 = df3.drop(['Demographic','Joining Day','Month','Year','Day', 'Value'], axis=1)"
   ]
  },
  {
   "cell_type": "code",
   "execution_count": 210,
   "id": "1ca5c5d2-283a-42bf-85b0-412a4c39af67",
   "metadata": {
    "tags": []
   },
   "outputs": [],
   "source": [
    "df3 = df3.drop_duplicates()"
   ]
  },
  {
   "cell_type": "code",
   "execution_count": 211,
   "id": "7237350e-e9e9-4b2e-aa40-0bc9628a946d",
   "metadata": {
    "tags": []
   },
   "outputs": [
    {
     "data": {
      "text/html": [
       "<div>\n",
       "<style scoped>\n",
       "    .dataframe tbody tr th:only-of-type {\n",
       "        vertical-align: middle;\n",
       "    }\n",
       "\n",
       "    .dataframe tbody tr th {\n",
       "        vertical-align: top;\n",
       "    }\n",
       "\n",
       "    .dataframe thead th {\n",
       "        text-align: right;\n",
       "    }\n",
       "</style>\n",
       "<table border=\"1\" class=\"dataframe\">\n",
       "  <thead>\n",
       "    <tr style=\"text-align: right;\">\n",
       "      <th></th>\n",
       "      <th>ID</th>\n",
       "      <th>Joining Date</th>\n",
       "      <th>Account Type</th>\n",
       "      <th>Date of Birth</th>\n",
       "      <th>Ethnicity</th>\n",
       "    </tr>\n",
       "  </thead>\n",
       "  <tbody>\n",
       "    <tr>\n",
       "      <th>0</th>\n",
       "      <td>490910</td>\n",
       "      <td>2023-01-03</td>\n",
       "      <td>Basic</td>\n",
       "      <td>5/23/1981</td>\n",
       "      <td>White</td>\n",
       "    </tr>\n",
       "    <tr>\n",
       "      <th>3</th>\n",
       "      <td>369221</td>\n",
       "      <td>2023-01-18</td>\n",
       "      <td>Platinum</td>\n",
       "      <td>3/4/2019</td>\n",
       "      <td>Black</td>\n",
       "    </tr>\n",
       "    <tr>\n",
       "      <th>6</th>\n",
       "      <td>568991</td>\n",
       "      <td>2023-01-16</td>\n",
       "      <td>Gold</td>\n",
       "      <td>4/27/1979</td>\n",
       "      <td>White</td>\n",
       "    </tr>\n",
       "    <tr>\n",
       "      <th>9</th>\n",
       "      <td>191607</td>\n",
       "      <td>2023-01-09</td>\n",
       "      <td>Gold</td>\n",
       "      <td>3/15/1963</td>\n",
       "      <td>White</td>\n",
       "    </tr>\n",
       "    <tr>\n",
       "      <th>12</th>\n",
       "      <td>612794</td>\n",
       "      <td>2023-01-29</td>\n",
       "      <td>Basic</td>\n",
       "      <td>11/12/1981</td>\n",
       "      <td>Asian</td>\n",
       "    </tr>\n",
       "    <tr>\n",
       "      <th>...</th>\n",
       "      <td>...</td>\n",
       "      <td>...</td>\n",
       "      <td>...</td>\n",
       "      <td>...</td>\n",
       "      <td>...</td>\n",
       "    </tr>\n",
       "    <tr>\n",
       "      <th>2955</th>\n",
       "      <td>970548</td>\n",
       "      <td>2023-12-12</td>\n",
       "      <td>Platinum</td>\n",
       "      <td>5/9/1996</td>\n",
       "      <td>Asian</td>\n",
       "    </tr>\n",
       "    <tr>\n",
       "      <th>2958</th>\n",
       "      <td>569923</td>\n",
       "      <td>2023-12-04</td>\n",
       "      <td>Gold</td>\n",
       "      <td>12/30/1975</td>\n",
       "      <td>Other</td>\n",
       "    </tr>\n",
       "    <tr>\n",
       "      <th>2961</th>\n",
       "      <td>354147</td>\n",
       "      <td>2023-12-20</td>\n",
       "      <td>Gold</td>\n",
       "      <td>4/14/2019</td>\n",
       "      <td>Black</td>\n",
       "    </tr>\n",
       "    <tr>\n",
       "      <th>2964</th>\n",
       "      <td>174699</td>\n",
       "      <td>2023-12-02</td>\n",
       "      <td>Gold</td>\n",
       "      <td>3/13/1989</td>\n",
       "      <td>Asian</td>\n",
       "    </tr>\n",
       "    <tr>\n",
       "      <th>2967</th>\n",
       "      <td>514598</td>\n",
       "      <td>2023-12-28</td>\n",
       "      <td>Platinum</td>\n",
       "      <td>10/10/1971</td>\n",
       "      <td>Other</td>\n",
       "    </tr>\n",
       "  </tbody>\n",
       "</table>\n",
       "<p>990 rows × 5 columns</p>\n",
       "</div>"
      ],
      "text/plain": [
       "          ID Joining Date Account Type Date of Birth Ethnicity\n",
       "0     490910   2023-01-03        Basic     5/23/1981     White\n",
       "3     369221   2023-01-18     Platinum      3/4/2019     Black\n",
       "6     568991   2023-01-16         Gold     4/27/1979     White\n",
       "9     191607   2023-01-09         Gold     3/15/1963     White\n",
       "12    612794   2023-01-29        Basic    11/12/1981     Asian\n",
       "...      ...          ...          ...           ...       ...\n",
       "2955  970548   2023-12-12     Platinum      5/9/1996     Asian\n",
       "2958  569923   2023-12-04         Gold    12/30/1975     Other\n",
       "2961  354147   2023-12-20         Gold     4/14/2019     Black\n",
       "2964  174699   2023-12-02         Gold     3/13/1989     Asian\n",
       "2967  514598   2023-12-28     Platinum    10/10/1971     Other\n",
       "\n",
       "[990 rows x 5 columns]"
      ]
     },
     "execution_count": 211,
     "metadata": {},
     "output_type": "execute_result"
    }
   ],
   "source": [
    "df3"
   ]
  },
  {
   "cell_type": "code",
   "execution_count": 216,
   "id": "76fce5e6-e599-44ec-adab-4450f996b34b",
   "metadata": {
    "tags": []
   },
   "outputs": [
    {
     "data": {
      "text/html": [
       "<div>\n",
       "<style scoped>\n",
       "    .dataframe tbody tr th:only-of-type {\n",
       "        vertical-align: middle;\n",
       "    }\n",
       "\n",
       "    .dataframe tbody tr th {\n",
       "        vertical-align: top;\n",
       "    }\n",
       "\n",
       "    .dataframe thead th {\n",
       "        text-align: right;\n",
       "    }\n",
       "</style>\n",
       "<table border=\"1\" class=\"dataframe\">\n",
       "  <thead>\n",
       "    <tr style=\"text-align: right;\">\n",
       "      <th></th>\n",
       "      <th>ID</th>\n",
       "      <th>Joining Date</th>\n",
       "      <th>Account Type</th>\n",
       "      <th>Date of Birth</th>\n",
       "      <th>Ethnicity</th>\n",
       "    </tr>\n",
       "  </thead>\n",
       "  <tbody>\n",
       "    <tr>\n",
       "      <th>222</th>\n",
       "      <td>929308</td>\n",
       "      <td>2023-01-05</td>\n",
       "      <td>Basic</td>\n",
       "      <td>10/19/2004</td>\n",
       "      <td>Other</td>\n",
       "    </tr>\n",
       "  </tbody>\n",
       "</table>\n",
       "</div>"
      ],
      "text/plain": [
       "         ID Joining Date Account Type Date of Birth Ethnicity\n",
       "222  929308   2023-01-05        Basic    10/19/2004     Other"
      ]
     },
     "execution_count": 216,
     "metadata": {},
     "output_type": "execute_result"
    }
   ],
   "source": [
    "df3.loc[df3['ID'] == '929308']"
   ]
  },
  {
   "cell_type": "markdown",
   "id": "9106dff9-5d15-49d2-b150-fe23d7e3d1aa",
   "metadata": {},
   "source": [
    "### Export"
   ]
  },
  {
   "cell_type": "code",
   "execution_count": 218,
   "id": "0ba347bc-2f93-4402-9148-481d71bfbd78",
   "metadata": {
    "tags": []
   },
   "outputs": [],
   "source": [
    "df3.to_csv('2023W04_output.csv', index=False)"
   ]
  }
 ],
 "metadata": {
  "kernelspec": {
   "display_name": "Python 3 (ipykernel)",
   "language": "python",
   "name": "python3"
  },
  "language_info": {
   "codemirror_mode": {
    "name": "ipython",
    "version": 3
   },
   "file_extension": ".py",
   "mimetype": "text/x-python",
   "name": "python",
   "nbconvert_exporter": "python",
   "pygments_lexer": "ipython3",
   "version": "3.11.2"
  }
 },
 "nbformat": 4,
 "nbformat_minor": 5
}
