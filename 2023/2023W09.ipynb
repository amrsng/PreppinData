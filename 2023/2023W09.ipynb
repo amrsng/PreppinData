{
 "cells": [
  {
   "cell_type": "markdown",
   "id": "1762f4a4-ae8c-4000-a686-a5601a6408e8",
   "metadata": {},
   "source": [
    "# Preppin Data 2023 W09"
   ]
  },
  {
   "cell_type": "markdown",
   "id": "79b4fc1c-908f-4915-87d7-55252f83c0ab",
   "metadata": {},
   "source": [
    "https://preppindata.blogspot.com/2023/03/2023-week-9-customer-bank-statements.html"
   ]
  },
  {
   "cell_type": "markdown",
   "id": "76022aa6-c2a9-4312-8637-6953d5ca4f1b",
   "metadata": {},
   "source": [
    "#### Load data"
   ]
  },
  {
   "cell_type": "code",
   "execution_count": 1,
   "id": "a832039d-7f52-4616-bb0b-7ce0d9a4c5a4",
   "metadata": {
    "tags": []
   },
   "outputs": [],
   "source": [
    "import pandas as pd"
   ]
  },
  {
   "cell_type": "code",
   "execution_count": 2,
   "id": "0e55cdff-c575-456a-8470-720ff0ff259b",
   "metadata": {
    "tags": []
   },
   "outputs": [],
   "source": [
    "import numpy as np"
   ]
  },
  {
   "cell_type": "code",
   "execution_count": 3,
   "id": "1685631e-82fd-4f5e-ba11-680febf9f951",
   "metadata": {
    "tags": []
   },
   "outputs": [],
   "source": [
    "tpath = pd.read_csv('Transaction Path.csv')"
   ]
  },
  {
   "cell_type": "code",
   "execution_count": 4,
   "id": "0c698842-4209-4a25-b04f-02ac0ce47077",
   "metadata": {
    "tags": []
   },
   "outputs": [],
   "source": [
    "tdetail = pd.read_csv('Transaction Detail.csv')"
   ]
  },
  {
   "cell_type": "code",
   "execution_count": 5,
   "id": "fb17c727-e292-4596-a991-1e80e321df99",
   "metadata": {
    "tags": []
   },
   "outputs": [],
   "source": [
    "accinfo = pd.read_csv('Account Information.csv')"
   ]
  },
  {
   "cell_type": "markdown",
   "id": "03bc1a3a-1c7c-46c1-aa0d-789d9ad00956",
   "metadata": {},
   "source": [
    "#### Check headers"
   ]
  },
  {
   "cell_type": "code",
   "execution_count": 6,
   "id": "17895185-2fc1-456f-b77d-7166318a207d",
   "metadata": {
    "tags": []
   },
   "outputs": [
    {
     "data": {
      "text/html": [
       "<div>\n",
       "<style scoped>\n",
       "    .dataframe tbody tr th:only-of-type {\n",
       "        vertical-align: middle;\n",
       "    }\n",
       "\n",
       "    .dataframe tbody tr th {\n",
       "        vertical-align: top;\n",
       "    }\n",
       "\n",
       "    .dataframe thead th {\n",
       "        text-align: right;\n",
       "    }\n",
       "</style>\n",
       "<table border=\"1\" class=\"dataframe\">\n",
       "  <thead>\n",
       "    <tr style=\"text-align: right;\">\n",
       "      <th></th>\n",
       "      <th>Transaction ID</th>\n",
       "      <th>Account_To</th>\n",
       "      <th>Account_From</th>\n",
       "    </tr>\n",
       "  </thead>\n",
       "  <tbody>\n",
       "    <tr>\n",
       "      <th>0</th>\n",
       "      <td>1957155</td>\n",
       "      <td>27356852</td>\n",
       "      <td>76206810</td>\n",
       "    </tr>\n",
       "    <tr>\n",
       "      <th>1</th>\n",
       "      <td>2147025</td>\n",
       "      <td>44242297</td>\n",
       "      <td>24826358</td>\n",
       "    </tr>\n",
       "    <tr>\n",
       "      <th>2</th>\n",
       "      <td>3065073</td>\n",
       "      <td>10295384</td>\n",
       "      <td>52104303</td>\n",
       "    </tr>\n",
       "    <tr>\n",
       "      <th>3</th>\n",
       "      <td>6622100</td>\n",
       "      <td>45519330</td>\n",
       "      <td>69315008</td>\n",
       "    </tr>\n",
       "    <tr>\n",
       "      <th>4</th>\n",
       "      <td>14877473</td>\n",
       "      <td>28680375</td>\n",
       "      <td>44586370</td>\n",
       "    </tr>\n",
       "  </tbody>\n",
       "</table>\n",
       "</div>"
      ],
      "text/plain": [
       "   Transaction ID  Account_To  Account_From\n",
       "0         1957155    27356852      76206810\n",
       "1         2147025    44242297      24826358\n",
       "2         3065073    10295384      52104303\n",
       "3         6622100    45519330      69315008\n",
       "4        14877473    28680375      44586370"
      ]
     },
     "execution_count": 6,
     "metadata": {},
     "output_type": "execute_result"
    }
   ],
   "source": [
    "tpath.head()"
   ]
  },
  {
   "cell_type": "code",
   "execution_count": 7,
   "id": "6e5101ff-3c78-4242-a992-fb67bb967b8c",
   "metadata": {
    "tags": []
   },
   "outputs": [
    {
     "data": {
      "text/html": [
       "<div>\n",
       "<style scoped>\n",
       "    .dataframe tbody tr th:only-of-type {\n",
       "        vertical-align: middle;\n",
       "    }\n",
       "\n",
       "    .dataframe tbody tr th {\n",
       "        vertical-align: top;\n",
       "    }\n",
       "\n",
       "    .dataframe thead th {\n",
       "        text-align: right;\n",
       "    }\n",
       "</style>\n",
       "<table border=\"1\" class=\"dataframe\">\n",
       "  <thead>\n",
       "    <tr style=\"text-align: right;\">\n",
       "      <th></th>\n",
       "      <th>Transaction ID</th>\n",
       "      <th>Transaction Date</th>\n",
       "      <th>Value</th>\n",
       "      <th>Cancelled?</th>\n",
       "    </tr>\n",
       "  </thead>\n",
       "  <tbody>\n",
       "    <tr>\n",
       "      <th>0</th>\n",
       "      <td>1957155</td>\n",
       "      <td>2023-02-01</td>\n",
       "      <td>128.78</td>\n",
       "      <td>N</td>\n",
       "    </tr>\n",
       "    <tr>\n",
       "      <th>1</th>\n",
       "      <td>28234510</td>\n",
       "      <td>2023-02-01</td>\n",
       "      <td>163.82</td>\n",
       "      <td>N</td>\n",
       "    </tr>\n",
       "    <tr>\n",
       "      <th>2</th>\n",
       "      <td>33688648</td>\n",
       "      <td>2023-02-01</td>\n",
       "      <td>54.71</td>\n",
       "      <td>N</td>\n",
       "    </tr>\n",
       "    <tr>\n",
       "      <th>3</th>\n",
       "      <td>41670299</td>\n",
       "      <td>2023-02-01</td>\n",
       "      <td>88.10</td>\n",
       "      <td>N</td>\n",
       "    </tr>\n",
       "    <tr>\n",
       "      <th>4</th>\n",
       "      <td>42825784</td>\n",
       "      <td>2023-02-01</td>\n",
       "      <td>217.22</td>\n",
       "      <td>Y</td>\n",
       "    </tr>\n",
       "  </tbody>\n",
       "</table>\n",
       "</div>"
      ],
      "text/plain": [
       "   Transaction ID Transaction Date   Value Cancelled?\n",
       "0         1957155       2023-02-01  128.78          N\n",
       "1        28234510       2023-02-01  163.82          N\n",
       "2        33688648       2023-02-01   54.71          N\n",
       "3        41670299       2023-02-01   88.10          N\n",
       "4        42825784       2023-02-01  217.22          Y"
      ]
     },
     "execution_count": 7,
     "metadata": {},
     "output_type": "execute_result"
    }
   ],
   "source": [
    "tdetail.head()"
   ]
  },
  {
   "cell_type": "code",
   "execution_count": 8,
   "id": "4b6c1284-b802-4465-aa40-b5aafbadec2c",
   "metadata": {
    "tags": []
   },
   "outputs": [
    {
     "data": {
      "text/html": [
       "<div>\n",
       "<style scoped>\n",
       "    .dataframe tbody tr th:only-of-type {\n",
       "        vertical-align: middle;\n",
       "    }\n",
       "\n",
       "    .dataframe tbody tr th {\n",
       "        vertical-align: top;\n",
       "    }\n",
       "\n",
       "    .dataframe thead th {\n",
       "        text-align: right;\n",
       "    }\n",
       "</style>\n",
       "<table border=\"1\" class=\"dataframe\">\n",
       "  <thead>\n",
       "    <tr style=\"text-align: right;\">\n",
       "      <th></th>\n",
       "      <th>Account Number</th>\n",
       "      <th>Account Type</th>\n",
       "      <th>Account Holder ID</th>\n",
       "      <th>Balance Date</th>\n",
       "      <th>Balance</th>\n",
       "    </tr>\n",
       "  </thead>\n",
       "  <tbody>\n",
       "    <tr>\n",
       "      <th>0</th>\n",
       "      <td>10005367</td>\n",
       "      <td>Platinum</td>\n",
       "      <td>70390615</td>\n",
       "      <td>2023-01-31</td>\n",
       "      <td>728.25</td>\n",
       "    </tr>\n",
       "    <tr>\n",
       "      <th>1</th>\n",
       "      <td>10011977</td>\n",
       "      <td>Basic</td>\n",
       "      <td>20123998</td>\n",
       "      <td>2023-01-31</td>\n",
       "      <td>676.54</td>\n",
       "    </tr>\n",
       "    <tr>\n",
       "      <th>2</th>\n",
       "      <td>10024680</td>\n",
       "      <td>Platinum</td>\n",
       "      <td>54374080</td>\n",
       "      <td>2023-01-31</td>\n",
       "      <td>567.46</td>\n",
       "    </tr>\n",
       "    <tr>\n",
       "      <th>3</th>\n",
       "      <td>10031238</td>\n",
       "      <td>Basic</td>\n",
       "      <td>97027297</td>\n",
       "      <td>2023-01-31</td>\n",
       "      <td>576.52</td>\n",
       "    </tr>\n",
       "    <tr>\n",
       "      <th>4</th>\n",
       "      <td>10034341</td>\n",
       "      <td>Joint</td>\n",
       "      <td>89920386, 97325900</td>\n",
       "      <td>2023-01-31</td>\n",
       "      <td>390.39</td>\n",
       "    </tr>\n",
       "  </tbody>\n",
       "</table>\n",
       "</div>"
      ],
      "text/plain": [
       "   Account Number Account Type   Account Holder ID Balance Date  Balance\n",
       "0        10005367     Platinum            70390615   2023-01-31   728.25\n",
       "1        10011977        Basic            20123998   2023-01-31   676.54\n",
       "2        10024680     Platinum            54374080   2023-01-31   567.46\n",
       "3        10031238        Basic            97027297   2023-01-31   576.52\n",
       "4        10034341        Joint  89920386, 97325900   2023-01-31   390.39"
      ]
     },
     "execution_count": 8,
     "metadata": {},
     "output_type": "execute_result"
    }
   ],
   "source": [
    "accinfo.head()"
   ]
  },
  {
   "cell_type": "markdown",
   "id": "4f372eb9-d4a9-4fc8-814a-cbed20d8a378",
   "metadata": {},
   "source": [
    "#### Change tpath headers"
   ]
  },
  {
   "cell_type": "code",
   "execution_count": 9,
   "id": "3b624601-a637-4b70-875c-851866e091f6",
   "metadata": {
    "tags": []
   },
   "outputs": [],
   "source": [
    "tpath = tpath.rename(columns={'Account_To':'Account To', 'Account_From':'Account From'})"
   ]
  },
  {
   "cell_type": "code",
   "execution_count": 10,
   "id": "cc0f4be9-06a5-4eee-a3b1-65ec38dd7470",
   "metadata": {
    "tags": []
   },
   "outputs": [
    {
     "data": {
      "text/html": [
       "<div>\n",
       "<style scoped>\n",
       "    .dataframe tbody tr th:only-of-type {\n",
       "        vertical-align: middle;\n",
       "    }\n",
       "\n",
       "    .dataframe tbody tr th {\n",
       "        vertical-align: top;\n",
       "    }\n",
       "\n",
       "    .dataframe thead th {\n",
       "        text-align: right;\n",
       "    }\n",
       "</style>\n",
       "<table border=\"1\" class=\"dataframe\">\n",
       "  <thead>\n",
       "    <tr style=\"text-align: right;\">\n",
       "      <th></th>\n",
       "      <th>Transaction ID</th>\n",
       "      <th>Account To</th>\n",
       "      <th>Account From</th>\n",
       "    </tr>\n",
       "  </thead>\n",
       "  <tbody>\n",
       "    <tr>\n",
       "      <th>0</th>\n",
       "      <td>1957155</td>\n",
       "      <td>27356852</td>\n",
       "      <td>76206810</td>\n",
       "    </tr>\n",
       "    <tr>\n",
       "      <th>1</th>\n",
       "      <td>2147025</td>\n",
       "      <td>44242297</td>\n",
       "      <td>24826358</td>\n",
       "    </tr>\n",
       "    <tr>\n",
       "      <th>2</th>\n",
       "      <td>3065073</td>\n",
       "      <td>10295384</td>\n",
       "      <td>52104303</td>\n",
       "    </tr>\n",
       "    <tr>\n",
       "      <th>3</th>\n",
       "      <td>6622100</td>\n",
       "      <td>45519330</td>\n",
       "      <td>69315008</td>\n",
       "    </tr>\n",
       "    <tr>\n",
       "      <th>4</th>\n",
       "      <td>14877473</td>\n",
       "      <td>28680375</td>\n",
       "      <td>44586370</td>\n",
       "    </tr>\n",
       "  </tbody>\n",
       "</table>\n",
       "</div>"
      ],
      "text/plain": [
       "   Transaction ID  Account To  Account From\n",
       "0         1957155    27356852      76206810\n",
       "1         2147025    44242297      24826358\n",
       "2         3065073    10295384      52104303\n",
       "3         6622100    45519330      69315008\n",
       "4        14877473    28680375      44586370"
      ]
     },
     "execution_count": 10,
     "metadata": {},
     "output_type": "execute_result"
    }
   ],
   "source": [
    "tpath.head()"
   ]
  },
  {
   "cell_type": "markdown",
   "id": "ae2d6d2a-6dfa-407e-b11e-5953bd915f9a",
   "metadata": {},
   "source": [
    "#### Remove cancelled transactions"
   ]
  },
  {
   "cell_type": "code",
   "execution_count": 11,
   "id": "8132479d-ffbe-4ebd-a217-27a8f88771bc",
   "metadata": {},
   "outputs": [
    {
     "data": {
      "text/html": [
       "<div>\n",
       "<style scoped>\n",
       "    .dataframe tbody tr th:only-of-type {\n",
       "        vertical-align: middle;\n",
       "    }\n",
       "\n",
       "    .dataframe tbody tr th {\n",
       "        vertical-align: top;\n",
       "    }\n",
       "\n",
       "    .dataframe thead th {\n",
       "        text-align: right;\n",
       "    }\n",
       "</style>\n",
       "<table border=\"1\" class=\"dataframe\">\n",
       "  <thead>\n",
       "    <tr style=\"text-align: right;\">\n",
       "      <th></th>\n",
       "      <th>Transaction ID</th>\n",
       "      <th>Transaction Date</th>\n",
       "      <th>Value</th>\n",
       "    </tr>\n",
       "    <tr>\n",
       "      <th>Cancelled?</th>\n",
       "      <th></th>\n",
       "      <th></th>\n",
       "      <th></th>\n",
       "    </tr>\n",
       "  </thead>\n",
       "  <tbody>\n",
       "    <tr>\n",
       "      <th>N</th>\n",
       "      <td>8689</td>\n",
       "      <td>8689</td>\n",
       "      <td>8689</td>\n",
       "    </tr>\n",
       "    <tr>\n",
       "      <th>Y</th>\n",
       "      <td>92</td>\n",
       "      <td>92</td>\n",
       "      <td>92</td>\n",
       "    </tr>\n",
       "  </tbody>\n",
       "</table>\n",
       "</div>"
      ],
      "text/plain": [
       "            Transaction ID  Transaction Date  Value\n",
       "Cancelled?                                         \n",
       "N                     8689              8689   8689\n",
       "Y                       92                92     92"
      ]
     },
     "execution_count": 11,
     "metadata": {},
     "output_type": "execute_result"
    }
   ],
   "source": [
    "tdetail.groupby('Cancelled?').count()"
   ]
  },
  {
   "cell_type": "code",
   "execution_count": 12,
   "id": "b2a6d6a7-39aa-40f0-a777-fd1e277bceaa",
   "metadata": {
    "tags": []
   },
   "outputs": [],
   "source": [
    "tdetail = tdetail.drop(tdetail[tdetail['Cancelled?']=='Y'].index)"
   ]
  },
  {
   "cell_type": "code",
   "execution_count": 13,
   "id": "c5dd91b8-25ef-4f1c-bbb2-51da4da4578d",
   "metadata": {
    "tags": []
   },
   "outputs": [
    {
     "data": {
      "text/html": [
       "<div>\n",
       "<style scoped>\n",
       "    .dataframe tbody tr th:only-of-type {\n",
       "        vertical-align: middle;\n",
       "    }\n",
       "\n",
       "    .dataframe tbody tr th {\n",
       "        vertical-align: top;\n",
       "    }\n",
       "\n",
       "    .dataframe thead th {\n",
       "        text-align: right;\n",
       "    }\n",
       "</style>\n",
       "<table border=\"1\" class=\"dataframe\">\n",
       "  <thead>\n",
       "    <tr style=\"text-align: right;\">\n",
       "      <th></th>\n",
       "      <th>Transaction ID</th>\n",
       "      <th>Transaction Date</th>\n",
       "      <th>Value</th>\n",
       "    </tr>\n",
       "    <tr>\n",
       "      <th>Cancelled?</th>\n",
       "      <th></th>\n",
       "      <th></th>\n",
       "      <th></th>\n",
       "    </tr>\n",
       "  </thead>\n",
       "  <tbody>\n",
       "    <tr>\n",
       "      <th>N</th>\n",
       "      <td>8689</td>\n",
       "      <td>8689</td>\n",
       "      <td>8689</td>\n",
       "    </tr>\n",
       "  </tbody>\n",
       "</table>\n",
       "</div>"
      ],
      "text/plain": [
       "            Transaction ID  Transaction Date  Value\n",
       "Cancelled?                                         \n",
       "N                     8689              8689   8689"
      ]
     },
     "execution_count": 13,
     "metadata": {},
     "output_type": "execute_result"
    }
   ],
   "source": [
    "tdetail.groupby('Cancelled?').count()"
   ]
  },
  {
   "cell_type": "markdown",
   "id": "01aab4d6-eded-43e0-a387-304de512a971",
   "metadata": {},
   "source": [
    "#### merge transactions details"
   ]
  },
  {
   "cell_type": "code",
   "execution_count": 14,
   "id": "8ae5e69a-2b2d-415e-8797-d6b36d0f96cd",
   "metadata": {
    "tags": []
   },
   "outputs": [],
   "source": [
    "txn = tpath.merge(tdetail, on='Transaction ID', how='left')"
   ]
  },
  {
   "cell_type": "markdown",
   "id": "fa290a6a-757e-4261-8519-b857f3d3f66a",
   "metadata": {},
   "source": [
    "#### Create transaction flow tables"
   ]
  },
  {
   "cell_type": "code",
   "execution_count": 15,
   "id": "af75a39d-2e36-4226-83e0-f392b022994e",
   "metadata": {
    "tags": []
   },
   "outputs": [],
   "source": [
    "# negative number for money leaving account\n",
    "txn['Account From Amount'] = txn['Value']*-1"
   ]
  },
  {
   "cell_type": "code",
   "execution_count": 16,
   "id": "1c81fe6b-d75e-4f74-a567-420d2ef7f06f",
   "metadata": {
    "tags": []
   },
   "outputs": [
    {
     "data": {
      "text/html": [
       "<div>\n",
       "<style scoped>\n",
       "    .dataframe tbody tr th:only-of-type {\n",
       "        vertical-align: middle;\n",
       "    }\n",
       "\n",
       "    .dataframe tbody tr th {\n",
       "        vertical-align: top;\n",
       "    }\n",
       "\n",
       "    .dataframe thead th {\n",
       "        text-align: right;\n",
       "    }\n",
       "</style>\n",
       "<table border=\"1\" class=\"dataframe\">\n",
       "  <thead>\n",
       "    <tr style=\"text-align: right;\">\n",
       "      <th></th>\n",
       "      <th>Transaction ID</th>\n",
       "      <th>Account To</th>\n",
       "      <th>Account From</th>\n",
       "      <th>Transaction Date</th>\n",
       "      <th>Value</th>\n",
       "      <th>Cancelled?</th>\n",
       "      <th>Account From Amount</th>\n",
       "    </tr>\n",
       "  </thead>\n",
       "  <tbody>\n",
       "    <tr>\n",
       "      <th>0</th>\n",
       "      <td>1957155</td>\n",
       "      <td>27356852</td>\n",
       "      <td>76206810</td>\n",
       "      <td>2023-02-01</td>\n",
       "      <td>128.78</td>\n",
       "      <td>N</td>\n",
       "      <td>-128.78</td>\n",
       "    </tr>\n",
       "    <tr>\n",
       "      <th>1</th>\n",
       "      <td>2147025</td>\n",
       "      <td>44242297</td>\n",
       "      <td>24826358</td>\n",
       "      <td>2023-02-09</td>\n",
       "      <td>170.19</td>\n",
       "      <td>N</td>\n",
       "      <td>-170.19</td>\n",
       "    </tr>\n",
       "    <tr>\n",
       "      <th>2</th>\n",
       "      <td>3065073</td>\n",
       "      <td>10295384</td>\n",
       "      <td>52104303</td>\n",
       "      <td>2023-02-06</td>\n",
       "      <td>87.57</td>\n",
       "      <td>N</td>\n",
       "      <td>-87.57</td>\n",
       "    </tr>\n",
       "    <tr>\n",
       "      <th>3</th>\n",
       "      <td>6622100</td>\n",
       "      <td>45519330</td>\n",
       "      <td>69315008</td>\n",
       "      <td>2023-02-07</td>\n",
       "      <td>85.76</td>\n",
       "      <td>N</td>\n",
       "      <td>-85.76</td>\n",
       "    </tr>\n",
       "    <tr>\n",
       "      <th>4</th>\n",
       "      <td>14877473</td>\n",
       "      <td>28680375</td>\n",
       "      <td>44586370</td>\n",
       "      <td>2023-02-02</td>\n",
       "      <td>84.65</td>\n",
       "      <td>N</td>\n",
       "      <td>-84.65</td>\n",
       "    </tr>\n",
       "  </tbody>\n",
       "</table>\n",
       "</div>"
      ],
      "text/plain": [
       "   Transaction ID  Account To  Account From Transaction Date   Value   \n",
       "0         1957155    27356852      76206810       2023-02-01  128.78  \\\n",
       "1         2147025    44242297      24826358       2023-02-09  170.19   \n",
       "2         3065073    10295384      52104303       2023-02-06   87.57   \n",
       "3         6622100    45519330      69315008       2023-02-07   85.76   \n",
       "4        14877473    28680375      44586370       2023-02-02   84.65   \n",
       "\n",
       "  Cancelled?  Account From Amount  \n",
       "0          N              -128.78  \n",
       "1          N              -170.19  \n",
       "2          N               -87.57  \n",
       "3          N               -85.76  \n",
       "4          N               -84.65  "
      ]
     },
     "execution_count": 16,
     "metadata": {},
     "output_type": "execute_result"
    }
   ],
   "source": [
    "txn.head()"
   ]
  },
  {
   "cell_type": "markdown",
   "id": "b0e9b3c8-3d6e-44e8-99ab-58e6c540068a",
   "metadata": {},
   "source": [
    "#### Table for money going into account"
   ]
  },
  {
   "cell_type": "code",
   "execution_count": 17,
   "id": "94cc7343-0347-4d48-9853-48d9fdacb181",
   "metadata": {
    "tags": []
   },
   "outputs": [],
   "source": [
    "txn_from = txn[['Account From','Transaction Date','Account From Amount']]"
   ]
  },
  {
   "cell_type": "code",
   "execution_count": 18,
   "id": "9af1f321-9ee3-44d7-abde-0c128ff393bb",
   "metadata": {
    "tags": []
   },
   "outputs": [],
   "source": [
    "txn_from = txn_from.rename(columns={'Account From':'Account Number', 'Transaction Date':'Balance Date', \\\n",
    "                         'Account From Amount':'Transaction Value'})"
   ]
  },
  {
   "cell_type": "markdown",
   "id": "74ab55c5-c671-4c99-aee9-9fb74be450cb",
   "metadata": {},
   "source": [
    "#### Table for money going out of account"
   ]
  },
  {
   "cell_type": "code",
   "execution_count": 19,
   "id": "b1174836-5b4f-4ffd-8f00-e973adef74a8",
   "metadata": {
    "tags": []
   },
   "outputs": [],
   "source": [
    "txn_to = txn[['Account To','Transaction Date','Value']]"
   ]
  },
  {
   "cell_type": "code",
   "execution_count": 20,
   "id": "2c56306f-33ff-4b38-960f-784e8279d119",
   "metadata": {
    "tags": []
   },
   "outputs": [],
   "source": [
    "txn_to = txn_to.rename(columns={'Account To':'Account Number', 'Transaction Date':'Balance Date', \\\n",
    "                         'Value':'Transaction Value'})"
   ]
  },
  {
   "cell_type": "markdown",
   "id": "919ae29d-093b-4dca-bca0-cf19e9ffaf7a",
   "metadata": {},
   "source": [
    "#### Statement table for starting balances"
   ]
  },
  {
   "cell_type": "code",
   "execution_count": 21,
   "id": "11fd368f-34bf-4e93-ab46-05b0d77e5190",
   "metadata": {
    "tags": []
   },
   "outputs": [],
   "source": [
    "stmt = accinfo[['Account Number','Balance Date','Balance']]"
   ]
  },
  {
   "cell_type": "code",
   "execution_count": 22,
   "id": "f14bdd53-4e1c-4f2a-977f-df1f7f062d19",
   "metadata": {
    "tags": []
   },
   "outputs": [
    {
     "name": "stderr",
     "output_type": "stream",
     "text": [
      "C:\\Users\\amar\\AppData\\Local\\Temp\\ipykernel_324\\2974513272.py:1: SettingWithCopyWarning: \n",
      "A value is trying to be set on a copy of a slice from a DataFrame.\n",
      "Try using .loc[row_indexer,col_indexer] = value instead\n",
      "\n",
      "See the caveats in the documentation: https://pandas.pydata.org/pandas-docs/stable/user_guide/indexing.html#returning-a-view-versus-a-copy\n",
      "  stmt['Transaction Value'] = np.nan\n"
     ]
    }
   ],
   "source": [
    "stmt['Transaction Value'] = np.nan"
   ]
  },
  {
   "cell_type": "markdown",
   "id": "c8b54f9e-e92b-40e6-aab3-9d1573944c0f",
   "metadata": {},
   "source": [
    "#### Merge all together"
   ]
  },
  {
   "cell_type": "code",
   "execution_count": 23,
   "id": "4d70f92b-7d3b-4465-9862-04a228202973",
   "metadata": {
    "tags": []
   },
   "outputs": [],
   "source": [
    "dfs = [stmt, txn_from, txn_to]"
   ]
  },
  {
   "cell_type": "code",
   "execution_count": 24,
   "id": "342ad4e4-aba0-478e-a817-6360158c215c",
   "metadata": {
    "tags": []
   },
   "outputs": [],
   "source": [
    "accs = pd.concat(dfs)"
   ]
  },
  {
   "cell_type": "code",
   "execution_count": 25,
   "id": "a865eb51-fe1f-4092-8167-cb83ed1fd895",
   "metadata": {
    "tags": []
   },
   "outputs": [
    {
     "data": {
      "text/html": [
       "<div>\n",
       "<style scoped>\n",
       "    .dataframe tbody tr th:only-of-type {\n",
       "        vertical-align: middle;\n",
       "    }\n",
       "\n",
       "    .dataframe tbody tr th {\n",
       "        vertical-align: top;\n",
       "    }\n",
       "\n",
       "    .dataframe thead th {\n",
       "        text-align: right;\n",
       "    }\n",
       "</style>\n",
       "<table border=\"1\" class=\"dataframe\">\n",
       "  <thead>\n",
       "    <tr style=\"text-align: right;\">\n",
       "      <th></th>\n",
       "      <th>Account Number</th>\n",
       "      <th>Balance Date</th>\n",
       "      <th>Balance</th>\n",
       "      <th>Transaction Value</th>\n",
       "    </tr>\n",
       "  </thead>\n",
       "  <tbody>\n",
       "    <tr>\n",
       "      <th>0</th>\n",
       "      <td>10005367</td>\n",
       "      <td>2023-01-31</td>\n",
       "      <td>728.25</td>\n",
       "      <td>NaN</td>\n",
       "    </tr>\n",
       "    <tr>\n",
       "      <th>1</th>\n",
       "      <td>10011977</td>\n",
       "      <td>2023-01-31</td>\n",
       "      <td>676.54</td>\n",
       "      <td>NaN</td>\n",
       "    </tr>\n",
       "    <tr>\n",
       "      <th>2</th>\n",
       "      <td>10024680</td>\n",
       "      <td>2023-01-31</td>\n",
       "      <td>567.46</td>\n",
       "      <td>NaN</td>\n",
       "    </tr>\n",
       "    <tr>\n",
       "      <th>3</th>\n",
       "      <td>10031238</td>\n",
       "      <td>2023-01-31</td>\n",
       "      <td>576.52</td>\n",
       "      <td>NaN</td>\n",
       "    </tr>\n",
       "    <tr>\n",
       "      <th>4</th>\n",
       "      <td>10034341</td>\n",
       "      <td>2023-01-31</td>\n",
       "      <td>390.39</td>\n",
       "      <td>NaN</td>\n",
       "    </tr>\n",
       "    <tr>\n",
       "      <th>...</th>\n",
       "      <td>...</td>\n",
       "      <td>...</td>\n",
       "      <td>...</td>\n",
       "      <td>...</td>\n",
       "    </tr>\n",
       "    <tr>\n",
       "      <th>8776</th>\n",
       "      <td>17925406</td>\n",
       "      <td>2023-02-13</td>\n",
       "      <td>NaN</td>\n",
       "      <td>112.38</td>\n",
       "    </tr>\n",
       "    <tr>\n",
       "      <th>8777</th>\n",
       "      <td>37678813</td>\n",
       "      <td>2023-02-13</td>\n",
       "      <td>NaN</td>\n",
       "      <td>78.14</td>\n",
       "    </tr>\n",
       "    <tr>\n",
       "      <th>8778</th>\n",
       "      <td>54458410</td>\n",
       "      <td>2023-02-09</td>\n",
       "      <td>NaN</td>\n",
       "      <td>138.80</td>\n",
       "    </tr>\n",
       "    <tr>\n",
       "      <th>8779</th>\n",
       "      <td>57426365</td>\n",
       "      <td>2023-02-01</td>\n",
       "      <td>NaN</td>\n",
       "      <td>123.23</td>\n",
       "    </tr>\n",
       "    <tr>\n",
       "      <th>8780</th>\n",
       "      <td>91423814</td>\n",
       "      <td>NaN</td>\n",
       "      <td>NaN</td>\n",
       "      <td>NaN</td>\n",
       "    </tr>\n",
       "  </tbody>\n",
       "</table>\n",
       "<p>20562 rows × 4 columns</p>\n",
       "</div>"
      ],
      "text/plain": [
       "      Account Number Balance Date  Balance  Transaction Value\n",
       "0           10005367   2023-01-31   728.25                NaN\n",
       "1           10011977   2023-01-31   676.54                NaN\n",
       "2           10024680   2023-01-31   567.46                NaN\n",
       "3           10031238   2023-01-31   576.52                NaN\n",
       "4           10034341   2023-01-31   390.39                NaN\n",
       "...              ...          ...      ...                ...\n",
       "8776        17925406   2023-02-13      NaN             112.38\n",
       "8777        37678813   2023-02-13      NaN              78.14\n",
       "8778        54458410   2023-02-09      NaN             138.80\n",
       "8779        57426365   2023-02-01      NaN             123.23\n",
       "8780        91423814          NaN      NaN                NaN\n",
       "\n",
       "[20562 rows x 4 columns]"
      ]
     },
     "execution_count": 25,
     "metadata": {},
     "output_type": "execute_result"
    }
   ],
   "source": [
    "accs"
   ]
  },
  {
   "cell_type": "markdown",
   "id": "45373d71-4183-4eda-91a8-b2a9525f370b",
   "metadata": {},
   "source": [
    "#### Sort based on date and account, then perform running sum"
   ]
  },
  {
   "cell_type": "code",
   "execution_count": 26,
   "id": "071fb7b0-8459-44b5-b559-20cb01e07ddf",
   "metadata": {
    "tags": []
   },
   "outputs": [],
   "source": [
    "accs = accs.sort_values(by=['Balance Date','Account Number','Transaction Value'],\\\n",
    "                       ascending=[True, True, False])"
   ]
  },
  {
   "cell_type": "code",
   "execution_count": 27,
   "id": "4aec23ed-8d83-4e5e-9d05-364f74f41457",
   "metadata": {
    "tags": []
   },
   "outputs": [
    {
     "data": {
      "text/html": [
       "<div>\n",
       "<style scoped>\n",
       "    .dataframe tbody tr th:only-of-type {\n",
       "        vertical-align: middle;\n",
       "    }\n",
       "\n",
       "    .dataframe tbody tr th {\n",
       "        vertical-align: top;\n",
       "    }\n",
       "\n",
       "    .dataframe thead th {\n",
       "        text-align: right;\n",
       "    }\n",
       "</style>\n",
       "<table border=\"1\" class=\"dataframe\">\n",
       "  <thead>\n",
       "    <tr style=\"text-align: right;\">\n",
       "      <th></th>\n",
       "      <th>Account Number</th>\n",
       "      <th>Balance Date</th>\n",
       "      <th>Balance</th>\n",
       "      <th>Transaction Value</th>\n",
       "    </tr>\n",
       "  </thead>\n",
       "  <tbody>\n",
       "    <tr>\n",
       "      <th>0</th>\n",
       "      <td>10005367</td>\n",
       "      <td>2023-01-31</td>\n",
       "      <td>728.25</td>\n",
       "      <td>NaN</td>\n",
       "    </tr>\n",
       "    <tr>\n",
       "      <th>1</th>\n",
       "      <td>10011977</td>\n",
       "      <td>2023-01-31</td>\n",
       "      <td>676.54</td>\n",
       "      <td>NaN</td>\n",
       "    </tr>\n",
       "    <tr>\n",
       "      <th>2</th>\n",
       "      <td>10024680</td>\n",
       "      <td>2023-01-31</td>\n",
       "      <td>567.46</td>\n",
       "      <td>NaN</td>\n",
       "    </tr>\n",
       "    <tr>\n",
       "      <th>3</th>\n",
       "      <td>10031238</td>\n",
       "      <td>2023-01-31</td>\n",
       "      <td>576.52</td>\n",
       "      <td>NaN</td>\n",
       "    </tr>\n",
       "    <tr>\n",
       "      <th>4</th>\n",
       "      <td>10034341</td>\n",
       "      <td>2023-01-31</td>\n",
       "      <td>390.39</td>\n",
       "      <td>NaN</td>\n",
       "    </tr>\n",
       "    <tr>\n",
       "      <th>...</th>\n",
       "      <td>...</td>\n",
       "      <td>...</td>\n",
       "      <td>...</td>\n",
       "      <td>...</td>\n",
       "    </tr>\n",
       "    <tr>\n",
       "      <th>7951</th>\n",
       "      <td>97913385</td>\n",
       "      <td>NaN</td>\n",
       "      <td>NaN</td>\n",
       "      <td>NaN</td>\n",
       "    </tr>\n",
       "    <tr>\n",
       "      <th>1754</th>\n",
       "      <td>97983552</td>\n",
       "      <td>NaN</td>\n",
       "      <td>NaN</td>\n",
       "      <td>NaN</td>\n",
       "    </tr>\n",
       "    <tr>\n",
       "      <th>1521</th>\n",
       "      <td>98611122</td>\n",
       "      <td>NaN</td>\n",
       "      <td>NaN</td>\n",
       "      <td>NaN</td>\n",
       "    </tr>\n",
       "    <tr>\n",
       "      <th>8780</th>\n",
       "      <td>98886699</td>\n",
       "      <td>NaN</td>\n",
       "      <td>NaN</td>\n",
       "      <td>NaN</td>\n",
       "    </tr>\n",
       "    <tr>\n",
       "      <th>1315</th>\n",
       "      <td>99015119</td>\n",
       "      <td>NaN</td>\n",
       "      <td>NaN</td>\n",
       "      <td>NaN</td>\n",
       "    </tr>\n",
       "  </tbody>\n",
       "</table>\n",
       "<p>20562 rows × 4 columns</p>\n",
       "</div>"
      ],
      "text/plain": [
       "      Account Number Balance Date  Balance  Transaction Value\n",
       "0           10005367   2023-01-31   728.25                NaN\n",
       "1           10011977   2023-01-31   676.54                NaN\n",
       "2           10024680   2023-01-31   567.46                NaN\n",
       "3           10031238   2023-01-31   576.52                NaN\n",
       "4           10034341   2023-01-31   390.39                NaN\n",
       "...              ...          ...      ...                ...\n",
       "7951        97913385          NaN      NaN                NaN\n",
       "1754        97983552          NaN      NaN                NaN\n",
       "1521        98611122          NaN      NaN                NaN\n",
       "8780        98886699          NaN      NaN                NaN\n",
       "1315        99015119          NaN      NaN                NaN\n",
       "\n",
       "[20562 rows x 4 columns]"
      ]
     },
     "execution_count": 27,
     "metadata": {},
     "output_type": "execute_result"
    }
   ],
   "source": [
    "accs"
   ]
  },
  {
   "cell_type": "code",
   "execution_count": 28,
   "id": "9bd6c169-af81-4bbd-bd31-a0117630780d",
   "metadata": {
    "tags": []
   },
   "outputs": [],
   "source": [
    "accs['total'] = (accs['Balance'].fillna(0) + accs['Transaction Value'].fillna(0)).groupby(accs['Account Number']).cumsum(skipna=True)"
   ]
  },
  {
   "cell_type": "code",
   "execution_count": 29,
   "id": "370bd38f-cd2c-474e-80fa-295ceca0d72b",
   "metadata": {
    "tags": []
   },
   "outputs": [
    {
     "data": {
      "text/html": [
       "<div>\n",
       "<style scoped>\n",
       "    .dataframe tbody tr th:only-of-type {\n",
       "        vertical-align: middle;\n",
       "    }\n",
       "\n",
       "    .dataframe tbody tr th {\n",
       "        vertical-align: top;\n",
       "    }\n",
       "\n",
       "    .dataframe thead th {\n",
       "        text-align: right;\n",
       "    }\n",
       "</style>\n",
       "<table border=\"1\" class=\"dataframe\">\n",
       "  <thead>\n",
       "    <tr style=\"text-align: right;\">\n",
       "      <th></th>\n",
       "      <th>Account Number</th>\n",
       "      <th>Balance Date</th>\n",
       "      <th>Balance</th>\n",
       "      <th>Transaction Value</th>\n",
       "      <th>total</th>\n",
       "    </tr>\n",
       "  </thead>\n",
       "  <tbody>\n",
       "    <tr>\n",
       "      <th>0</th>\n",
       "      <td>10005367</td>\n",
       "      <td>2023-01-31</td>\n",
       "      <td>728.25</td>\n",
       "      <td>NaN</td>\n",
       "      <td>728.25</td>\n",
       "    </tr>\n",
       "    <tr>\n",
       "      <th>1</th>\n",
       "      <td>10011977</td>\n",
       "      <td>2023-01-31</td>\n",
       "      <td>676.54</td>\n",
       "      <td>NaN</td>\n",
       "      <td>676.54</td>\n",
       "    </tr>\n",
       "    <tr>\n",
       "      <th>2</th>\n",
       "      <td>10024680</td>\n",
       "      <td>2023-01-31</td>\n",
       "      <td>567.46</td>\n",
       "      <td>NaN</td>\n",
       "      <td>567.46</td>\n",
       "    </tr>\n",
       "    <tr>\n",
       "      <th>3</th>\n",
       "      <td>10031238</td>\n",
       "      <td>2023-01-31</td>\n",
       "      <td>576.52</td>\n",
       "      <td>NaN</td>\n",
       "      <td>576.52</td>\n",
       "    </tr>\n",
       "    <tr>\n",
       "      <th>4</th>\n",
       "      <td>10034341</td>\n",
       "      <td>2023-01-31</td>\n",
       "      <td>390.39</td>\n",
       "      <td>NaN</td>\n",
       "      <td>390.39</td>\n",
       "    </tr>\n",
       "    <tr>\n",
       "      <th>...</th>\n",
       "      <td>...</td>\n",
       "      <td>...</td>\n",
       "      <td>...</td>\n",
       "      <td>...</td>\n",
       "      <td>...</td>\n",
       "    </tr>\n",
       "    <tr>\n",
       "      <th>7951</th>\n",
       "      <td>97913385</td>\n",
       "      <td>NaN</td>\n",
       "      <td>NaN</td>\n",
       "      <td>NaN</td>\n",
       "      <td>581.14</td>\n",
       "    </tr>\n",
       "    <tr>\n",
       "      <th>1754</th>\n",
       "      <td>97983552</td>\n",
       "      <td>NaN</td>\n",
       "      <td>NaN</td>\n",
       "      <td>NaN</td>\n",
       "      <td>-1691.41</td>\n",
       "    </tr>\n",
       "    <tr>\n",
       "      <th>1521</th>\n",
       "      <td>98611122</td>\n",
       "      <td>NaN</td>\n",
       "      <td>NaN</td>\n",
       "      <td>NaN</td>\n",
       "      <td>1302.30</td>\n",
       "    </tr>\n",
       "    <tr>\n",
       "      <th>8780</th>\n",
       "      <td>98886699</td>\n",
       "      <td>NaN</td>\n",
       "      <td>NaN</td>\n",
       "      <td>NaN</td>\n",
       "      <td>-422.56</td>\n",
       "    </tr>\n",
       "    <tr>\n",
       "      <th>1315</th>\n",
       "      <td>99015119</td>\n",
       "      <td>NaN</td>\n",
       "      <td>NaN</td>\n",
       "      <td>NaN</td>\n",
       "      <td>872.31</td>\n",
       "    </tr>\n",
       "  </tbody>\n",
       "</table>\n",
       "<p>20562 rows × 5 columns</p>\n",
       "</div>"
      ],
      "text/plain": [
       "      Account Number Balance Date  Balance  Transaction Value    total\n",
       "0           10005367   2023-01-31   728.25                NaN   728.25\n",
       "1           10011977   2023-01-31   676.54                NaN   676.54\n",
       "2           10024680   2023-01-31   567.46                NaN   567.46\n",
       "3           10031238   2023-01-31   576.52                NaN   576.52\n",
       "4           10034341   2023-01-31   390.39                NaN   390.39\n",
       "...              ...          ...      ...                ...      ...\n",
       "7951        97913385          NaN      NaN                NaN   581.14\n",
       "1754        97983552          NaN      NaN                NaN -1691.41\n",
       "1521        98611122          NaN      NaN                NaN  1302.30\n",
       "8780        98886699          NaN      NaN                NaN  -422.56\n",
       "1315        99015119          NaN      NaN                NaN   872.31\n",
       "\n",
       "[20562 rows x 5 columns]"
      ]
     },
     "execution_count": 29,
     "metadata": {},
     "output_type": "execute_result"
    }
   ],
   "source": [
    "accs"
   ]
  },
  {
   "cell_type": "markdown",
   "id": "83de7a1a-a9f1-424a-9992-f0d152480049",
   "metadata": {},
   "source": [
    "#### Check value against sample output to see if it's correct"
   ]
  },
  {
   "cell_type": "code",
   "execution_count": 30,
   "id": "aff3c363-84fe-4290-9783-954d6b6db906",
   "metadata": {
    "tags": []
   },
   "outputs": [
    {
     "data": {
      "text/html": [
       "<div>\n",
       "<style scoped>\n",
       "    .dataframe tbody tr th:only-of-type {\n",
       "        vertical-align: middle;\n",
       "    }\n",
       "\n",
       "    .dataframe tbody tr th {\n",
       "        vertical-align: top;\n",
       "    }\n",
       "\n",
       "    .dataframe thead th {\n",
       "        text-align: right;\n",
       "    }\n",
       "</style>\n",
       "<table border=\"1\" class=\"dataframe\">\n",
       "  <thead>\n",
       "    <tr style=\"text-align: right;\">\n",
       "      <th></th>\n",
       "      <th>Account Number</th>\n",
       "      <th>Balance Date</th>\n",
       "      <th>Balance</th>\n",
       "      <th>Transaction Value</th>\n",
       "      <th>total</th>\n",
       "    </tr>\n",
       "  </thead>\n",
       "  <tbody>\n",
       "    <tr>\n",
       "      <th>563</th>\n",
       "      <td>27356852</td>\n",
       "      <td>2023-01-31</td>\n",
       "      <td>414.82</td>\n",
       "      <td>NaN</td>\n",
       "      <td>414.82</td>\n",
       "    </tr>\n",
       "    <tr>\n",
       "      <th>7174</th>\n",
       "      <td>27356852</td>\n",
       "      <td>2023-02-01</td>\n",
       "      <td>NaN</td>\n",
       "      <td>160.76</td>\n",
       "      <td>575.58</td>\n",
       "    </tr>\n",
       "    <tr>\n",
       "      <th>0</th>\n",
       "      <td>27356852</td>\n",
       "      <td>2023-02-01</td>\n",
       "      <td>NaN</td>\n",
       "      <td>128.78</td>\n",
       "      <td>704.36</td>\n",
       "    </tr>\n",
       "    <tr>\n",
       "      <th>5070</th>\n",
       "      <td>27356852</td>\n",
       "      <td>2023-02-03</td>\n",
       "      <td>NaN</td>\n",
       "      <td>-99.42</td>\n",
       "      <td>604.94</td>\n",
       "    </tr>\n",
       "    <tr>\n",
       "      <th>3512</th>\n",
       "      <td>27356852</td>\n",
       "      <td>2023-02-04</td>\n",
       "      <td>NaN</td>\n",
       "      <td>381.60</td>\n",
       "      <td>986.54</td>\n",
       "    </tr>\n",
       "    <tr>\n",
       "      <th>3340</th>\n",
       "      <td>27356852</td>\n",
       "      <td>2023-02-04</td>\n",
       "      <td>NaN</td>\n",
       "      <td>-57.96</td>\n",
       "      <td>928.58</td>\n",
       "    </tr>\n",
       "    <tr>\n",
       "      <th>6417</th>\n",
       "      <td>27356852</td>\n",
       "      <td>2023-02-05</td>\n",
       "      <td>NaN</td>\n",
       "      <td>-116.94</td>\n",
       "      <td>811.64</td>\n",
       "    </tr>\n",
       "    <tr>\n",
       "      <th>5230</th>\n",
       "      <td>27356852</td>\n",
       "      <td>2023-02-10</td>\n",
       "      <td>NaN</td>\n",
       "      <td>1271.50</td>\n",
       "      <td>2083.14</td>\n",
       "    </tr>\n",
       "    <tr>\n",
       "      <th>6920</th>\n",
       "      <td>27356852</td>\n",
       "      <td>2023-02-12</td>\n",
       "      <td>NaN</td>\n",
       "      <td>-41.20</td>\n",
       "      <td>2041.94</td>\n",
       "    </tr>\n",
       "    <tr>\n",
       "      <th>5342</th>\n",
       "      <td>27356852</td>\n",
       "      <td>2023-02-12</td>\n",
       "      <td>NaN</td>\n",
       "      <td>-118.80</td>\n",
       "      <td>1923.14</td>\n",
       "    </tr>\n",
       "  </tbody>\n",
       "</table>\n",
       "</div>"
      ],
      "text/plain": [
       "      Account Number Balance Date  Balance  Transaction Value    total\n",
       "563         27356852   2023-01-31   414.82                NaN   414.82\n",
       "7174        27356852   2023-02-01      NaN             160.76   575.58\n",
       "0           27356852   2023-02-01      NaN             128.78   704.36\n",
       "5070        27356852   2023-02-03      NaN             -99.42   604.94\n",
       "3512        27356852   2023-02-04      NaN             381.60   986.54\n",
       "3340        27356852   2023-02-04      NaN             -57.96   928.58\n",
       "6417        27356852   2023-02-05      NaN            -116.94   811.64\n",
       "5230        27356852   2023-02-10      NaN            1271.50  2083.14\n",
       "6920        27356852   2023-02-12      NaN             -41.20  2041.94\n",
       "5342        27356852   2023-02-12      NaN            -118.80  1923.14"
      ]
     },
     "execution_count": 30,
     "metadata": {},
     "output_type": "execute_result"
    }
   ],
   "source": [
    "accs[accs['Account Number']==27356852]"
   ]
  },
  {
   "cell_type": "markdown",
   "id": "e85ab921-5df9-4701-acc6-0b0f736319fc",
   "metadata": {},
   "source": [
    "#### Replace Balance"
   ]
  },
  {
   "cell_type": "code",
   "execution_count": 31,
   "id": "dcff2876-5458-4ee0-861f-87030184c196",
   "metadata": {
    "tags": []
   },
   "outputs": [],
   "source": [
    "accs['Balance'] = accs['total']"
   ]
  },
  {
   "cell_type": "markdown",
   "id": "98dad1bb-bee1-49c4-89bf-df1e65ce6971",
   "metadata": {},
   "source": [
    "#### Drop Total"
   ]
  },
  {
   "cell_type": "code",
   "execution_count": 32,
   "id": "0b8b939a-c2c1-4835-ab95-e049de5a6558",
   "metadata": {
    "tags": []
   },
   "outputs": [],
   "source": [
    "accs = accs.drop('total', axis=1)"
   ]
  },
  {
   "cell_type": "markdown",
   "id": "85bc3c4c-2dfa-419f-a92e-8d3a97804ae2",
   "metadata": {},
   "source": [
    "#### Output"
   ]
  },
  {
   "cell_type": "code",
   "execution_count": 33,
   "id": "e37dc434-3ecf-4e9c-9a4c-7b8e08e2271f",
   "metadata": {
    "tags": []
   },
   "outputs": [],
   "source": [
    "accs.to_csv('2023W09_output.csv')"
   ]
  }
 ],
 "metadata": {
  "kernelspec": {
   "display_name": "Python 3 (ipykernel)",
   "language": "python",
   "name": "python3"
  },
  "language_info": {
   "codemirror_mode": {
    "name": "ipython",
    "version": 3
   },
   "file_extension": ".py",
   "mimetype": "text/x-python",
   "name": "python",
   "nbconvert_exporter": "python",
   "pygments_lexer": "ipython3",
   "version": "3.11.2"
  }
 },
 "nbformat": 4,
 "nbformat_minor": 5
}
