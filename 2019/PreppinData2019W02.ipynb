{
 "cells": [
  {
   "cell_type": "markdown",
   "id": "03d74a33-9d8c-4b77-b3e2-5a413993a566",
   "metadata": {},
   "source": [
    "# Preppin Data 2019 Week 02"
   ]
  },
  {
   "cell_type": "markdown",
   "id": "f4318530-ae81-4bd9-ba15-a3b6299289f8",
   "metadata": {},
   "source": [
    "https://preppindata.blogspot.com/2019/02/2019-week-2.html"
   ]
  },
  {
   "cell_type": "markdown",
   "id": "60f5571f-759b-4d55-8d6b-837a49bc67cd",
   "metadata": {},
   "source": [
    "Requirements for this week:\n",
    "* Import the file\n",
    "* Get rid of those nicely formatted titles - no-one is viewing this in Excel! (sorry Excel fans)\n",
    "* Make sure you get all the data in the Excel sheet loaded in to Prep\n",
    "* Clean up the City names to create two cities in one column (London and Edinburgh)\n",
    "* Pivot the data to give a measure per column for the four metrics in the data set\n",
    "* Output the data to csv\n",
    "\n",
    "Your output file should:\n",
    "* have 6 columns\n",
    "* have 14 rows of data and a row of headers\n",
    "* Have no cells without a value"
   ]
  },
  {
   "cell_type": "code",
   "execution_count": 1,
   "id": "8063582f-b215-48db-9b7e-f59c942c5222",
   "metadata": {},
   "outputs": [],
   "source": [
    "import pandas as pd"
   ]
  },
  {
   "cell_type": "code",
   "execution_count": 2,
   "id": "bdaa6365-d4e8-4c98-995c-b626452f462f",
   "metadata": {},
   "outputs": [],
   "source": [
    "import numpy as np"
   ]
  },
  {
   "cell_type": "code",
   "execution_count": 14,
   "id": "e7bf2f30-2e33-4d35-b1aa-3d311127e9e4",
   "metadata": {},
   "outputs": [],
   "source": [
    "df = pd.read_excel('PD 2019 Wk 2.xlsx', sheet_name='PC Wk 02')"
   ]
  },
  {
   "cell_type": "code",
   "execution_count": null,
   "id": "f07891bf-f98c-4fda-af58-fd7ea32a5e1a",
   "metadata": {},
   "outputs": [],
   "source": [
    "df"
   ]
  },
  {
   "cell_type": "code",
   "execution_count": 16,
   "id": "49440558-0c21-4e26-a535-ed44d14e2855",
   "metadata": {},
   "outputs": [],
   "source": [
    "# replace London typos\n",
    "df.City[0:28] = 'London'"
   ]
  },
  {
   "cell_type": "code",
   "execution_count": 18,
   "id": "296805d2-aaac-4bb6-a495-7648a10a023b",
   "metadata": {},
   "outputs": [],
   "source": [
    "# replace Edinburgh typos\n",
    "df.City[31:59]='Edinburgh'"
   ]
  },
  {
   "cell_type": "code",
   "execution_count": 42,
   "id": "1f02f9f6-a7e7-4cd7-8266-8dd0871c8349",
   "metadata": {},
   "outputs": [],
   "source": [
    "# drop blank rows\n",
    "df = df.drop([28, 29, 30])"
   ]
  },
  {
   "cell_type": "code",
   "execution_count": 34,
   "id": "5c31ca0f-88dc-4f01-9886-80b39e9808f2",
   "metadata": {},
   "outputs": [],
   "source": [
    "# combine fields to one new column\n",
    "df['Metric Name'] = df['Metric'] + '-' + df['Measure']"
   ]
  },
  {
   "cell_type": "code",
   "execution_count": 35,
   "id": "e65b56f4-f7d0-428d-9349-f7d6308407be",
   "metadata": {},
   "outputs": [
    {
     "data": {
      "text/html": [
       "<div>\n",
       "<style scoped>\n",
       "    .dataframe tbody tr th:only-of-type {\n",
       "        vertical-align: middle;\n",
       "    }\n",
       "\n",
       "    .dataframe tbody tr th {\n",
       "        vertical-align: top;\n",
       "    }\n",
       "\n",
       "    .dataframe thead th {\n",
       "        text-align: right;\n",
       "    }\n",
       "</style>\n",
       "<table border=\"1\" class=\"dataframe\">\n",
       "  <thead>\n",
       "    <tr style=\"text-align: right;\">\n",
       "      <th></th>\n",
       "      <th>City</th>\n",
       "      <th>Metric</th>\n",
       "      <th>Measure</th>\n",
       "      <th>Value</th>\n",
       "      <th>Date</th>\n",
       "      <th>Metric Name</th>\n",
       "    </tr>\n",
       "  </thead>\n",
       "  <tbody>\n",
       "    <tr>\n",
       "      <th>0</th>\n",
       "      <td>London</td>\n",
       "      <td>Max Temperature</td>\n",
       "      <td>Celsius</td>\n",
       "      <td>13.0</td>\n",
       "      <td>2019-02-16 00:00:00</td>\n",
       "      <td>Max Temperature-Celsius</td>\n",
       "    </tr>\n",
       "    <tr>\n",
       "      <th>1</th>\n",
       "      <td>London</td>\n",
       "      <td>Min Temperature</td>\n",
       "      <td>Celsius</td>\n",
       "      <td>6.0</td>\n",
       "      <td>2019-02-16 00:00:00</td>\n",
       "      <td>Min Temperature-Celsius</td>\n",
       "    </tr>\n",
       "    <tr>\n",
       "      <th>2</th>\n",
       "      <td>London</td>\n",
       "      <td>Precipitation</td>\n",
       "      <td>mm</td>\n",
       "      <td>2.0</td>\n",
       "      <td>2019-02-16 00:00:00</td>\n",
       "      <td>Precipitation-mm</td>\n",
       "    </tr>\n",
       "    <tr>\n",
       "      <th>3</th>\n",
       "      <td>London</td>\n",
       "      <td>Wind Speed</td>\n",
       "      <td>mph</td>\n",
       "      <td>7.0</td>\n",
       "      <td>2019-02-16 00:00:00</td>\n",
       "      <td>Wind Speed-mph</td>\n",
       "    </tr>\n",
       "    <tr>\n",
       "      <th>4</th>\n",
       "      <td>London</td>\n",
       "      <td>Max Temperature</td>\n",
       "      <td>Celsius</td>\n",
       "      <td>14.0</td>\n",
       "      <td>2019-02-17 00:00:00</td>\n",
       "      <td>Max Temperature-Celsius</td>\n",
       "    </tr>\n",
       "  </tbody>\n",
       "</table>\n",
       "</div>"
      ],
      "text/plain": [
       "     City           Metric  Measure Value                 Date  \\\n",
       "0  London  Max Temperature  Celsius  13.0  2019-02-16 00:00:00   \n",
       "1  London  Min Temperature  Celsius   6.0  2019-02-16 00:00:00   \n",
       "2  London    Precipitation       mm   2.0  2019-02-16 00:00:00   \n",
       "3  London       Wind Speed      mph   7.0  2019-02-16 00:00:00   \n",
       "4  London  Max Temperature  Celsius  14.0  2019-02-17 00:00:00   \n",
       "\n",
       "               Metric Name  \n",
       "0  Max Temperature-Celsius  \n",
       "1  Min Temperature-Celsius  \n",
       "2         Precipitation-mm  \n",
       "3           Wind Speed-mph  \n",
       "4  Max Temperature-Celsius  "
      ]
     },
     "execution_count": 35,
     "metadata": {},
     "output_type": "execute_result"
    }
   ],
   "source": [
    "df.head()"
   ]
  },
  {
   "cell_type": "code",
   "execution_count": 40,
   "id": "21909a6f-2ba4-482b-b7cf-3f4dd50269d4",
   "metadata": {},
   "outputs": [],
   "source": [
    "# drop unwanted columns\n",
    "df = df.drop(['Measure','Metric'], axis=1)"
   ]
  },
  {
   "cell_type": "code",
   "execution_count": 47,
   "id": "82317d23-9fab-4d6e-9f03-2d9c9759cf2d",
   "metadata": {},
   "outputs": [],
   "source": [
    "# pivot table\n",
    "df = df.pivot_table(index=['City','Date'],columns='Metric Name',values='Value')"
   ]
  },
  {
   "cell_type": "code",
   "execution_count": 48,
   "id": "4ffe7e29-b9c0-4fc5-bdbc-a8a02d276a73",
   "metadata": {},
   "outputs": [],
   "source": [
    "# export to csv\n",
    "df.to_csv('PD 2019 Wk 2.csv')"
   ]
  }
 ],
 "metadata": {
  "kernelspec": {
   "display_name": "Python 3 (ipykernel)",
   "language": "python",
   "name": "python3"
  },
  "language_info": {
   "codemirror_mode": {
    "name": "ipython",
    "version": 3
   },
   "file_extension": ".py",
   "mimetype": "text/x-python",
   "name": "python",
   "nbconvert_exporter": "python",
   "pygments_lexer": "ipython3",
   "version": "3.10.4"
  }
 },
 "nbformat": 4,
 "nbformat_minor": 5
}
