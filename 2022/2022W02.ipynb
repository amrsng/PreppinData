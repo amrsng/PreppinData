{
 "cells": [
  {
   "cell_type": "markdown",
   "id": "a7a06516-9834-4b96-9fdf-1ab56871d3da",
   "metadata": {},
   "source": [
    "# Preppin Data 2022 Week 2"
   ]
  },
  {
   "cell_type": "markdown",
   "id": "27ade2b4-53ae-45fa-aaf1-63221e56cfe8",
   "metadata": {},
   "source": [
    "#### Load data"
   ]
  },
  {
   "cell_type": "code",
   "execution_count": 1,
   "id": "8a9cc3dc-62dc-437a-adcb-258171316a46",
   "metadata": {
    "tags": []
   },
   "outputs": [],
   "source": [
    "import pandas as pd\n",
    "import datetime as dt"
   ]
  },
  {
   "cell_type": "code",
   "execution_count": 2,
   "id": "026903b5-1784-45ce-b978-c7e48017d1a8",
   "metadata": {
    "tags": []
   },
   "outputs": [],
   "source": [
    "df = pd.read_csv('PD 2022 Wk 1 Input - Input.csv')"
   ]
  },
  {
   "cell_type": "code",
   "execution_count": 3,
   "id": "d4f160ef-2371-4208-a329-460174eac00e",
   "metadata": {
    "tags": []
   },
   "outputs": [
    {
     "data": {
      "text/html": [
       "<div>\n",
       "<style scoped>\n",
       "    .dataframe tbody tr th:only-of-type {\n",
       "        vertical-align: middle;\n",
       "    }\n",
       "\n",
       "    .dataframe tbody tr th {\n",
       "        vertical-align: top;\n",
       "    }\n",
       "\n",
       "    .dataframe thead th {\n",
       "        text-align: right;\n",
       "    }\n",
       "</style>\n",
       "<table border=\"1\" class=\"dataframe\">\n",
       "  <thead>\n",
       "    <tr style=\"text-align: right;\">\n",
       "      <th></th>\n",
       "      <th>id</th>\n",
       "      <th>pupil first name</th>\n",
       "      <th>pupil last name</th>\n",
       "      <th>gender</th>\n",
       "      <th>Date of Birth</th>\n",
       "      <th>Parental Contact Name_1</th>\n",
       "      <th>Parental Contact Name_2</th>\n",
       "      <th>Preferred Contact Employer</th>\n",
       "      <th>Parental Contact</th>\n",
       "    </tr>\n",
       "  </thead>\n",
       "  <tbody>\n",
       "    <tr>\n",
       "      <th>0</th>\n",
       "      <td>1</td>\n",
       "      <td>Ronna</td>\n",
       "      <td>Nellies</td>\n",
       "      <td>Female</td>\n",
       "      <td>12/21/2013</td>\n",
       "      <td>Purcell</td>\n",
       "      <td>Ketti</td>\n",
       "      <td>Demizz</td>\n",
       "      <td>1</td>\n",
       "    </tr>\n",
       "    <tr>\n",
       "      <th>1</th>\n",
       "      <td>2</td>\n",
       "      <td>Rusty</td>\n",
       "      <td>Andriulis</td>\n",
       "      <td>Male</td>\n",
       "      <td>7/21/2012</td>\n",
       "      <td>Vassili</td>\n",
       "      <td>Rivi</td>\n",
       "      <td>Brainbox</td>\n",
       "      <td>1</td>\n",
       "    </tr>\n",
       "    <tr>\n",
       "      <th>2</th>\n",
       "      <td>3</td>\n",
       "      <td>Roberta</td>\n",
       "      <td>Oakeshott</td>\n",
       "      <td>Female</td>\n",
       "      <td>12/4/2011</td>\n",
       "      <td>Lind</td>\n",
       "      <td>Haskell</td>\n",
       "      <td>Centidel</td>\n",
       "      <td>2</td>\n",
       "    </tr>\n",
       "    <tr>\n",
       "      <th>3</th>\n",
       "      <td>4</td>\n",
       "      <td>Lola</td>\n",
       "      <td>Rubinfajn</td>\n",
       "      <td>Male</td>\n",
       "      <td>6/29/2012</td>\n",
       "      <td>Elie</td>\n",
       "      <td>Tresa</td>\n",
       "      <td>Edgeblab</td>\n",
       "      <td>2</td>\n",
       "    </tr>\n",
       "    <tr>\n",
       "      <th>4</th>\n",
       "      <td>5</td>\n",
       "      <td>Kamila</td>\n",
       "      <td>Benedtti</td>\n",
       "      <td>Female</td>\n",
       "      <td>7/10/2012</td>\n",
       "      <td>Adela</td>\n",
       "      <td>Clevey</td>\n",
       "      <td>Trudoo</td>\n",
       "      <td>1</td>\n",
       "    </tr>\n",
       "  </tbody>\n",
       "</table>\n",
       "</div>"
      ],
      "text/plain": [
       "   id pupil first name pupil last name  gender Date of Birth  \\\n",
       "0   1            Ronna         Nellies  Female    12/21/2013   \n",
       "1   2            Rusty       Andriulis    Male     7/21/2012   \n",
       "2   3          Roberta       Oakeshott  Female     12/4/2011   \n",
       "3   4             Lola       Rubinfajn    Male     6/29/2012   \n",
       "4   5           Kamila        Benedtti  Female     7/10/2012   \n",
       "\n",
       "  Parental Contact Name_1 Parental Contact Name_2 Preferred Contact Employer  \\\n",
       "0                 Purcell                   Ketti                     Demizz   \n",
       "1                 Vassili                    Rivi                   Brainbox   \n",
       "2                    Lind                 Haskell                   Centidel   \n",
       "3                    Elie                   Tresa                   Edgeblab   \n",
       "4                   Adela                  Clevey                     Trudoo   \n",
       "\n",
       "   Parental Contact  \n",
       "0                 1  \n",
       "1                 1  \n",
       "2                 2  \n",
       "3                 2  \n",
       "4                 1  "
      ]
     },
     "execution_count": 3,
     "metadata": {},
     "output_type": "execute_result"
    }
   ],
   "source": [
    "df.head()"
   ]
  },
  {
   "cell_type": "code",
   "execution_count": 4,
   "id": "2dcf20b3-b2a6-4881-8b4c-d04b5b721e9b",
   "metadata": {
    "tags": []
   },
   "outputs": [],
   "source": [
    "#### Create pupil's name"
   ]
  },
  {
   "cell_type": "code",
   "execution_count": 5,
   "id": "22a8a571-1199-4f5e-b378-ae0fe75cd222",
   "metadata": {
    "tags": []
   },
   "outputs": [],
   "source": [
    "df['Pupil Name'] = df['pupil first name'] + ' ' + df['pupil last name']"
   ]
  },
  {
   "cell_type": "markdown",
   "id": "27640167-42eb-4084-a1ae-1be9384ea11b",
   "metadata": {},
   "source": [
    "#### Remove unnecessary fields"
   ]
  },
  {
   "cell_type": "code",
   "execution_count": 6,
   "id": "5f0c6c08-39d9-4d4c-97b7-111818dca1aa",
   "metadata": {
    "tags": []
   },
   "outputs": [],
   "source": [
    "df = df.drop(['Parental Contact Name_1','Parental Contact Name_2','Preferred Contact Employer',\\\n",
    "              'Parental Contact', 'pupil first name', 'pupil last name'], axis=1)"
   ]
  },
  {
   "cell_type": "markdown",
   "id": "03a5a03f-8ab7-418b-bf10-6cd48f8d514c",
   "metadata": {
    "tags": []
   },
   "source": [
    "#### Create the date for the pupil's birthday in calendar year 2022"
   ]
  },
  {
   "cell_type": "code",
   "execution_count": 7,
   "id": "7d38692f-4c05-4a40-88a8-09e7f7929ffd",
   "metadata": {
    "tags": []
   },
   "outputs": [],
   "source": [
    "df['Date of Birth'] = pd.to_datetime(df['Date of Birth'])"
   ]
  },
  {
   "cell_type": "code",
   "execution_count": 8,
   "id": "6a4ae266-9e6f-4eb0-93ea-b6af35452be9",
   "metadata": {
    "tags": []
   },
   "outputs": [],
   "source": [
    "df[\"This Year's Birthday\"] = df['Date of Birth'].apply(lambda x: x.replace(year = 2022))"
   ]
  },
  {
   "cell_type": "code",
   "execution_count": 9,
   "id": "c1313bdc-074f-4d45-a71f-56d4c871e302",
   "metadata": {
    "tags": []
   },
   "outputs": [
    {
     "data": {
      "text/html": [
       "<div>\n",
       "<style scoped>\n",
       "    .dataframe tbody tr th:only-of-type {\n",
       "        vertical-align: middle;\n",
       "    }\n",
       "\n",
       "    .dataframe tbody tr th {\n",
       "        vertical-align: top;\n",
       "    }\n",
       "\n",
       "    .dataframe thead th {\n",
       "        text-align: right;\n",
       "    }\n",
       "</style>\n",
       "<table border=\"1\" class=\"dataframe\">\n",
       "  <thead>\n",
       "    <tr style=\"text-align: right;\">\n",
       "      <th></th>\n",
       "      <th>id</th>\n",
       "      <th>gender</th>\n",
       "      <th>Date of Birth</th>\n",
       "      <th>Pupil Name</th>\n",
       "      <th>This Year's Birthday</th>\n",
       "    </tr>\n",
       "  </thead>\n",
       "  <tbody>\n",
       "    <tr>\n",
       "      <th>0</th>\n",
       "      <td>1</td>\n",
       "      <td>Female</td>\n",
       "      <td>2013-12-21</td>\n",
       "      <td>Ronna Nellies</td>\n",
       "      <td>2022-12-21</td>\n",
       "    </tr>\n",
       "    <tr>\n",
       "      <th>1</th>\n",
       "      <td>2</td>\n",
       "      <td>Male</td>\n",
       "      <td>2012-07-21</td>\n",
       "      <td>Rusty Andriulis</td>\n",
       "      <td>2022-07-21</td>\n",
       "    </tr>\n",
       "    <tr>\n",
       "      <th>2</th>\n",
       "      <td>3</td>\n",
       "      <td>Female</td>\n",
       "      <td>2011-12-04</td>\n",
       "      <td>Roberta Oakeshott</td>\n",
       "      <td>2022-12-04</td>\n",
       "    </tr>\n",
       "    <tr>\n",
       "      <th>3</th>\n",
       "      <td>4</td>\n",
       "      <td>Male</td>\n",
       "      <td>2012-06-29</td>\n",
       "      <td>Lola Rubinfajn</td>\n",
       "      <td>2022-06-29</td>\n",
       "    </tr>\n",
       "    <tr>\n",
       "      <th>4</th>\n",
       "      <td>5</td>\n",
       "      <td>Female</td>\n",
       "      <td>2012-07-10</td>\n",
       "      <td>Kamila Benedtti</td>\n",
       "      <td>2022-07-10</td>\n",
       "    </tr>\n",
       "  </tbody>\n",
       "</table>\n",
       "</div>"
      ],
      "text/plain": [
       "   id  gender Date of Birth         Pupil Name This Year's Birthday\n",
       "0   1  Female    2013-12-21      Ronna Nellies           2022-12-21\n",
       "1   2    Male    2012-07-21    Rusty Andriulis           2022-07-21\n",
       "2   3  Female    2011-12-04  Roberta Oakeshott           2022-12-04\n",
       "3   4    Male    2012-06-29     Lola Rubinfajn           2022-06-29\n",
       "4   5  Female    2012-07-10    Kamila Benedtti           2022-07-10"
      ]
     },
     "execution_count": 9,
     "metadata": {},
     "output_type": "execute_result"
    }
   ],
   "source": [
    "df.head()"
   ]
  },
  {
   "cell_type": "markdown",
   "id": "23ec6bd8-6674-42e7-b534-be76ed6ed63a",
   "metadata": {},
   "source": [
    "#### Work out day of week (if Sat/Sun then Friday) and Month of Birthday"
   ]
  },
  {
   "cell_type": "code",
   "execution_count": 10,
   "id": "9c1c0822-7353-4e7f-8f78-1f7f088cf9e5",
   "metadata": {
    "tags": []
   },
   "outputs": [],
   "source": [
    "df['Cake Needed On'] = df[\"This Year's Birthday\"].dt.day_name()"
   ]
  },
  {
   "cell_type": "code",
   "execution_count": 11,
   "id": "8b344305-37c6-4fe8-a0b1-9ea703ba408f",
   "metadata": {
    "tags": []
   },
   "outputs": [],
   "source": [
    "df['Cake Needed On'] = df['Cake Needed On'].apply(lambda x: x.replace('Saturday','Friday'))"
   ]
  },
  {
   "cell_type": "code",
   "execution_count": 12,
   "id": "4a25360c-1218-41cf-9f71-58f6fa5269ec",
   "metadata": {
    "tags": []
   },
   "outputs": [],
   "source": [
    "df['Cake Needed On'] = df['Cake Needed On'].apply(lambda x: x.replace('Sunday','Friday'))"
   ]
  },
  {
   "cell_type": "code",
   "execution_count": 13,
   "id": "fd1d0a8f-b11e-4dcd-9109-7c507efc379e",
   "metadata": {
    "tags": []
   },
   "outputs": [],
   "source": [
    "df['Month'] = df[\"This Year's Birthday\"].dt.month_name()"
   ]
  },
  {
   "cell_type": "code",
   "execution_count": 14,
   "id": "70b98276-29e1-48d4-a3a3-b74e6771b5eb",
   "metadata": {
    "tags": []
   },
   "outputs": [
    {
     "data": {
      "text/html": [
       "<div>\n",
       "<style scoped>\n",
       "    .dataframe tbody tr th:only-of-type {\n",
       "        vertical-align: middle;\n",
       "    }\n",
       "\n",
       "    .dataframe tbody tr th {\n",
       "        vertical-align: top;\n",
       "    }\n",
       "\n",
       "    .dataframe thead th {\n",
       "        text-align: right;\n",
       "    }\n",
       "</style>\n",
       "<table border=\"1\" class=\"dataframe\">\n",
       "  <thead>\n",
       "    <tr style=\"text-align: right;\">\n",
       "      <th></th>\n",
       "      <th>id</th>\n",
       "      <th>gender</th>\n",
       "      <th>Date of Birth</th>\n",
       "      <th>Pupil Name</th>\n",
       "      <th>This Year's Birthday</th>\n",
       "      <th>Cake Needed On</th>\n",
       "      <th>Month</th>\n",
       "    </tr>\n",
       "  </thead>\n",
       "  <tbody>\n",
       "    <tr>\n",
       "      <th>0</th>\n",
       "      <td>1</td>\n",
       "      <td>Female</td>\n",
       "      <td>2013-12-21</td>\n",
       "      <td>Ronna Nellies</td>\n",
       "      <td>2022-12-21</td>\n",
       "      <td>Wednesday</td>\n",
       "      <td>December</td>\n",
       "    </tr>\n",
       "    <tr>\n",
       "      <th>1</th>\n",
       "      <td>2</td>\n",
       "      <td>Male</td>\n",
       "      <td>2012-07-21</td>\n",
       "      <td>Rusty Andriulis</td>\n",
       "      <td>2022-07-21</td>\n",
       "      <td>Thursday</td>\n",
       "      <td>July</td>\n",
       "    </tr>\n",
       "    <tr>\n",
       "      <th>2</th>\n",
       "      <td>3</td>\n",
       "      <td>Female</td>\n",
       "      <td>2011-12-04</td>\n",
       "      <td>Roberta Oakeshott</td>\n",
       "      <td>2022-12-04</td>\n",
       "      <td>Friday</td>\n",
       "      <td>December</td>\n",
       "    </tr>\n",
       "    <tr>\n",
       "      <th>3</th>\n",
       "      <td>4</td>\n",
       "      <td>Male</td>\n",
       "      <td>2012-06-29</td>\n",
       "      <td>Lola Rubinfajn</td>\n",
       "      <td>2022-06-29</td>\n",
       "      <td>Wednesday</td>\n",
       "      <td>June</td>\n",
       "    </tr>\n",
       "    <tr>\n",
       "      <th>4</th>\n",
       "      <td>5</td>\n",
       "      <td>Female</td>\n",
       "      <td>2012-07-10</td>\n",
       "      <td>Kamila Benedtti</td>\n",
       "      <td>2022-07-10</td>\n",
       "      <td>Friday</td>\n",
       "      <td>July</td>\n",
       "    </tr>\n",
       "  </tbody>\n",
       "</table>\n",
       "</div>"
      ],
      "text/plain": [
       "   id  gender Date of Birth         Pupil Name This Year's Birthday  \\\n",
       "0   1  Female    2013-12-21      Ronna Nellies           2022-12-21   \n",
       "1   2    Male    2012-07-21    Rusty Andriulis           2022-07-21   \n",
       "2   3  Female    2011-12-04  Roberta Oakeshott           2022-12-04   \n",
       "3   4    Male    2012-06-29     Lola Rubinfajn           2022-06-29   \n",
       "4   5  Female    2012-07-10    Kamila Benedtti           2022-07-10   \n",
       "\n",
       "  Cake Needed On     Month  \n",
       "0      Wednesday  December  \n",
       "1       Thursday      July  \n",
       "2         Friday  December  \n",
       "3      Wednesday      June  \n",
       "4         Friday      July  "
      ]
     },
     "execution_count": 14,
     "metadata": {},
     "output_type": "execute_result"
    }
   ],
   "source": [
    "df.head()"
   ]
  },
  {
   "cell_type": "markdown",
   "id": "688ef629-d3e7-4b63-a129-b84ee312d353",
   "metadata": {},
   "source": [
    "#### Count how many birthdays there are on each weekday in each month"
   ]
  },
  {
   "cell_type": "code",
   "execution_count": 46,
   "id": "7dbf5176-3d63-45c1-9d86-828ef5eb8652",
   "metadata": {
    "tags": []
   },
   "outputs": [],
   "source": [
    "df_group = df.groupby(['Month','Cake Needed On'], as_index=False).size()"
   ]
  },
  {
   "cell_type": "code",
   "execution_count": 48,
   "id": "39b9d14c-89b7-4b8a-8131-d7d04bde4dc1",
   "metadata": {
    "tags": []
   },
   "outputs": [],
   "source": [
    "df = df.merge(df_group, on=['Month','Cake Needed On'])"
   ]
  },
  {
   "cell_type": "code",
   "execution_count": 53,
   "id": "c063a2c9-28bb-482a-9f40-11ae35aa6439",
   "metadata": {
    "tags": []
   },
   "outputs": [],
   "source": [
    "df['BDs per Weekday and Month'] = df['size']"
   ]
  },
  {
   "cell_type": "code",
   "execution_count": 55,
   "id": "5a684806-69a3-4a83-b092-024c02c5a583",
   "metadata": {
    "tags": []
   },
   "outputs": [],
   "source": [
    "df = df.drop('size', axis=1)"
   ]
  },
  {
   "cell_type": "code",
   "execution_count": 60,
   "id": "de48340e-0fd5-400c-9c77-ad993809168e",
   "metadata": {
    "tags": []
   },
   "outputs": [],
   "source": [
    "df = df.sort_values('id')"
   ]
  },
  {
   "cell_type": "code",
   "execution_count": 61,
   "id": "45034f57-6e3d-4e6b-8bb8-3dd96f6e1099",
   "metadata": {
    "tags": []
   },
   "outputs": [
    {
     "data": {
      "text/html": [
       "<div>\n",
       "<style scoped>\n",
       "    .dataframe tbody tr th:only-of-type {\n",
       "        vertical-align: middle;\n",
       "    }\n",
       "\n",
       "    .dataframe tbody tr th {\n",
       "        vertical-align: top;\n",
       "    }\n",
       "\n",
       "    .dataframe thead th {\n",
       "        text-align: right;\n",
       "    }\n",
       "</style>\n",
       "<table border=\"1\" class=\"dataframe\">\n",
       "  <thead>\n",
       "    <tr style=\"text-align: right;\">\n",
       "      <th></th>\n",
       "      <th>id</th>\n",
       "      <th>gender</th>\n",
       "      <th>Date of Birth</th>\n",
       "      <th>Pupil Name</th>\n",
       "      <th>This Year's Birthday</th>\n",
       "      <th>Cake Needed On</th>\n",
       "      <th>Month</th>\n",
       "      <th>BDs per Weekday and Month</th>\n",
       "    </tr>\n",
       "  </thead>\n",
       "  <tbody>\n",
       "    <tr>\n",
       "      <th>0</th>\n",
       "      <td>1</td>\n",
       "      <td>Female</td>\n",
       "      <td>2013-12-21</td>\n",
       "      <td>Ronna Nellies</td>\n",
       "      <td>2022-12-21</td>\n",
       "      <td>Wednesday</td>\n",
       "      <td>December</td>\n",
       "      <td>9</td>\n",
       "    </tr>\n",
       "    <tr>\n",
       "      <th>9</th>\n",
       "      <td>2</td>\n",
       "      <td>Male</td>\n",
       "      <td>2012-07-21</td>\n",
       "      <td>Rusty Andriulis</td>\n",
       "      <td>2022-07-21</td>\n",
       "      <td>Thursday</td>\n",
       "      <td>July</td>\n",
       "      <td>12</td>\n",
       "    </tr>\n",
       "    <tr>\n",
       "      <th>21</th>\n",
       "      <td>3</td>\n",
       "      <td>Female</td>\n",
       "      <td>2011-12-04</td>\n",
       "      <td>Roberta Oakeshott</td>\n",
       "      <td>2022-12-04</td>\n",
       "      <td>Friday</td>\n",
       "      <td>December</td>\n",
       "      <td>45</td>\n",
       "    </tr>\n",
       "    <tr>\n",
       "      <th>66</th>\n",
       "      <td>4</td>\n",
       "      <td>Male</td>\n",
       "      <td>2012-06-29</td>\n",
       "      <td>Lola Rubinfajn</td>\n",
       "      <td>2022-06-29</td>\n",
       "      <td>Wednesday</td>\n",
       "      <td>June</td>\n",
       "      <td>15</td>\n",
       "    </tr>\n",
       "    <tr>\n",
       "      <th>81</th>\n",
       "      <td>5</td>\n",
       "      <td>Female</td>\n",
       "      <td>2012-07-10</td>\n",
       "      <td>Kamila Benedtti</td>\n",
       "      <td>2022-07-10</td>\n",
       "      <td>Friday</td>\n",
       "      <td>July</td>\n",
       "      <td>49</td>\n",
       "    </tr>\n",
       "  </tbody>\n",
       "</table>\n",
       "</div>"
      ],
      "text/plain": [
       "    id  gender Date of Birth         Pupil Name This Year's Birthday  \\\n",
       "0    1  Female    2013-12-21      Ronna Nellies           2022-12-21   \n",
       "9    2    Male    2012-07-21    Rusty Andriulis           2022-07-21   \n",
       "21   3  Female    2011-12-04  Roberta Oakeshott           2022-12-04   \n",
       "66   4    Male    2012-06-29     Lola Rubinfajn           2022-06-29   \n",
       "81   5  Female    2012-07-10    Kamila Benedtti           2022-07-10   \n",
       "\n",
       "   Cake Needed On     Month  BDs per Weekday and Month  \n",
       "0       Wednesday  December                          9  \n",
       "9        Thursday      July                         12  \n",
       "21         Friday  December                         45  \n",
       "66      Wednesday      June                         15  \n",
       "81         Friday      July                         49  "
      ]
     },
     "execution_count": 61,
     "metadata": {},
     "output_type": "execute_result"
    }
   ],
   "source": [
    "df.head()"
   ]
  },
  {
   "cell_type": "markdown",
   "id": "b2b0bcd2-7009-4533-af8f-1259310c00a1",
   "metadata": {},
   "source": [
    "#### Export data"
   ]
  },
  {
   "cell_type": "code",
   "execution_count": 63,
   "id": "ab9ab980-6ff8-433c-8ed5-727bd51e71df",
   "metadata": {
    "tags": []
   },
   "outputs": [],
   "source": [
    "df[['Pupil Name', 'Date of Birth',\"This Year's Birthday\",'Month','Cake Needed On',\\\n",
    "    'BDs per Weekday and Month']].to_csv('2022W02_output.csv', index=False)"
   ]
  },
  {
   "cell_type": "code",
   "execution_count": null,
   "id": "f873defe-fe2d-4e2f-838f-c5324542d3e3",
   "metadata": {},
   "outputs": [],
   "source": []
  }
 ],
 "metadata": {
  "kernelspec": {
   "display_name": "Python 3 (ipykernel)",
   "language": "python",
   "name": "python3"
  },
  "language_info": {
   "codemirror_mode": {
    "name": "ipython",
    "version": 3
   },
   "file_extension": ".py",
   "mimetype": "text/x-python",
   "name": "python",
   "nbconvert_exporter": "python",
   "pygments_lexer": "ipython3",
   "version": "3.11.2"
  }
 },
 "nbformat": 4,
 "nbformat_minor": 5
}
