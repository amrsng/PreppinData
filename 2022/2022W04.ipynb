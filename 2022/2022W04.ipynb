{
 "cells": [
  {
   "cell_type": "markdown",
   "id": "5e1c547f-d7dc-469e-9bcf-e6e6981f969b",
   "metadata": {},
   "source": [
    "# Preppin' Data 2023 Week 4"
   ]
  },
  {
   "cell_type": "markdown",
   "id": "7c810053-342b-4da5-9544-955061985d2e",
   "metadata": {},
   "source": [
    "#### Load data"
   ]
  },
  {
   "cell_type": "code",
   "execution_count": 81,
   "id": "58910422-18ae-483d-8c0f-202cc115ce0c",
   "metadata": {
    "tags": []
   },
   "outputs": [],
   "source": [
    "import pandas as pd"
   ]
  },
  {
   "cell_type": "code",
   "execution_count": 82,
   "id": "f31ba450-be62-4b37-8e06-adaafbff6c14",
   "metadata": {
    "tags": []
   },
   "outputs": [],
   "source": [
    "pupils = pd.read_csv('PD 2022 Wk 1 Input - Input.csv')"
   ]
  },
  {
   "cell_type": "code",
   "execution_count": 83,
   "id": "fa0f2a65-bfa0-4ab2-a145-ec88ab2af246",
   "metadata": {
    "tags": []
   },
   "outputs": [],
   "source": [
    "pref = pd.read_csv('PD 2021 WK 1 to 4 ideas - Preferences of Travel.csv')"
   ]
  },
  {
   "cell_type": "markdown",
   "id": "e0d791a4-7f61-4bf8-b97a-895b5aee7316",
   "metadata": {},
   "source": [
    "#### Join the data sets together based on their common field"
   ]
  },
  {
   "cell_type": "code",
   "execution_count": 84,
   "id": "a2c0e8ca-1580-428d-975e-50c43b07cd30",
   "metadata": {
    "tags": []
   },
   "outputs": [],
   "source": [
    "df = pupils.merge(pref, how='inner', left_on='id', right_on='Student ID')"
   ]
  },
  {
   "cell_type": "code",
   "execution_count": 85,
   "id": "9537c784-d93e-4bab-ae4c-15ec4e1879b4",
   "metadata": {
    "tags": []
   },
   "outputs": [
    {
     "data": {
      "text/html": [
       "<div>\n",
       "<style scoped>\n",
       "    .dataframe tbody tr th:only-of-type {\n",
       "        vertical-align: middle;\n",
       "    }\n",
       "\n",
       "    .dataframe tbody tr th {\n",
       "        vertical-align: top;\n",
       "    }\n",
       "\n",
       "    .dataframe thead th {\n",
       "        text-align: right;\n",
       "    }\n",
       "</style>\n",
       "<table border=\"1\" class=\"dataframe\">\n",
       "  <thead>\n",
       "    <tr style=\"text-align: right;\">\n",
       "      <th></th>\n",
       "      <th>id</th>\n",
       "      <th>pupil first name</th>\n",
       "      <th>pupil last name</th>\n",
       "      <th>gender</th>\n",
       "      <th>Date of Birth</th>\n",
       "      <th>Parental Contact Name_1</th>\n",
       "      <th>Parental Contact Name_2</th>\n",
       "      <th>Preferred Contact Employer</th>\n",
       "      <th>Parental Contact</th>\n",
       "      <th>Student ID</th>\n",
       "      <th>M</th>\n",
       "      <th>Tu</th>\n",
       "      <th>W</th>\n",
       "      <th>Th</th>\n",
       "      <th>F</th>\n",
       "    </tr>\n",
       "  </thead>\n",
       "  <tbody>\n",
       "    <tr>\n",
       "      <th>0</th>\n",
       "      <td>1</td>\n",
       "      <td>Ronna</td>\n",
       "      <td>Nellies</td>\n",
       "      <td>Female</td>\n",
       "      <td>12/21/2013</td>\n",
       "      <td>Purcell</td>\n",
       "      <td>Ketti</td>\n",
       "      <td>Demizz</td>\n",
       "      <td>1</td>\n",
       "      <td>1</td>\n",
       "      <td>Car</td>\n",
       "      <td>Car</td>\n",
       "      <td>Car</td>\n",
       "      <td>Car</td>\n",
       "      <td>Bycycle</td>\n",
       "    </tr>\n",
       "    <tr>\n",
       "      <th>1</th>\n",
       "      <td>2</td>\n",
       "      <td>Rusty</td>\n",
       "      <td>Andriulis</td>\n",
       "      <td>Male</td>\n",
       "      <td>7/21/2012</td>\n",
       "      <td>Vassili</td>\n",
       "      <td>Rivi</td>\n",
       "      <td>Brainbox</td>\n",
       "      <td>1</td>\n",
       "      <td>2</td>\n",
       "      <td>Bicycle</td>\n",
       "      <td>Bicycle</td>\n",
       "      <td>Bicycle</td>\n",
       "      <td>Walk</td>\n",
       "      <td>Walk</td>\n",
       "    </tr>\n",
       "    <tr>\n",
       "      <th>2</th>\n",
       "      <td>3</td>\n",
       "      <td>Roberta</td>\n",
       "      <td>Oakeshott</td>\n",
       "      <td>Female</td>\n",
       "      <td>12/4/2011</td>\n",
       "      <td>Lind</td>\n",
       "      <td>Haskell</td>\n",
       "      <td>Centidel</td>\n",
       "      <td>2</td>\n",
       "      <td>3</td>\n",
       "      <td>Car</td>\n",
       "      <td>Bicycle</td>\n",
       "      <td>Carr</td>\n",
       "      <td>Walk</td>\n",
       "      <td>Car</td>\n",
       "    </tr>\n",
       "    <tr>\n",
       "      <th>3</th>\n",
       "      <td>4</td>\n",
       "      <td>Lola</td>\n",
       "      <td>Rubinfajn</td>\n",
       "      <td>Male</td>\n",
       "      <td>6/29/2012</td>\n",
       "      <td>Elie</td>\n",
       "      <td>Tresa</td>\n",
       "      <td>Edgeblab</td>\n",
       "      <td>2</td>\n",
       "      <td>4</td>\n",
       "      <td>Scooter</td>\n",
       "      <td>Scooter</td>\n",
       "      <td>Scootr</td>\n",
       "      <td>Scooter</td>\n",
       "      <td>Scoter</td>\n",
       "    </tr>\n",
       "    <tr>\n",
       "      <th>4</th>\n",
       "      <td>5</td>\n",
       "      <td>Kamila</td>\n",
       "      <td>Benedtti</td>\n",
       "      <td>Female</td>\n",
       "      <td>7/10/2012</td>\n",
       "      <td>Adela</td>\n",
       "      <td>Clevey</td>\n",
       "      <td>Trudoo</td>\n",
       "      <td>1</td>\n",
       "      <td>5</td>\n",
       "      <td>Bycycle</td>\n",
       "      <td>Carr</td>\n",
       "      <td>Scoter</td>\n",
       "      <td>Walkk</td>\n",
       "      <td>Scoter</td>\n",
       "    </tr>\n",
       "  </tbody>\n",
       "</table>\n",
       "</div>"
      ],
      "text/plain": [
       "   id pupil first name pupil last name  gender Date of Birth  \\\n",
       "0   1            Ronna         Nellies  Female    12/21/2013   \n",
       "1   2            Rusty       Andriulis    Male     7/21/2012   \n",
       "2   3          Roberta       Oakeshott  Female     12/4/2011   \n",
       "3   4             Lola       Rubinfajn    Male     6/29/2012   \n",
       "4   5           Kamila        Benedtti  Female     7/10/2012   \n",
       "\n",
       "  Parental Contact Name_1 Parental Contact Name_2 Preferred Contact Employer  \\\n",
       "0                 Purcell                   Ketti                     Demizz   \n",
       "1                 Vassili                    Rivi                   Brainbox   \n",
       "2                    Lind                 Haskell                   Centidel   \n",
       "3                    Elie                   Tresa                   Edgeblab   \n",
       "4                   Adela                  Clevey                     Trudoo   \n",
       "\n",
       "   Parental Contact  Student ID        M       Tu        W       Th        F  \n",
       "0                 1           1      Car      Car      Car      Car  Bycycle  \n",
       "1                 1           2  Bicycle  Bicycle  Bicycle     Walk     Walk  \n",
       "2                 2           3      Car  Bicycle     Carr     Walk      Car  \n",
       "3                 2           4  Scooter  Scooter   Scootr  Scooter   Scoter  \n",
       "4                 1           5  Bycycle     Carr   Scoter    Walkk   Scoter  "
      ]
     },
     "execution_count": 85,
     "metadata": {},
     "output_type": "execute_result"
    }
   ],
   "source": [
    "df.head()"
   ]
  },
  {
   "cell_type": "markdown",
   "id": "a66c415c-6a70-4a59-8928-585f2aab68bd",
   "metadata": {},
   "source": [
    "#### Remove any fields you don't need for the challenge"
   ]
  },
  {
   "cell_type": "code",
   "execution_count": 86,
   "id": "95bbc74a-1d04-417e-92c5-9557d8c2f236",
   "metadata": {
    "tags": []
   },
   "outputs": [],
   "source": [
    "df = df.drop(['id','pupil first name','pupil last name','gender','Date of Birth',\\\n",
    "           'Parental Contact Name_1','Parental Contact Name_2','Preferred Contact Employer',\\\n",
    "              'Parental Contact'], axis=1)"
   ]
  },
  {
   "cell_type": "code",
   "execution_count": 87,
   "id": "31ebda73-7462-4eef-a767-34b8c6dbc1e9",
   "metadata": {
    "tags": []
   },
   "outputs": [
    {
     "data": {
      "text/html": [
       "<div>\n",
       "<style scoped>\n",
       "    .dataframe tbody tr th:only-of-type {\n",
       "        vertical-align: middle;\n",
       "    }\n",
       "\n",
       "    .dataframe tbody tr th {\n",
       "        vertical-align: top;\n",
       "    }\n",
       "\n",
       "    .dataframe thead th {\n",
       "        text-align: right;\n",
       "    }\n",
       "</style>\n",
       "<table border=\"1\" class=\"dataframe\">\n",
       "  <thead>\n",
       "    <tr style=\"text-align: right;\">\n",
       "      <th></th>\n",
       "      <th>Student ID</th>\n",
       "      <th>M</th>\n",
       "      <th>Tu</th>\n",
       "      <th>W</th>\n",
       "      <th>Th</th>\n",
       "      <th>F</th>\n",
       "    </tr>\n",
       "  </thead>\n",
       "  <tbody>\n",
       "    <tr>\n",
       "      <th>0</th>\n",
       "      <td>1</td>\n",
       "      <td>Car</td>\n",
       "      <td>Car</td>\n",
       "      <td>Car</td>\n",
       "      <td>Car</td>\n",
       "      <td>Bycycle</td>\n",
       "    </tr>\n",
       "    <tr>\n",
       "      <th>1</th>\n",
       "      <td>2</td>\n",
       "      <td>Bicycle</td>\n",
       "      <td>Bicycle</td>\n",
       "      <td>Bicycle</td>\n",
       "      <td>Walk</td>\n",
       "      <td>Walk</td>\n",
       "    </tr>\n",
       "    <tr>\n",
       "      <th>2</th>\n",
       "      <td>3</td>\n",
       "      <td>Car</td>\n",
       "      <td>Bicycle</td>\n",
       "      <td>Carr</td>\n",
       "      <td>Walk</td>\n",
       "      <td>Car</td>\n",
       "    </tr>\n",
       "    <tr>\n",
       "      <th>3</th>\n",
       "      <td>4</td>\n",
       "      <td>Scooter</td>\n",
       "      <td>Scooter</td>\n",
       "      <td>Scootr</td>\n",
       "      <td>Scooter</td>\n",
       "      <td>Scoter</td>\n",
       "    </tr>\n",
       "    <tr>\n",
       "      <th>4</th>\n",
       "      <td>5</td>\n",
       "      <td>Bycycle</td>\n",
       "      <td>Carr</td>\n",
       "      <td>Scoter</td>\n",
       "      <td>Walkk</td>\n",
       "      <td>Scoter</td>\n",
       "    </tr>\n",
       "  </tbody>\n",
       "</table>\n",
       "</div>"
      ],
      "text/plain": [
       "   Student ID        M       Tu        W       Th        F\n",
       "0           1      Car      Car      Car      Car  Bycycle\n",
       "1           2  Bicycle  Bicycle  Bicycle     Walk     Walk\n",
       "2           3      Car  Bicycle     Carr     Walk      Car\n",
       "3           4  Scooter  Scooter   Scootr  Scooter   Scoter\n",
       "4           5  Bycycle     Carr   Scoter    Walkk   Scoter"
      ]
     },
     "execution_count": 87,
     "metadata": {},
     "output_type": "execute_result"
    }
   ],
   "source": [
    "df.head()"
   ]
  },
  {
   "cell_type": "markdown",
   "id": "f436f101-997e-4ba2-b3b6-881344902825",
   "metadata": {},
   "source": [
    "#### Change the weekdays from separate columns to one column of weekdays and one of the pupil's travel choice"
   ]
  },
  {
   "cell_type": "code",
   "execution_count": 88,
   "id": "8da1712c-3259-4dd3-baab-ced2c157e5fe",
   "metadata": {
    "tags": []
   },
   "outputs": [],
   "source": [
    "df = df.melt(id_vars=['Student ID'], value_vars=['M', 'Tu','W','Th','F'])"
   ]
  },
  {
   "cell_type": "code",
   "execution_count": 89,
   "id": "344bb777-b049-4598-b48b-20c55536ac94",
   "metadata": {
    "tags": []
   },
   "outputs": [],
   "source": [
    "df = df.rename(columns={'variable':'Weekday', 'value':'Method of Travel'})"
   ]
  },
  {
   "cell_type": "code",
   "execution_count": 90,
   "id": "e32c9330-68c0-4a3e-9d8b-efaca26de7c0",
   "metadata": {
    "tags": []
   },
   "outputs": [
    {
     "data": {
      "text/html": [
       "<div>\n",
       "<style scoped>\n",
       "    .dataframe tbody tr th:only-of-type {\n",
       "        vertical-align: middle;\n",
       "    }\n",
       "\n",
       "    .dataframe tbody tr th {\n",
       "        vertical-align: top;\n",
       "    }\n",
       "\n",
       "    .dataframe thead th {\n",
       "        text-align: right;\n",
       "    }\n",
       "</style>\n",
       "<table border=\"1\" class=\"dataframe\">\n",
       "  <thead>\n",
       "    <tr style=\"text-align: right;\">\n",
       "      <th></th>\n",
       "      <th>Student ID</th>\n",
       "      <th>Weekday</th>\n",
       "      <th>Method of Travel</th>\n",
       "    </tr>\n",
       "  </thead>\n",
       "  <tbody>\n",
       "    <tr>\n",
       "      <th>0</th>\n",
       "      <td>1</td>\n",
       "      <td>M</td>\n",
       "      <td>Car</td>\n",
       "    </tr>\n",
       "    <tr>\n",
       "      <th>1</th>\n",
       "      <td>2</td>\n",
       "      <td>M</td>\n",
       "      <td>Bicycle</td>\n",
       "    </tr>\n",
       "    <tr>\n",
       "      <th>2</th>\n",
       "      <td>3</td>\n",
       "      <td>M</td>\n",
       "      <td>Car</td>\n",
       "    </tr>\n",
       "    <tr>\n",
       "      <th>3</th>\n",
       "      <td>4</td>\n",
       "      <td>M</td>\n",
       "      <td>Scooter</td>\n",
       "    </tr>\n",
       "    <tr>\n",
       "      <th>4</th>\n",
       "      <td>5</td>\n",
       "      <td>M</td>\n",
       "      <td>Bycycle</td>\n",
       "    </tr>\n",
       "  </tbody>\n",
       "</table>\n",
       "</div>"
      ],
      "text/plain": [
       "   Student ID Weekday Method of Travel\n",
       "0           1       M              Car\n",
       "1           2       M          Bicycle\n",
       "2           3       M              Car\n",
       "3           4       M          Scooter\n",
       "4           5       M          Bycycle"
      ]
     },
     "execution_count": 90,
     "metadata": {},
     "output_type": "execute_result"
    }
   ],
   "source": [
    "df.head()"
   ]
  },
  {
   "cell_type": "markdown",
   "id": "809df49b-528c-46f3-b91e-427b0b9e6113",
   "metadata": {},
   "source": [
    "#### Group the travel choices together to remove spelling mistakes"
   ]
  },
  {
   "cell_type": "code",
   "execution_count": 91,
   "id": "cb6de0ea-af3d-48a3-bf58-39f707585a6c",
   "metadata": {
    "tags": []
   },
   "outputs": [],
   "source": [
    "method = df['Method of Travel'].unique()"
   ]
  },
  {
   "cell_type": "code",
   "execution_count": 92,
   "id": "103c32a5-9a04-4f2c-90e7-8218cb044a13",
   "metadata": {
    "tags": []
   },
   "outputs": [
    {
     "data": {
      "text/plain": [
       "array(['Car', 'Bicycle', 'Scooter', 'Bycycle', 'Walk', 'Aeroplane',\n",
       "       'Helicopter', 'Van', \"Mum's Shoulders\", 'Hopped', 'Carr', 'Walkk',\n",
       "       \"Dad's Shoulders\", 'Skipped', 'Scootr', 'Scoter', 'Wallk',\n",
       "       'Jumped', 'Helicopeter', 'WAlk', 'Waalk'], dtype=object)"
      ]
     },
     "execution_count": 92,
     "metadata": {},
     "output_type": "execute_result"
    }
   ],
   "source": [
    "method"
   ]
  },
  {
   "cell_type": "code",
   "execution_count": 93,
   "id": "1c84e80d-3485-421e-aff3-da3252465818",
   "metadata": {
    "tags": []
   },
   "outputs": [],
   "source": [
    "df['Method of Travel'] = df['Method of Travel'].replace({\n",
    "    'Bycycle':'Bicycle',\n",
    "    'Carr':'Car',\n",
    "    'Walkk':'Walk',\n",
    "    'WAlk':'Walk', \n",
    "    'Wallk':'Walk', \n",
    "    'Waalk':'Walk',\n",
    "    'Scootr':'Scooter',\n",
    "    'Scoter':'Scooter',    \n",
    "    'Helicopeter':'Helicopter'\n",
    "})\n",
    "    "
   ]
  },
  {
   "cell_type": "code",
   "execution_count": 94,
   "id": "e06a76f7-e3ca-4c52-aeb7-54c5f10ee33c",
   "metadata": {
    "tags": []
   },
   "outputs": [
    {
     "data": {
      "text/html": [
       "<div>\n",
       "<style scoped>\n",
       "    .dataframe tbody tr th:only-of-type {\n",
       "        vertical-align: middle;\n",
       "    }\n",
       "\n",
       "    .dataframe tbody tr th {\n",
       "        vertical-align: top;\n",
       "    }\n",
       "\n",
       "    .dataframe thead th {\n",
       "        text-align: right;\n",
       "    }\n",
       "</style>\n",
       "<table border=\"1\" class=\"dataframe\">\n",
       "  <thead>\n",
       "    <tr style=\"text-align: right;\">\n",
       "      <th></th>\n",
       "      <th>Student ID</th>\n",
       "      <th>Weekday</th>\n",
       "      <th>Method of Travel</th>\n",
       "    </tr>\n",
       "  </thead>\n",
       "  <tbody>\n",
       "    <tr>\n",
       "      <th>0</th>\n",
       "      <td>1</td>\n",
       "      <td>M</td>\n",
       "      <td>Car</td>\n",
       "    </tr>\n",
       "    <tr>\n",
       "      <th>1</th>\n",
       "      <td>2</td>\n",
       "      <td>M</td>\n",
       "      <td>Bicycle</td>\n",
       "    </tr>\n",
       "    <tr>\n",
       "      <th>2</th>\n",
       "      <td>3</td>\n",
       "      <td>M</td>\n",
       "      <td>Car</td>\n",
       "    </tr>\n",
       "    <tr>\n",
       "      <th>3</th>\n",
       "      <td>4</td>\n",
       "      <td>M</td>\n",
       "      <td>Scooter</td>\n",
       "    </tr>\n",
       "    <tr>\n",
       "      <th>4</th>\n",
       "      <td>5</td>\n",
       "      <td>M</td>\n",
       "      <td>Bicycle</td>\n",
       "    </tr>\n",
       "  </tbody>\n",
       "</table>\n",
       "</div>"
      ],
      "text/plain": [
       "   Student ID Weekday Method of Travel\n",
       "0           1       M              Car\n",
       "1           2       M          Bicycle\n",
       "2           3       M              Car\n",
       "3           4       M          Scooter\n",
       "4           5       M          Bicycle"
      ]
     },
     "execution_count": 94,
     "metadata": {},
     "output_type": "execute_result"
    }
   ],
   "source": [
    "df.head()"
   ]
  },
  {
   "cell_type": "markdown",
   "id": "6e36da24-25aa-44b0-9e06-e0519aa442a5",
   "metadata": {},
   "source": [
    "#### Create a Sustainable (non-motorised) vs Non-Sustainable (motorised) data field "
   ]
  },
  {
   "cell_type": "code",
   "execution_count": 95,
   "id": "ad5d1d85-aa2a-4473-9be6-8a672de97fc8",
   "metadata": {
    "tags": []
   },
   "outputs": [
    {
     "data": {
      "text/plain": [
       "array(['Car', 'Bicycle', 'Scooter', 'Walk', 'Aeroplane', 'Helicopter',\n",
       "       'Van', \"Mum's Shoulders\", 'Hopped', \"Dad's Shoulders\", 'Skipped',\n",
       "       'Jumped'], dtype=object)"
      ]
     },
     "execution_count": 95,
     "metadata": {},
     "output_type": "execute_result"
    }
   ],
   "source": [
    "df['Method of Travel'].unique()"
   ]
  },
  {
   "cell_type": "code",
   "execution_count": 96,
   "id": "366b06ef-2e72-4025-8684-27f472416021",
   "metadata": {
    "tags": []
   },
   "outputs": [],
   "source": [
    "sustainable = ['Bicycle', 'Scooter', 'Walk', \"Mum's Shoulders\", 'Hopped', \"Dad's Shoulders\", 'Skipped',\n",
    "       'Jumped']"
   ]
  },
  {
   "cell_type": "code",
   "execution_count": 97,
   "id": "d2e786b1-c9d6-4497-8c2e-653c998c9aa6",
   "metadata": {
    "tags": []
   },
   "outputs": [],
   "source": [
    "df['Sustainable?'] = df['Method of Travel'].apply(lambda x: 'Sustainable' if x in sustainable else 'Non-Sustainable')"
   ]
  },
  {
   "cell_type": "code",
   "execution_count": 98,
   "id": "91bbb2ad-1927-4bcf-969c-2711a1d96930",
   "metadata": {
    "tags": []
   },
   "outputs": [
    {
     "data": {
      "text/html": [
       "<div>\n",
       "<style scoped>\n",
       "    .dataframe tbody tr th:only-of-type {\n",
       "        vertical-align: middle;\n",
       "    }\n",
       "\n",
       "    .dataframe tbody tr th {\n",
       "        vertical-align: top;\n",
       "    }\n",
       "\n",
       "    .dataframe thead th {\n",
       "        text-align: right;\n",
       "    }\n",
       "</style>\n",
       "<table border=\"1\" class=\"dataframe\">\n",
       "  <thead>\n",
       "    <tr style=\"text-align: right;\">\n",
       "      <th></th>\n",
       "      <th>Student ID</th>\n",
       "      <th>Weekday</th>\n",
       "      <th>Method of Travel</th>\n",
       "      <th>Sustainable?</th>\n",
       "    </tr>\n",
       "  </thead>\n",
       "  <tbody>\n",
       "    <tr>\n",
       "      <th>0</th>\n",
       "      <td>1</td>\n",
       "      <td>M</td>\n",
       "      <td>Car</td>\n",
       "      <td>Non-Sustainable</td>\n",
       "    </tr>\n",
       "    <tr>\n",
       "      <th>1</th>\n",
       "      <td>2</td>\n",
       "      <td>M</td>\n",
       "      <td>Bicycle</td>\n",
       "      <td>Sustainable</td>\n",
       "    </tr>\n",
       "    <tr>\n",
       "      <th>2</th>\n",
       "      <td>3</td>\n",
       "      <td>M</td>\n",
       "      <td>Car</td>\n",
       "      <td>Non-Sustainable</td>\n",
       "    </tr>\n",
       "    <tr>\n",
       "      <th>3</th>\n",
       "      <td>4</td>\n",
       "      <td>M</td>\n",
       "      <td>Scooter</td>\n",
       "      <td>Sustainable</td>\n",
       "    </tr>\n",
       "    <tr>\n",
       "      <th>4</th>\n",
       "      <td>5</td>\n",
       "      <td>M</td>\n",
       "      <td>Bicycle</td>\n",
       "      <td>Sustainable</td>\n",
       "    </tr>\n",
       "  </tbody>\n",
       "</table>\n",
       "</div>"
      ],
      "text/plain": [
       "   Student ID Weekday Method of Travel     Sustainable?\n",
       "0           1       M              Car  Non-Sustainable\n",
       "1           2       M          Bicycle      Sustainable\n",
       "2           3       M              Car  Non-Sustainable\n",
       "3           4       M          Scooter      Sustainable\n",
       "4           5       M          Bicycle      Sustainable"
      ]
     },
     "execution_count": 98,
     "metadata": {},
     "output_type": "execute_result"
    }
   ],
   "source": [
    "df.head()"
   ]
  },
  {
   "cell_type": "markdown",
   "id": "349ae4f3-e867-4a2e-83e4-58b937d24439",
   "metadata": {},
   "source": [
    "#### Total up the number of pupil's travelling by each method of travel "
   ]
  },
  {
   "cell_type": "code",
   "execution_count": 99,
   "id": "03f40dc0-cb78-4f92-9bf7-4a5526a19435",
   "metadata": {
    "tags": []
   },
   "outputs": [],
   "source": [
    "df_sum = df.groupby(['Method of Travel', 'Weekday'])['Student ID'].size().reset_index()"
   ]
  },
  {
   "cell_type": "code",
   "execution_count": 100,
   "id": "3f141ad1-e9c9-4443-9190-acb4bf8c0aa7",
   "metadata": {
    "tags": []
   },
   "outputs": [],
   "source": [
    "df_sum = df_sum.rename(columns={'Student ID':'Number of Trips'})"
   ]
  },
  {
   "cell_type": "code",
   "execution_count": 101,
   "id": "3c6ae24e-a9fe-464c-bdcb-ad31c14dbf68",
   "metadata": {
    "tags": []
   },
   "outputs": [
    {
     "data": {
      "text/html": [
       "<div>\n",
       "<style scoped>\n",
       "    .dataframe tbody tr th:only-of-type {\n",
       "        vertical-align: middle;\n",
       "    }\n",
       "\n",
       "    .dataframe tbody tr th {\n",
       "        vertical-align: top;\n",
       "    }\n",
       "\n",
       "    .dataframe thead th {\n",
       "        text-align: right;\n",
       "    }\n",
       "</style>\n",
       "<table border=\"1\" class=\"dataframe\">\n",
       "  <thead>\n",
       "    <tr style=\"text-align: right;\">\n",
       "      <th></th>\n",
       "      <th>Method of Travel</th>\n",
       "      <th>Weekday</th>\n",
       "      <th>Number of Trips</th>\n",
       "    </tr>\n",
       "  </thead>\n",
       "  <tbody>\n",
       "    <tr>\n",
       "      <th>0</th>\n",
       "      <td>Aeroplane</td>\n",
       "      <td>F</td>\n",
       "      <td>9</td>\n",
       "    </tr>\n",
       "    <tr>\n",
       "      <th>1</th>\n",
       "      <td>Aeroplane</td>\n",
       "      <td>M</td>\n",
       "      <td>9</td>\n",
       "    </tr>\n",
       "    <tr>\n",
       "      <th>2</th>\n",
       "      <td>Aeroplane</td>\n",
       "      <td>Th</td>\n",
       "      <td>9</td>\n",
       "    </tr>\n",
       "    <tr>\n",
       "      <th>3</th>\n",
       "      <td>Aeroplane</td>\n",
       "      <td>Tu</td>\n",
       "      <td>9</td>\n",
       "    </tr>\n",
       "    <tr>\n",
       "      <th>4</th>\n",
       "      <td>Aeroplane</td>\n",
       "      <td>W</td>\n",
       "      <td>9</td>\n",
       "    </tr>\n",
       "  </tbody>\n",
       "</table>\n",
       "</div>"
      ],
      "text/plain": [
       "  Method of Travel Weekday  Number of Trips\n",
       "0        Aeroplane       F                9\n",
       "1        Aeroplane       M                9\n",
       "2        Aeroplane      Th                9\n",
       "3        Aeroplane      Tu                9\n",
       "4        Aeroplane       W                9"
      ]
     },
     "execution_count": 101,
     "metadata": {},
     "output_type": "execute_result"
    }
   ],
   "source": [
    "df_sum.head()"
   ]
  },
  {
   "cell_type": "code",
   "execution_count": 102,
   "id": "cbe21a7c-71fa-4e10-bf62-0b0ddf24cc6f",
   "metadata": {
    "tags": []
   },
   "outputs": [],
   "source": [
    "df_trips = df_sum.groupby(['Weekday'])['Number of Trips'].sum().reset_index()"
   ]
  },
  {
   "cell_type": "code",
   "execution_count": 103,
   "id": "93037b18-4f52-48e6-8f85-babd6f1f6384",
   "metadata": {
    "tags": []
   },
   "outputs": [],
   "source": [
    "df_trips = df_trips.rename(columns={'Number of Trips':'Trips per day'})"
   ]
  },
  {
   "cell_type": "code",
   "execution_count": 104,
   "id": "a1da484b-ba31-4e7d-a7ea-5a25fbe1172c",
   "metadata": {
    "tags": []
   },
   "outputs": [
    {
     "data": {
      "text/html": [
       "<div>\n",
       "<style scoped>\n",
       "    .dataframe tbody tr th:only-of-type {\n",
       "        vertical-align: middle;\n",
       "    }\n",
       "\n",
       "    .dataframe tbody tr th {\n",
       "        vertical-align: top;\n",
       "    }\n",
       "\n",
       "    .dataframe thead th {\n",
       "        text-align: right;\n",
       "    }\n",
       "</style>\n",
       "<table border=\"1\" class=\"dataframe\">\n",
       "  <thead>\n",
       "    <tr style=\"text-align: right;\">\n",
       "      <th></th>\n",
       "      <th>Weekday</th>\n",
       "      <th>Trips per day</th>\n",
       "    </tr>\n",
       "  </thead>\n",
       "  <tbody>\n",
       "    <tr>\n",
       "      <th>0</th>\n",
       "      <td>F</td>\n",
       "      <td>1000</td>\n",
       "    </tr>\n",
       "    <tr>\n",
       "      <th>1</th>\n",
       "      <td>M</td>\n",
       "      <td>1000</td>\n",
       "    </tr>\n",
       "    <tr>\n",
       "      <th>2</th>\n",
       "      <td>Th</td>\n",
       "      <td>1000</td>\n",
       "    </tr>\n",
       "    <tr>\n",
       "      <th>3</th>\n",
       "      <td>Tu</td>\n",
       "      <td>1000</td>\n",
       "    </tr>\n",
       "    <tr>\n",
       "      <th>4</th>\n",
       "      <td>W</td>\n",
       "      <td>1000</td>\n",
       "    </tr>\n",
       "  </tbody>\n",
       "</table>\n",
       "</div>"
      ],
      "text/plain": [
       "  Weekday  Trips per day\n",
       "0       F           1000\n",
       "1       M           1000\n",
       "2      Th           1000\n",
       "3      Tu           1000\n",
       "4       W           1000"
      ]
     },
     "execution_count": 104,
     "metadata": {},
     "output_type": "execute_result"
    }
   ],
   "source": [
    "df_trips.head()"
   ]
  },
  {
   "cell_type": "code",
   "execution_count": 105,
   "id": "44e398df-8aaf-4b67-987c-c30266135ece",
   "metadata": {
    "tags": []
   },
   "outputs": [],
   "source": [
    "df = df.merge(df_sum, how='left', on=['Method of Travel','Weekday'])"
   ]
  },
  {
   "cell_type": "code",
   "execution_count": 106,
   "id": "3485ea80-7127-4337-87ff-6f58dbe2341b",
   "metadata": {
    "tags": []
   },
   "outputs": [],
   "source": [
    "df = df.merge(df_trips, how='left', on='Weekday')"
   ]
  },
  {
   "cell_type": "code",
   "execution_count": 107,
   "id": "0b01ab41-c88d-44b5-af00-6f7bb96d3580",
   "metadata": {
    "tags": []
   },
   "outputs": [
    {
     "data": {
      "text/html": [
       "<div>\n",
       "<style scoped>\n",
       "    .dataframe tbody tr th:only-of-type {\n",
       "        vertical-align: middle;\n",
       "    }\n",
       "\n",
       "    .dataframe tbody tr th {\n",
       "        vertical-align: top;\n",
       "    }\n",
       "\n",
       "    .dataframe thead th {\n",
       "        text-align: right;\n",
       "    }\n",
       "</style>\n",
       "<table border=\"1\" class=\"dataframe\">\n",
       "  <thead>\n",
       "    <tr style=\"text-align: right;\">\n",
       "      <th></th>\n",
       "      <th>Student ID</th>\n",
       "      <th>Weekday</th>\n",
       "      <th>Method of Travel</th>\n",
       "      <th>Sustainable?</th>\n",
       "      <th>Number of Trips</th>\n",
       "      <th>Trips per day</th>\n",
       "    </tr>\n",
       "  </thead>\n",
       "  <tbody>\n",
       "    <tr>\n",
       "      <th>0</th>\n",
       "      <td>1</td>\n",
       "      <td>M</td>\n",
       "      <td>Car</td>\n",
       "      <td>Non-Sustainable</td>\n",
       "      <td>422</td>\n",
       "      <td>1000</td>\n",
       "    </tr>\n",
       "    <tr>\n",
       "      <th>1</th>\n",
       "      <td>2</td>\n",
       "      <td>M</td>\n",
       "      <td>Bicycle</td>\n",
       "      <td>Sustainable</td>\n",
       "      <td>210</td>\n",
       "      <td>1000</td>\n",
       "    </tr>\n",
       "    <tr>\n",
       "      <th>2</th>\n",
       "      <td>3</td>\n",
       "      <td>M</td>\n",
       "      <td>Car</td>\n",
       "      <td>Non-Sustainable</td>\n",
       "      <td>422</td>\n",
       "      <td>1000</td>\n",
       "    </tr>\n",
       "    <tr>\n",
       "      <th>3</th>\n",
       "      <td>4</td>\n",
       "      <td>M</td>\n",
       "      <td>Scooter</td>\n",
       "      <td>Sustainable</td>\n",
       "      <td>84</td>\n",
       "      <td>1000</td>\n",
       "    </tr>\n",
       "    <tr>\n",
       "      <th>4</th>\n",
       "      <td>5</td>\n",
       "      <td>M</td>\n",
       "      <td>Bicycle</td>\n",
       "      <td>Sustainable</td>\n",
       "      <td>210</td>\n",
       "      <td>1000</td>\n",
       "    </tr>\n",
       "  </tbody>\n",
       "</table>\n",
       "</div>"
      ],
      "text/plain": [
       "   Student ID Weekday Method of Travel     Sustainable?  Number of Trips  \\\n",
       "0           1       M              Car  Non-Sustainable              422   \n",
       "1           2       M          Bicycle      Sustainable              210   \n",
       "2           3       M              Car  Non-Sustainable              422   \n",
       "3           4       M          Scooter      Sustainable               84   \n",
       "4           5       M          Bicycle      Sustainable              210   \n",
       "\n",
       "   Trips per day  \n",
       "0           1000  \n",
       "1           1000  \n",
       "2           1000  \n",
       "3           1000  \n",
       "4           1000  "
      ]
     },
     "execution_count": 107,
     "metadata": {},
     "output_type": "execute_result"
    }
   ],
   "source": [
    "df.head()"
   ]
  },
  {
   "cell_type": "markdown",
   "id": "25c2c994-4333-4602-8c98-71fc6e799e5a",
   "metadata": {},
   "source": [
    "#### Work out the % of trips taken by each method of travel each day"
   ]
  },
  {
   "cell_type": "code",
   "execution_count": 111,
   "id": "2e5eb7e6-c865-4e7e-8087-97c59f205b50",
   "metadata": {
    "tags": []
   },
   "outputs": [],
   "source": [
    "df['% of trips per day'] = round(df['Number of Trips']/df['Trips per day'], 2)"
   ]
  },
  {
   "cell_type": "code",
   "execution_count": 112,
   "id": "8b60aaee-bfd6-4f43-ae92-17b169dbf7ed",
   "metadata": {
    "tags": []
   },
   "outputs": [
    {
     "data": {
      "text/html": [
       "<div>\n",
       "<style scoped>\n",
       "    .dataframe tbody tr th:only-of-type {\n",
       "        vertical-align: middle;\n",
       "    }\n",
       "\n",
       "    .dataframe tbody tr th {\n",
       "        vertical-align: top;\n",
       "    }\n",
       "\n",
       "    .dataframe thead th {\n",
       "        text-align: right;\n",
       "    }\n",
       "</style>\n",
       "<table border=\"1\" class=\"dataframe\">\n",
       "  <thead>\n",
       "    <tr style=\"text-align: right;\">\n",
       "      <th></th>\n",
       "      <th>Student ID</th>\n",
       "      <th>Weekday</th>\n",
       "      <th>Method of Travel</th>\n",
       "      <th>Sustainable?</th>\n",
       "      <th>Number of Trips</th>\n",
       "      <th>Trips per day</th>\n",
       "      <th>% of trips per day</th>\n",
       "    </tr>\n",
       "  </thead>\n",
       "  <tbody>\n",
       "    <tr>\n",
       "      <th>0</th>\n",
       "      <td>1</td>\n",
       "      <td>M</td>\n",
       "      <td>Car</td>\n",
       "      <td>Non-Sustainable</td>\n",
       "      <td>422</td>\n",
       "      <td>1000</td>\n",
       "      <td>0.42</td>\n",
       "    </tr>\n",
       "    <tr>\n",
       "      <th>1</th>\n",
       "      <td>2</td>\n",
       "      <td>M</td>\n",
       "      <td>Bicycle</td>\n",
       "      <td>Sustainable</td>\n",
       "      <td>210</td>\n",
       "      <td>1000</td>\n",
       "      <td>0.21</td>\n",
       "    </tr>\n",
       "    <tr>\n",
       "      <th>2</th>\n",
       "      <td>3</td>\n",
       "      <td>M</td>\n",
       "      <td>Car</td>\n",
       "      <td>Non-Sustainable</td>\n",
       "      <td>422</td>\n",
       "      <td>1000</td>\n",
       "      <td>0.42</td>\n",
       "    </tr>\n",
       "    <tr>\n",
       "      <th>3</th>\n",
       "      <td>4</td>\n",
       "      <td>M</td>\n",
       "      <td>Scooter</td>\n",
       "      <td>Sustainable</td>\n",
       "      <td>84</td>\n",
       "      <td>1000</td>\n",
       "      <td>0.08</td>\n",
       "    </tr>\n",
       "    <tr>\n",
       "      <th>4</th>\n",
       "      <td>5</td>\n",
       "      <td>M</td>\n",
       "      <td>Bicycle</td>\n",
       "      <td>Sustainable</td>\n",
       "      <td>210</td>\n",
       "      <td>1000</td>\n",
       "      <td>0.21</td>\n",
       "    </tr>\n",
       "  </tbody>\n",
       "</table>\n",
       "</div>"
      ],
      "text/plain": [
       "   Student ID Weekday Method of Travel     Sustainable?  Number of Trips  \\\n",
       "0           1       M              Car  Non-Sustainable              422   \n",
       "1           2       M          Bicycle      Sustainable              210   \n",
       "2           3       M              Car  Non-Sustainable              422   \n",
       "3           4       M          Scooter      Sustainable               84   \n",
       "4           5       M          Bicycle      Sustainable              210   \n",
       "\n",
       "   Trips per day  % of trips per day  \n",
       "0           1000                0.42  \n",
       "1           1000                0.21  \n",
       "2           1000                0.42  \n",
       "3           1000                0.08  \n",
       "4           1000                0.21  "
      ]
     },
     "execution_count": 112,
     "metadata": {},
     "output_type": "execute_result"
    }
   ],
   "source": [
    "df.head()"
   ]
  },
  {
   "cell_type": "markdown",
   "id": "3826e28f-3876-4cd5-a2a4-fd701d83157d",
   "metadata": {},
   "source": [
    "#### Output the data"
   ]
  },
  {
   "cell_type": "code",
   "execution_count": 115,
   "id": "b9c10587-f343-49cf-ab8b-a585a1a2ee4b",
   "metadata": {
    "tags": []
   },
   "outputs": [],
   "source": [
    "df = df.drop('Student ID', axis=1)"
   ]
  },
  {
   "cell_type": "code",
   "execution_count": 118,
   "id": "5113f4fb-1006-43b3-bbf2-c6627bfffdce",
   "metadata": {
    "tags": []
   },
   "outputs": [],
   "source": [
    "df = df.drop_duplicates()"
   ]
  },
  {
   "cell_type": "code",
   "execution_count": 117,
   "id": "07e007db-2e1d-4c44-bcaf-8c27fee75763",
   "metadata": {},
   "outputs": [],
   "source": [
    "df.to_csv('2022W04.csv', index=False)"
   ]
  }
 ],
 "metadata": {
  "kernelspec": {
   "display_name": "Python 3 (ipykernel)",
   "language": "python",
   "name": "python3"
  },
  "language_info": {
   "codemirror_mode": {
    "name": "ipython",
    "version": 3
   },
   "file_extension": ".py",
   "mimetype": "text/x-python",
   "name": "python",
   "nbconvert_exporter": "python",
   "pygments_lexer": "ipython3",
   "version": "3.11.2"
  }
 },
 "nbformat": 4,
 "nbformat_minor": 5
}
