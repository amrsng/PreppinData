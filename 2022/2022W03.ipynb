{
 "cells": [
  {
   "cell_type": "markdown",
   "id": "2cacf4f1-f3f9-4bbf-bc54-47008b51c92c",
   "metadata": {},
   "source": [
    "# Preppin' Data 2022 Week 3"
   ]
  },
  {
   "cell_type": "markdown",
   "id": "f2cb61a6-5b46-41ed-bb74-8956ef6493ea",
   "metadata": {},
   "source": [
    "#### Load data"
   ]
  },
  {
   "cell_type": "code",
   "execution_count": 141,
   "id": "fcdb43b4-57b1-44cd-a4cf-759cfb854c0a",
   "metadata": {
    "tags": []
   },
   "outputs": [],
   "source": [
    "import pandas as pd"
   ]
  },
  {
   "cell_type": "code",
   "execution_count": 142,
   "id": "120b9271-5a82-4a60-8206-4d55a7483b98",
   "metadata": {
    "tags": []
   },
   "outputs": [],
   "source": [
    "pupils = pd.read_csv('PD 2022 Wk 1 Input - Input.csv')"
   ]
  },
  {
   "cell_type": "code",
   "execution_count": 143,
   "id": "5003a062-b9bb-40ac-ba37-b82184bf4741",
   "metadata": {
    "tags": []
   },
   "outputs": [],
   "source": [
    "grades = pd.read_csv('PD 2022 WK 3 Grades.csv')"
   ]
  },
  {
   "cell_type": "markdown",
   "id": "51b8083d-e652-4d78-9844-2b311a5c3d4a",
   "metadata": {},
   "source": [
    "#### Join data together"
   ]
  },
  {
   "cell_type": "code",
   "execution_count": 144,
   "id": "74a042b7-8938-45fa-8cbb-2a9ccf5c83ec",
   "metadata": {
    "tags": []
   },
   "outputs": [],
   "source": [
    "df = pupils.merge(grades, how='left', left_on='id', right_on='Student ID')"
   ]
  },
  {
   "cell_type": "code",
   "execution_count": 145,
   "id": "55d5d3fb-9ce1-4783-b286-fb73abfbd671",
   "metadata": {
    "tags": []
   },
   "outputs": [
    {
     "data": {
      "text/html": [
       "<div>\n",
       "<style scoped>\n",
       "    .dataframe tbody tr th:only-of-type {\n",
       "        vertical-align: middle;\n",
       "    }\n",
       "\n",
       "    .dataframe tbody tr th {\n",
       "        vertical-align: top;\n",
       "    }\n",
       "\n",
       "    .dataframe thead th {\n",
       "        text-align: right;\n",
       "    }\n",
       "</style>\n",
       "<table border=\"1\" class=\"dataframe\">\n",
       "  <thead>\n",
       "    <tr style=\"text-align: right;\">\n",
       "      <th></th>\n",
       "      <th>id</th>\n",
       "      <th>pupil first name</th>\n",
       "      <th>pupil last name</th>\n",
       "      <th>gender</th>\n",
       "      <th>Date of Birth</th>\n",
       "      <th>Parental Contact Name_1</th>\n",
       "      <th>Parental Contact Name_2</th>\n",
       "      <th>Preferred Contact Employer</th>\n",
       "      <th>Parental Contact</th>\n",
       "      <th>Student ID</th>\n",
       "      <th>Maths</th>\n",
       "      <th>English</th>\n",
       "      <th>Spanish</th>\n",
       "      <th>Science</th>\n",
       "      <th>Art</th>\n",
       "      <th>History</th>\n",
       "      <th>Geography</th>\n",
       "    </tr>\n",
       "  </thead>\n",
       "  <tbody>\n",
       "    <tr>\n",
       "      <th>0</th>\n",
       "      <td>1</td>\n",
       "      <td>Ronna</td>\n",
       "      <td>Nellies</td>\n",
       "      <td>Female</td>\n",
       "      <td>12/21/2013</td>\n",
       "      <td>Purcell</td>\n",
       "      <td>Ketti</td>\n",
       "      <td>Demizz</td>\n",
       "      <td>1</td>\n",
       "      <td>1</td>\n",
       "      <td>66</td>\n",
       "      <td>97</td>\n",
       "      <td>85</td>\n",
       "      <td>75</td>\n",
       "      <td>76</td>\n",
       "      <td>94</td>\n",
       "      <td>76</td>\n",
       "    </tr>\n",
       "    <tr>\n",
       "      <th>1</th>\n",
       "      <td>2</td>\n",
       "      <td>Rusty</td>\n",
       "      <td>Andriulis</td>\n",
       "      <td>Male</td>\n",
       "      <td>7/21/2012</td>\n",
       "      <td>Vassili</td>\n",
       "      <td>Rivi</td>\n",
       "      <td>Brainbox</td>\n",
       "      <td>1</td>\n",
       "      <td>2</td>\n",
       "      <td>84</td>\n",
       "      <td>85</td>\n",
       "      <td>62</td>\n",
       "      <td>87</td>\n",
       "      <td>68</td>\n",
       "      <td>75</td>\n",
       "      <td>74</td>\n",
       "    </tr>\n",
       "    <tr>\n",
       "      <th>2</th>\n",
       "      <td>3</td>\n",
       "      <td>Roberta</td>\n",
       "      <td>Oakeshott</td>\n",
       "      <td>Female</td>\n",
       "      <td>12/4/2011</td>\n",
       "      <td>Lind</td>\n",
       "      <td>Haskell</td>\n",
       "      <td>Centidel</td>\n",
       "      <td>2</td>\n",
       "      <td>3</td>\n",
       "      <td>88</td>\n",
       "      <td>68</td>\n",
       "      <td>69</td>\n",
       "      <td>81</td>\n",
       "      <td>92</td>\n",
       "      <td>89</td>\n",
       "      <td>75</td>\n",
       "    </tr>\n",
       "    <tr>\n",
       "      <th>3</th>\n",
       "      <td>4</td>\n",
       "      <td>Lola</td>\n",
       "      <td>Rubinfajn</td>\n",
       "      <td>Male</td>\n",
       "      <td>6/29/2012</td>\n",
       "      <td>Elie</td>\n",
       "      <td>Tresa</td>\n",
       "      <td>Edgeblab</td>\n",
       "      <td>2</td>\n",
       "      <td>4</td>\n",
       "      <td>65</td>\n",
       "      <td>97</td>\n",
       "      <td>96</td>\n",
       "      <td>89</td>\n",
       "      <td>98</td>\n",
       "      <td>77</td>\n",
       "      <td>62</td>\n",
       "    </tr>\n",
       "    <tr>\n",
       "      <th>4</th>\n",
       "      <td>5</td>\n",
       "      <td>Kamila</td>\n",
       "      <td>Benedtti</td>\n",
       "      <td>Female</td>\n",
       "      <td>7/10/2012</td>\n",
       "      <td>Adela</td>\n",
       "      <td>Clevey</td>\n",
       "      <td>Trudoo</td>\n",
       "      <td>1</td>\n",
       "      <td>5</td>\n",
       "      <td>86</td>\n",
       "      <td>97</td>\n",
       "      <td>94</td>\n",
       "      <td>98</td>\n",
       "      <td>67</td>\n",
       "      <td>77</td>\n",
       "      <td>97</td>\n",
       "    </tr>\n",
       "  </tbody>\n",
       "</table>\n",
       "</div>"
      ],
      "text/plain": [
       "   id pupil first name pupil last name  gender Date of Birth  \\\n",
       "0   1            Ronna         Nellies  Female    12/21/2013   \n",
       "1   2            Rusty       Andriulis    Male     7/21/2012   \n",
       "2   3          Roberta       Oakeshott  Female     12/4/2011   \n",
       "3   4             Lola       Rubinfajn    Male     6/29/2012   \n",
       "4   5           Kamila        Benedtti  Female     7/10/2012   \n",
       "\n",
       "  Parental Contact Name_1 Parental Contact Name_2 Preferred Contact Employer  \\\n",
       "0                 Purcell                   Ketti                     Demizz   \n",
       "1                 Vassili                    Rivi                   Brainbox   \n",
       "2                    Lind                 Haskell                   Centidel   \n",
       "3                    Elie                   Tresa                   Edgeblab   \n",
       "4                   Adela                  Clevey                     Trudoo   \n",
       "\n",
       "   Parental Contact  Student ID  Maths  English  Spanish  Science  Art  \\\n",
       "0                 1           1     66       97       85       75   76   \n",
       "1                 1           2     84       85       62       87   68   \n",
       "2                 2           3     88       68       69       81   92   \n",
       "3                 2           4     65       97       96       89   98   \n",
       "4                 1           5     86       97       94       98   67   \n",
       "\n",
       "   History  Geography  \n",
       "0       94         76  \n",
       "1       75         74  \n",
       "2       89         75  \n",
       "3       77         62  \n",
       "4       77         97  "
      ]
     },
     "execution_count": 145,
     "metadata": {},
     "output_type": "execute_result"
    }
   ],
   "source": [
    "df.head()"
   ]
  },
  {
   "cell_type": "markdown",
   "id": "2576a1fc-31e5-4170-b958-e5baf00f0ed4",
   "metadata": {},
   "source": [
    "#### Remove unwanted fields"
   ]
  },
  {
   "cell_type": "code",
   "execution_count": 146,
   "id": "ea120ccc-508d-4894-acc4-c5e771a649c9",
   "metadata": {
    "tags": []
   },
   "outputs": [],
   "source": [
    "df = df.drop(['id','pupil first name','pupil last name','Date of Birth',\\\n",
    "              'Parental Contact Name_1','Parental Contact Name_2','Preferred Contact Employer',\\\n",
    "              'Parental Contact'], axis=1)"
   ]
  },
  {
   "cell_type": "markdown",
   "id": "71c1716b-3ac6-4147-93d4-91065205bde2",
   "metadata": {},
   "source": [
    "#### Pivot the data to create one row of data per student and subject"
   ]
  },
  {
   "cell_type": "code",
   "execution_count": 147,
   "id": "0d5fa24b-027f-4bf4-9ad5-c4fdf77ff86e",
   "metadata": {
    "tags": []
   },
   "outputs": [],
   "source": [
    "df = pd.melt(df, id_vars=['Student ID','gender'])"
   ]
  },
  {
   "cell_type": "code",
   "execution_count": 148,
   "id": "ba0dd037-0dbe-4121-b394-166c82952124",
   "metadata": {
    "tags": []
   },
   "outputs": [],
   "source": [
    "df = df.rename(columns={'variable':'Subject', 'value':'Score', 'gender':'Gender'})"
   ]
  },
  {
   "cell_type": "code",
   "execution_count": 149,
   "id": "9aa1211c-d8ed-49ac-8bac-13c4e91b5df3",
   "metadata": {
    "tags": []
   },
   "outputs": [
    {
     "data": {
      "text/html": [
       "<div>\n",
       "<style scoped>\n",
       "    .dataframe tbody tr th:only-of-type {\n",
       "        vertical-align: middle;\n",
       "    }\n",
       "\n",
       "    .dataframe tbody tr th {\n",
       "        vertical-align: top;\n",
       "    }\n",
       "\n",
       "    .dataframe thead th {\n",
       "        text-align: right;\n",
       "    }\n",
       "</style>\n",
       "<table border=\"1\" class=\"dataframe\">\n",
       "  <thead>\n",
       "    <tr style=\"text-align: right;\">\n",
       "      <th></th>\n",
       "      <th>Student ID</th>\n",
       "      <th>Gender</th>\n",
       "      <th>Subject</th>\n",
       "      <th>Score</th>\n",
       "    </tr>\n",
       "  </thead>\n",
       "  <tbody>\n",
       "    <tr>\n",
       "      <th>0</th>\n",
       "      <td>1</td>\n",
       "      <td>Female</td>\n",
       "      <td>Maths</td>\n",
       "      <td>66</td>\n",
       "    </tr>\n",
       "    <tr>\n",
       "      <th>1</th>\n",
       "      <td>2</td>\n",
       "      <td>Male</td>\n",
       "      <td>Maths</td>\n",
       "      <td>84</td>\n",
       "    </tr>\n",
       "    <tr>\n",
       "      <th>2</th>\n",
       "      <td>3</td>\n",
       "      <td>Female</td>\n",
       "      <td>Maths</td>\n",
       "      <td>88</td>\n",
       "    </tr>\n",
       "    <tr>\n",
       "      <th>3</th>\n",
       "      <td>4</td>\n",
       "      <td>Male</td>\n",
       "      <td>Maths</td>\n",
       "      <td>65</td>\n",
       "    </tr>\n",
       "    <tr>\n",
       "      <th>4</th>\n",
       "      <td>5</td>\n",
       "      <td>Female</td>\n",
       "      <td>Maths</td>\n",
       "      <td>86</td>\n",
       "    </tr>\n",
       "  </tbody>\n",
       "</table>\n",
       "</div>"
      ],
      "text/plain": [
       "   Student ID  Gender Subject  Score\n",
       "0           1  Female   Maths     66\n",
       "1           2    Male   Maths     84\n",
       "2           3  Female   Maths     88\n",
       "3           4    Male   Maths     65\n",
       "4           5  Female   Maths     86"
      ]
     },
     "execution_count": 149,
     "metadata": {},
     "output_type": "execute_result"
    }
   ],
   "source": [
    "df.head()"
   ]
  },
  {
   "cell_type": "markdown",
   "id": "2951b4c5-9d11-460e-88cd-f485ad4c8e3c",
   "metadata": {},
   "source": [
    "#### Create an average score per student based on all of their grades"
   ]
  },
  {
   "cell_type": "code",
   "execution_count": 150,
   "id": "0757ed99-29cd-4ec5-8d98-42f8f401997b",
   "metadata": {
    "tags": []
   },
   "outputs": [],
   "source": [
    "df[\"Student's Avg Score\"] = round(df.groupby(['Student ID'])['Score'].transform('mean'), 1)"
   ]
  },
  {
   "cell_type": "code",
   "execution_count": 151,
   "id": "f199c1fa-0d50-4531-a473-3d4896b52e41",
   "metadata": {
    "tags": []
   },
   "outputs": [
    {
     "data": {
      "text/html": [
       "<div>\n",
       "<style scoped>\n",
       "    .dataframe tbody tr th:only-of-type {\n",
       "        vertical-align: middle;\n",
       "    }\n",
       "\n",
       "    .dataframe tbody tr th {\n",
       "        vertical-align: top;\n",
       "    }\n",
       "\n",
       "    .dataframe thead th {\n",
       "        text-align: right;\n",
       "    }\n",
       "</style>\n",
       "<table border=\"1\" class=\"dataframe\">\n",
       "  <thead>\n",
       "    <tr style=\"text-align: right;\">\n",
       "      <th></th>\n",
       "      <th>Student ID</th>\n",
       "      <th>Gender</th>\n",
       "      <th>Subject</th>\n",
       "      <th>Score</th>\n",
       "      <th>Student's Avg Score</th>\n",
       "    </tr>\n",
       "  </thead>\n",
       "  <tbody>\n",
       "    <tr>\n",
       "      <th>0</th>\n",
       "      <td>1</td>\n",
       "      <td>Female</td>\n",
       "      <td>Maths</td>\n",
       "      <td>66</td>\n",
       "      <td>81.3</td>\n",
       "    </tr>\n",
       "    <tr>\n",
       "      <th>1</th>\n",
       "      <td>2</td>\n",
       "      <td>Male</td>\n",
       "      <td>Maths</td>\n",
       "      <td>84</td>\n",
       "      <td>76.4</td>\n",
       "    </tr>\n",
       "    <tr>\n",
       "      <th>2</th>\n",
       "      <td>3</td>\n",
       "      <td>Female</td>\n",
       "      <td>Maths</td>\n",
       "      <td>88</td>\n",
       "      <td>80.3</td>\n",
       "    </tr>\n",
       "    <tr>\n",
       "      <th>3</th>\n",
       "      <td>4</td>\n",
       "      <td>Male</td>\n",
       "      <td>Maths</td>\n",
       "      <td>65</td>\n",
       "      <td>83.4</td>\n",
       "    </tr>\n",
       "    <tr>\n",
       "      <th>4</th>\n",
       "      <td>5</td>\n",
       "      <td>Female</td>\n",
       "      <td>Maths</td>\n",
       "      <td>86</td>\n",
       "      <td>88.0</td>\n",
       "    </tr>\n",
       "  </tbody>\n",
       "</table>\n",
       "</div>"
      ],
      "text/plain": [
       "   Student ID  Gender Subject  Score  Student's Avg Score\n",
       "0           1  Female   Maths     66                 81.3\n",
       "1           2    Male   Maths     84                 76.4\n",
       "2           3  Female   Maths     88                 80.3\n",
       "3           4    Male   Maths     65                 83.4\n",
       "4           5  Female   Maths     86                 88.0"
      ]
     },
     "execution_count": 151,
     "metadata": {},
     "output_type": "execute_result"
    }
   ],
   "source": [
    "df.head()"
   ]
  },
  {
   "cell_type": "code",
   "execution_count": 152,
   "id": "c749a4dc-f108-41fb-a29f-f515162e2af9",
   "metadata": {
    "tags": []
   },
   "outputs": [
    {
     "data": {
      "text/html": [
       "<div>\n",
       "<style scoped>\n",
       "    .dataframe tbody tr th:only-of-type {\n",
       "        vertical-align: middle;\n",
       "    }\n",
       "\n",
       "    .dataframe tbody tr th {\n",
       "        vertical-align: top;\n",
       "    }\n",
       "\n",
       "    .dataframe thead th {\n",
       "        text-align: right;\n",
       "    }\n",
       "</style>\n",
       "<table border=\"1\" class=\"dataframe\">\n",
       "  <thead>\n",
       "    <tr style=\"text-align: right;\">\n",
       "      <th></th>\n",
       "      <th>Student ID</th>\n",
       "      <th>Gender</th>\n",
       "      <th>Subject</th>\n",
       "      <th>Score</th>\n",
       "      <th>Student's Avg Score</th>\n",
       "    </tr>\n",
       "  </thead>\n",
       "  <tbody>\n",
       "    <tr>\n",
       "      <th>984</th>\n",
       "      <td>985</td>\n",
       "      <td>Male</td>\n",
       "      <td>Maths</td>\n",
       "      <td>61</td>\n",
       "      <td>85.6</td>\n",
       "    </tr>\n",
       "    <tr>\n",
       "      <th>1984</th>\n",
       "      <td>985</td>\n",
       "      <td>Male</td>\n",
       "      <td>English</td>\n",
       "      <td>96</td>\n",
       "      <td>85.6</td>\n",
       "    </tr>\n",
       "    <tr>\n",
       "      <th>2984</th>\n",
       "      <td>985</td>\n",
       "      <td>Male</td>\n",
       "      <td>Spanish</td>\n",
       "      <td>94</td>\n",
       "      <td>85.6</td>\n",
       "    </tr>\n",
       "    <tr>\n",
       "      <th>3984</th>\n",
       "      <td>985</td>\n",
       "      <td>Male</td>\n",
       "      <td>Science</td>\n",
       "      <td>94</td>\n",
       "      <td>85.6</td>\n",
       "    </tr>\n",
       "    <tr>\n",
       "      <th>4984</th>\n",
       "      <td>985</td>\n",
       "      <td>Male</td>\n",
       "      <td>Art</td>\n",
       "      <td>83</td>\n",
       "      <td>85.6</td>\n",
       "    </tr>\n",
       "    <tr>\n",
       "      <th>5984</th>\n",
       "      <td>985</td>\n",
       "      <td>Male</td>\n",
       "      <td>History</td>\n",
       "      <td>96</td>\n",
       "      <td>85.6</td>\n",
       "    </tr>\n",
       "    <tr>\n",
       "      <th>6984</th>\n",
       "      <td>985</td>\n",
       "      <td>Male</td>\n",
       "      <td>Geography</td>\n",
       "      <td>75</td>\n",
       "      <td>85.6</td>\n",
       "    </tr>\n",
       "  </tbody>\n",
       "</table>\n",
       "</div>"
      ],
      "text/plain": [
       "      Student ID Gender    Subject  Score  Student's Avg Score\n",
       "984          985   Male      Maths     61                 85.6\n",
       "1984         985   Male    English     96                 85.6\n",
       "2984         985   Male    Spanish     94                 85.6\n",
       "3984         985   Male    Science     94                 85.6\n",
       "4984         985   Male        Art     83                 85.6\n",
       "5984         985   Male    History     96                 85.6\n",
       "6984         985   Male  Geography     75                 85.6"
      ]
     },
     "execution_count": 152,
     "metadata": {},
     "output_type": "execute_result"
    }
   ],
   "source": [
    "# test output\n",
    "df.loc[df['Student ID']==985]"
   ]
  },
  {
   "cell_type": "markdown",
   "id": "ecc0f573-8172-478a-947d-919ae188c3b8",
   "metadata": {},
   "source": [
    "#### Check pass rate"
   ]
  },
  {
   "cell_type": "code",
   "execution_count": 153,
   "id": "b7152e24-eb72-4966-81b0-c5e6f18b060d",
   "metadata": {
    "tags": []
   },
   "outputs": [],
   "source": [
    "df['Pass or Fail'] = df['Score'].apply(lambda x: 'Pass' if x >= 75 else 'Fail')"
   ]
  },
  {
   "cell_type": "code",
   "execution_count": 154,
   "id": "56e61012-9b1a-46ba-8892-c060de2cffc0",
   "metadata": {
    "tags": []
   },
   "outputs": [
    {
     "data": {
      "text/html": [
       "<div>\n",
       "<style scoped>\n",
       "    .dataframe tbody tr th:only-of-type {\n",
       "        vertical-align: middle;\n",
       "    }\n",
       "\n",
       "    .dataframe tbody tr th {\n",
       "        vertical-align: top;\n",
       "    }\n",
       "\n",
       "    .dataframe thead th {\n",
       "        text-align: right;\n",
       "    }\n",
       "</style>\n",
       "<table border=\"1\" class=\"dataframe\">\n",
       "  <thead>\n",
       "    <tr style=\"text-align: right;\">\n",
       "      <th></th>\n",
       "      <th>Student ID</th>\n",
       "      <th>Gender</th>\n",
       "      <th>Subject</th>\n",
       "      <th>Score</th>\n",
       "      <th>Student's Avg Score</th>\n",
       "      <th>Pass or Fail</th>\n",
       "    </tr>\n",
       "  </thead>\n",
       "  <tbody>\n",
       "    <tr>\n",
       "      <th>0</th>\n",
       "      <td>1</td>\n",
       "      <td>Female</td>\n",
       "      <td>Maths</td>\n",
       "      <td>66</td>\n",
       "      <td>81.3</td>\n",
       "      <td>Fail</td>\n",
       "    </tr>\n",
       "    <tr>\n",
       "      <th>1</th>\n",
       "      <td>2</td>\n",
       "      <td>Male</td>\n",
       "      <td>Maths</td>\n",
       "      <td>84</td>\n",
       "      <td>76.4</td>\n",
       "      <td>Pass</td>\n",
       "    </tr>\n",
       "    <tr>\n",
       "      <th>2</th>\n",
       "      <td>3</td>\n",
       "      <td>Female</td>\n",
       "      <td>Maths</td>\n",
       "      <td>88</td>\n",
       "      <td>80.3</td>\n",
       "      <td>Pass</td>\n",
       "    </tr>\n",
       "    <tr>\n",
       "      <th>3</th>\n",
       "      <td>4</td>\n",
       "      <td>Male</td>\n",
       "      <td>Maths</td>\n",
       "      <td>65</td>\n",
       "      <td>83.4</td>\n",
       "      <td>Fail</td>\n",
       "    </tr>\n",
       "    <tr>\n",
       "      <th>4</th>\n",
       "      <td>5</td>\n",
       "      <td>Female</td>\n",
       "      <td>Maths</td>\n",
       "      <td>86</td>\n",
       "      <td>88.0</td>\n",
       "      <td>Pass</td>\n",
       "    </tr>\n",
       "  </tbody>\n",
       "</table>\n",
       "</div>"
      ],
      "text/plain": [
       "   Student ID  Gender Subject  Score  Student's Avg Score Pass or Fail\n",
       "0           1  Female   Maths     66                 81.3         Fail\n",
       "1           2    Male   Maths     84                 76.4         Pass\n",
       "2           3  Female   Maths     88                 80.3         Pass\n",
       "3           4    Male   Maths     65                 83.4         Fail\n",
       "4           5  Female   Maths     86                 88.0         Pass"
      ]
     },
     "execution_count": 154,
     "metadata": {},
     "output_type": "execute_result"
    }
   ],
   "source": [
    "df.head()"
   ]
  },
  {
   "cell_type": "markdown",
   "id": "62492363-3d88-4beb-9878-e75721c45bb6",
   "metadata": {},
   "source": [
    "#### Aggregate the data per student to count how many subjects each student passed"
   ]
  },
  {
   "cell_type": "code",
   "execution_count": 133,
   "id": "996fe6ed-da64-47f9-88a2-ad33ef6ee3e3",
   "metadata": {
    "tags": []
   },
   "outputs": [],
   "source": [
    "#df = df.drop(df[df['Pass or Fail'] == 'Fail'].index)"
   ]
  },
  {
   "cell_type": "code",
   "execution_count": 161,
   "id": "951dfc8e-1d2b-49b6-b84a-37ba92b00a84",
   "metadata": {
    "tags": []
   },
   "outputs": [],
   "source": [
    "df['Pass Counts'] = df['Pass or Fail'].apply(lambda x: 1 if x=='Pass' else 0)"
   ]
  },
  {
   "cell_type": "code",
   "execution_count": 166,
   "id": "af490f13-6e8b-44ba-88d6-9985941dbe6f",
   "metadata": {
    "tags": []
   },
   "outputs": [],
   "source": [
    "df['Passed Subjects'] = df.groupby(['Student ID'])['Pass Counts'].transform('sum')"
   ]
  },
  {
   "cell_type": "code",
   "execution_count": 167,
   "id": "8d4f2736-522e-47b6-b872-8e97edfd0502",
   "metadata": {},
   "outputs": [
    {
     "data": {
      "text/html": [
       "<div>\n",
       "<style scoped>\n",
       "    .dataframe tbody tr th:only-of-type {\n",
       "        vertical-align: middle;\n",
       "    }\n",
       "\n",
       "    .dataframe tbody tr th {\n",
       "        vertical-align: top;\n",
       "    }\n",
       "\n",
       "    .dataframe thead th {\n",
       "        text-align: right;\n",
       "    }\n",
       "</style>\n",
       "<table border=\"1\" class=\"dataframe\">\n",
       "  <thead>\n",
       "    <tr style=\"text-align: right;\">\n",
       "      <th></th>\n",
       "      <th>Student ID</th>\n",
       "      <th>Gender</th>\n",
       "      <th>Subject</th>\n",
       "      <th>Score</th>\n",
       "      <th>Student's Avg Score</th>\n",
       "      <th>Pass or Fail</th>\n",
       "      <th>Passed Subjects</th>\n",
       "      <th>Pass Counts</th>\n",
       "    </tr>\n",
       "  </thead>\n",
       "  <tbody>\n",
       "    <tr>\n",
       "      <th>0</th>\n",
       "      <td>1</td>\n",
       "      <td>Female</td>\n",
       "      <td>Maths</td>\n",
       "      <td>66</td>\n",
       "      <td>81.3</td>\n",
       "      <td>Fail</td>\n",
       "      <td>6</td>\n",
       "      <td>0</td>\n",
       "    </tr>\n",
       "    <tr>\n",
       "      <th>1</th>\n",
       "      <td>2</td>\n",
       "      <td>Male</td>\n",
       "      <td>Maths</td>\n",
       "      <td>84</td>\n",
       "      <td>76.4</td>\n",
       "      <td>Pass</td>\n",
       "      <td>4</td>\n",
       "      <td>1</td>\n",
       "    </tr>\n",
       "    <tr>\n",
       "      <th>2</th>\n",
       "      <td>3</td>\n",
       "      <td>Female</td>\n",
       "      <td>Maths</td>\n",
       "      <td>88</td>\n",
       "      <td>80.3</td>\n",
       "      <td>Pass</td>\n",
       "      <td>5</td>\n",
       "      <td>1</td>\n",
       "    </tr>\n",
       "    <tr>\n",
       "      <th>3</th>\n",
       "      <td>4</td>\n",
       "      <td>Male</td>\n",
       "      <td>Maths</td>\n",
       "      <td>65</td>\n",
       "      <td>83.4</td>\n",
       "      <td>Fail</td>\n",
       "      <td>5</td>\n",
       "      <td>0</td>\n",
       "    </tr>\n",
       "    <tr>\n",
       "      <th>4</th>\n",
       "      <td>5</td>\n",
       "      <td>Female</td>\n",
       "      <td>Maths</td>\n",
       "      <td>86</td>\n",
       "      <td>88.0</td>\n",
       "      <td>Pass</td>\n",
       "      <td>6</td>\n",
       "      <td>1</td>\n",
       "    </tr>\n",
       "  </tbody>\n",
       "</table>\n",
       "</div>"
      ],
      "text/plain": [
       "   Student ID  Gender Subject  Score  Student's Avg Score Pass or Fail  \\\n",
       "0           1  Female   Maths     66                 81.3         Fail   \n",
       "1           2    Male   Maths     84                 76.4         Pass   \n",
       "2           3  Female   Maths     88                 80.3         Pass   \n",
       "3           4    Male   Maths     65                 83.4         Fail   \n",
       "4           5  Female   Maths     86                 88.0         Pass   \n",
       "\n",
       "   Passed Subjects  Pass Counts  \n",
       "0                6            0  \n",
       "1                4            1  \n",
       "2                5            1  \n",
       "3                5            0  \n",
       "4                6            1  "
      ]
     },
     "execution_count": 167,
     "metadata": {},
     "output_type": "execute_result"
    }
   ],
   "source": [
    "df.head()"
   ]
  },
  {
   "cell_type": "markdown",
   "id": "e862b8c9-cd63-4361-bdd4-eff75833833d",
   "metadata": {},
   "source": [
    "#### Remove any unnecessary fields and output the data"
   ]
  },
  {
   "cell_type": "code",
   "execution_count": 172,
   "id": "7f4df7da-bf58-4724-a1df-cc419fd94e5b",
   "metadata": {
    "tags": []
   },
   "outputs": [],
   "source": [
    "df = df.drop(['Subject','Score','Pass or Fail','Pass Counts'], axis=1)"
   ]
  },
  {
   "cell_type": "code",
   "execution_count": 173,
   "id": "56ca7285-71cc-4a01-99a8-a7ccd3da67e2",
   "metadata": {
    "tags": []
   },
   "outputs": [],
   "source": [
    "df=df.drop_duplicates()"
   ]
  },
  {
   "cell_type": "code",
   "execution_count": 174,
   "id": "9be54340-67e5-4652-80a2-84382cb49835",
   "metadata": {
    "tags": []
   },
   "outputs": [
    {
     "data": {
      "text/html": [
       "<div>\n",
       "<style scoped>\n",
       "    .dataframe tbody tr th:only-of-type {\n",
       "        vertical-align: middle;\n",
       "    }\n",
       "\n",
       "    .dataframe tbody tr th {\n",
       "        vertical-align: top;\n",
       "    }\n",
       "\n",
       "    .dataframe thead th {\n",
       "        text-align: right;\n",
       "    }\n",
       "</style>\n",
       "<table border=\"1\" class=\"dataframe\">\n",
       "  <thead>\n",
       "    <tr style=\"text-align: right;\">\n",
       "      <th></th>\n",
       "      <th>Student ID</th>\n",
       "      <th>Gender</th>\n",
       "      <th>Student's Avg Score</th>\n",
       "      <th>Passed Subjects</th>\n",
       "    </tr>\n",
       "  </thead>\n",
       "  <tbody>\n",
       "    <tr>\n",
       "      <th>0</th>\n",
       "      <td>1</td>\n",
       "      <td>Female</td>\n",
       "      <td>81.3</td>\n",
       "      <td>6</td>\n",
       "    </tr>\n",
       "    <tr>\n",
       "      <th>1</th>\n",
       "      <td>2</td>\n",
       "      <td>Male</td>\n",
       "      <td>76.4</td>\n",
       "      <td>4</td>\n",
       "    </tr>\n",
       "    <tr>\n",
       "      <th>2</th>\n",
       "      <td>3</td>\n",
       "      <td>Female</td>\n",
       "      <td>80.3</td>\n",
       "      <td>5</td>\n",
       "    </tr>\n",
       "    <tr>\n",
       "      <th>3</th>\n",
       "      <td>4</td>\n",
       "      <td>Male</td>\n",
       "      <td>83.4</td>\n",
       "      <td>5</td>\n",
       "    </tr>\n",
       "    <tr>\n",
       "      <th>4</th>\n",
       "      <td>5</td>\n",
       "      <td>Female</td>\n",
       "      <td>88.0</td>\n",
       "      <td>6</td>\n",
       "    </tr>\n",
       "    <tr>\n",
       "      <th>...</th>\n",
       "      <td>...</td>\n",
       "      <td>...</td>\n",
       "      <td>...</td>\n",
       "      <td>...</td>\n",
       "    </tr>\n",
       "    <tr>\n",
       "      <th>995</th>\n",
       "      <td>996</td>\n",
       "      <td>Female</td>\n",
       "      <td>87.0</td>\n",
       "      <td>6</td>\n",
       "    </tr>\n",
       "    <tr>\n",
       "      <th>996</th>\n",
       "      <td>997</td>\n",
       "      <td>Female</td>\n",
       "      <td>90.0</td>\n",
       "      <td>7</td>\n",
       "    </tr>\n",
       "    <tr>\n",
       "      <th>997</th>\n",
       "      <td>998</td>\n",
       "      <td>Male</td>\n",
       "      <td>81.1</td>\n",
       "      <td>5</td>\n",
       "    </tr>\n",
       "    <tr>\n",
       "      <th>998</th>\n",
       "      <td>999</td>\n",
       "      <td>Female</td>\n",
       "      <td>74.0</td>\n",
       "      <td>3</td>\n",
       "    </tr>\n",
       "    <tr>\n",
       "      <th>999</th>\n",
       "      <td>1000</td>\n",
       "      <td>Female</td>\n",
       "      <td>79.4</td>\n",
       "      <td>5</td>\n",
       "    </tr>\n",
       "  </tbody>\n",
       "</table>\n",
       "<p>1000 rows × 4 columns</p>\n",
       "</div>"
      ],
      "text/plain": [
       "     Student ID  Gender  Student's Avg Score  Passed Subjects\n",
       "0             1  Female                 81.3                6\n",
       "1             2    Male                 76.4                4\n",
       "2             3  Female                 80.3                5\n",
       "3             4    Male                 83.4                5\n",
       "4             5  Female                 88.0                6\n",
       "..          ...     ...                  ...              ...\n",
       "995         996  Female                 87.0                6\n",
       "996         997  Female                 90.0                7\n",
       "997         998    Male                 81.1                5\n",
       "998         999  Female                 74.0                3\n",
       "999        1000  Female                 79.4                5\n",
       "\n",
       "[1000 rows x 4 columns]"
      ]
     },
     "execution_count": 174,
     "metadata": {},
     "output_type": "execute_result"
    }
   ],
   "source": [
    "df"
   ]
  },
  {
   "cell_type": "code",
   "execution_count": 177,
   "id": "d8de9040-6b5c-4273-b79c-00c43cad66f9",
   "metadata": {
    "tags": []
   },
   "outputs": [],
   "source": [
    "df.to_csv('2022W03_output.csv', index=False)"
   ]
  },
  {
   "cell_type": "code",
   "execution_count": null,
   "id": "4a96f537-72b0-4706-ba7a-9b33a6145aa5",
   "metadata": {},
   "outputs": [],
   "source": []
  }
 ],
 "metadata": {
  "kernelspec": {
   "display_name": "Python 3 (ipykernel)",
   "language": "python",
   "name": "python3"
  },
  "language_info": {
   "codemirror_mode": {
    "name": "ipython",
    "version": 3
   },
   "file_extension": ".py",
   "mimetype": "text/x-python",
   "name": "python",
   "nbconvert_exporter": "python",
   "pygments_lexer": "ipython3",
   "version": "3.11.2"
  }
 },
 "nbformat": 4,
 "nbformat_minor": 5
}
