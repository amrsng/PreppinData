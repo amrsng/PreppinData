{
 "cells": [
  {
   "cell_type": "markdown",
   "id": "c38a00e5-ecae-4c4e-a46b-4df9ebdb96f9",
   "metadata": {},
   "source": [
    "# Preppin Data 2019 Week 01"
   ]
  },
  {
   "cell_type": "markdown",
   "id": "be551a9c-fb78-41a6-85b3-5f2d7a60534d",
   "metadata": {},
   "source": [
    "https://preppindata.blogspot.com/2019/02/2019-week-1.html\n",
    "\n",
    "Instructions\n",
    "* Import the starter file (click to open the Google Drive link)\n",
    "* Make a date that will work in Tableau Desktop\n",
    "* Work out the total car sales per month / per car dealership\n",
    "* Retain the car sales per colour columns\n",
    "* Export the file\n",
    "\n",
    "Due to the way Tableau Prep works, your output:\n",
    "* Might not have the same row or column order as our output\n",
    "* Will have the same number of columns (7)\n",
    "* Will have the same number of rows (48)"
   ]
  },
  {
   "cell_type": "code",
   "execution_count": 32,
   "id": "6c48f691-d5d7-42fb-a052-be8313c4379b",
   "metadata": {},
   "outputs": [],
   "source": [
    "import pandas as pd"
   ]
  },
  {
   "cell_type": "code",
   "execution_count": 33,
   "id": "4f61b43f-07f5-47f9-83e9-7ee65fd387e8",
   "metadata": {},
   "outputs": [],
   "source": [
    "import numpy as np"
   ]
  },
  {
   "cell_type": "code",
   "execution_count": 34,
   "id": "81073fe9-9ca4-44c0-9b1e-45589f5a1a28",
   "metadata": {},
   "outputs": [],
   "source": [
    "df = pd.read_csv('2019 Week 1.csv')"
   ]
  },
  {
   "cell_type": "code",
   "execution_count": 35,
   "id": "e133de7b-64e0-4082-a7ea-ef04a86b5ab0",
   "metadata": {},
   "outputs": [
    {
     "data": {
      "text/html": [
       "<div>\n",
       "<style scoped>\n",
       "    .dataframe tbody tr th:only-of-type {\n",
       "        vertical-align: middle;\n",
       "    }\n",
       "\n",
       "    .dataframe tbody tr th {\n",
       "        vertical-align: top;\n",
       "    }\n",
       "\n",
       "    .dataframe thead th {\n",
       "        text-align: right;\n",
       "    }\n",
       "</style>\n",
       "<table border=\"1\" class=\"dataframe\">\n",
       "  <thead>\n",
       "    <tr style=\"text-align: right;\">\n",
       "      <th></th>\n",
       "      <th>Dealership</th>\n",
       "      <th>Red Cars</th>\n",
       "      <th>Silver Cars</th>\n",
       "      <th>Black Cars</th>\n",
       "      <th>Blue Cars</th>\n",
       "      <th>When Sold Month</th>\n",
       "      <th>When Sold Year</th>\n",
       "    </tr>\n",
       "  </thead>\n",
       "  <tbody>\n",
       "    <tr>\n",
       "      <th>0</th>\n",
       "      <td>A</td>\n",
       "      <td>451</td>\n",
       "      <td>325</td>\n",
       "      <td>377</td>\n",
       "      <td>396</td>\n",
       "      <td>1</td>\n",
       "      <td>2018</td>\n",
       "    </tr>\n",
       "    <tr>\n",
       "      <th>1</th>\n",
       "      <td>A</td>\n",
       "      <td>355</td>\n",
       "      <td>238</td>\n",
       "      <td>259</td>\n",
       "      <td>246</td>\n",
       "      <td>2</td>\n",
       "      <td>2018</td>\n",
       "    </tr>\n",
       "    <tr>\n",
       "      <th>2</th>\n",
       "      <td>A</td>\n",
       "      <td>124</td>\n",
       "      <td>456</td>\n",
       "      <td>303</td>\n",
       "      <td>175</td>\n",
       "      <td>3</td>\n",
       "      <td>2018</td>\n",
       "    </tr>\n",
       "    <tr>\n",
       "      <th>3</th>\n",
       "      <td>A</td>\n",
       "      <td>391</td>\n",
       "      <td>456</td>\n",
       "      <td>429</td>\n",
       "      <td>223</td>\n",
       "      <td>4</td>\n",
       "      <td>2018</td>\n",
       "    </tr>\n",
       "    <tr>\n",
       "      <th>4</th>\n",
       "      <td>A</td>\n",
       "      <td>139</td>\n",
       "      <td>177</td>\n",
       "      <td>241</td>\n",
       "      <td>376</td>\n",
       "      <td>5</td>\n",
       "      <td>2018</td>\n",
       "    </tr>\n",
       "  </tbody>\n",
       "</table>\n",
       "</div>"
      ],
      "text/plain": [
       "  Dealership  Red Cars  Silver Cars  Black Cars  Blue Cars  When Sold Month  \\\n",
       "0          A       451          325         377        396                1   \n",
       "1          A       355          238         259        246                2   \n",
       "2          A       124          456         303        175                3   \n",
       "3          A       391          456         429        223                4   \n",
       "4          A       139          177         241        376                5   \n",
       "\n",
       "   When Sold Year  \n",
       "0            2018  \n",
       "1            2018  \n",
       "2            2018  \n",
       "3            2018  \n",
       "4            2018  "
      ]
     },
     "execution_count": 35,
     "metadata": {},
     "output_type": "execute_result"
    }
   ],
   "source": [
    "df.head()"
   ]
  },
  {
   "cell_type": "markdown",
   "id": "8f4a3a89-bf96-49e1-90a0-172b94e2a57f",
   "metadata": {},
   "source": [
    "### calculate total car sales"
   ]
  },
  {
   "cell_type": "code",
   "execution_count": 69,
   "id": "138cae4b-d3bd-4fab-9034-ebbc30515eb4",
   "metadata": {},
   "outputs": [],
   "source": [
    "df['Total Car Sales'] = df['Red Cars'] + df['Silver Cars'] + df['Black Cars'] + df['Blue Cars']"
   ]
  },
  {
   "cell_type": "markdown",
   "id": "cdf77d4c-5780-4a43-86ad-6318ac36a7d9",
   "metadata": {},
   "source": [
    "### convert dates to strings then create a full date"
   ]
  },
  {
   "cell_type": "code",
   "execution_count": 49,
   "id": "fd580857-332b-4de8-a698-59d8ffdc8720",
   "metadata": {},
   "outputs": [],
   "source": [
    "df['Year'] = df['When Sold Year'].astype(str)"
   ]
  },
  {
   "cell_type": "code",
   "execution_count": 51,
   "id": "478a2cc0-f9cf-4fc7-ba24-9d1349320f26",
   "metadata": {},
   "outputs": [],
   "source": [
    "df['Month'] = df['When Sold Month'].astype(str)"
   ]
  },
  {
   "cell_type": "code",
   "execution_count": 56,
   "id": "db01559d-ed8c-4a6f-834c-a57bb0189bb5",
   "metadata": {},
   "outputs": [],
   "source": [
    "df['Day'] = '1'"
   ]
  },
  {
   "cell_type": "code",
   "execution_count": 58,
   "id": "e78bce74-23b6-4c70-b960-98c394c5f57c",
   "metadata": {},
   "outputs": [],
   "source": [
    "df['Date Sold'] = pd.to_datetime(df[['Year','Month','Day']])"
   ]
  },
  {
   "cell_type": "markdown",
   "id": "a483b390-af1b-4493-a46d-fce0aad8a70e",
   "metadata": {},
   "source": [
    "### delete unwanted columns"
   ]
  },
  {
   "cell_type": "code",
   "execution_count": 64,
   "id": "23a0a32b-6762-4b4c-913d-062786070c8f",
   "metadata": {},
   "outputs": [],
   "source": [
    "df = df.drop(['When Sold Month','When Sold Year','Year','Month','Day'], axis=1)"
   ]
  },
  {
   "cell_type": "code",
   "execution_count": 65,
   "id": "bf3443ce-10a9-4a44-a718-cef7c28fb9c9",
   "metadata": {},
   "outputs": [
    {
     "data": {
      "text/html": [
       "<div>\n",
       "<style scoped>\n",
       "    .dataframe tbody tr th:only-of-type {\n",
       "        vertical-align: middle;\n",
       "    }\n",
       "\n",
       "    .dataframe tbody tr th {\n",
       "        vertical-align: top;\n",
       "    }\n",
       "\n",
       "    .dataframe thead th {\n",
       "        text-align: right;\n",
       "    }\n",
       "</style>\n",
       "<table border=\"1\" class=\"dataframe\">\n",
       "  <thead>\n",
       "    <tr style=\"text-align: right;\">\n",
       "      <th></th>\n",
       "      <th>Dealership</th>\n",
       "      <th>Red Cars</th>\n",
       "      <th>Silver Cars</th>\n",
       "      <th>Black Cars</th>\n",
       "      <th>Blue Cars</th>\n",
       "      <th>Total Car Sales</th>\n",
       "      <th>Date Sold</th>\n",
       "    </tr>\n",
       "  </thead>\n",
       "  <tbody>\n",
       "    <tr>\n",
       "      <th>0</th>\n",
       "      <td>A</td>\n",
       "      <td>451</td>\n",
       "      <td>325</td>\n",
       "      <td>377</td>\n",
       "      <td>396</td>\n",
       "      <td>1549</td>\n",
       "      <td>2018-01-01</td>\n",
       "    </tr>\n",
       "    <tr>\n",
       "      <th>1</th>\n",
       "      <td>A</td>\n",
       "      <td>355</td>\n",
       "      <td>238</td>\n",
       "      <td>259</td>\n",
       "      <td>246</td>\n",
       "      <td>1098</td>\n",
       "      <td>2018-02-01</td>\n",
       "    </tr>\n",
       "    <tr>\n",
       "      <th>2</th>\n",
       "      <td>A</td>\n",
       "      <td>124</td>\n",
       "      <td>456</td>\n",
       "      <td>303</td>\n",
       "      <td>175</td>\n",
       "      <td>1058</td>\n",
       "      <td>2018-03-01</td>\n",
       "    </tr>\n",
       "    <tr>\n",
       "      <th>3</th>\n",
       "      <td>A</td>\n",
       "      <td>391</td>\n",
       "      <td>456</td>\n",
       "      <td>429</td>\n",
       "      <td>223</td>\n",
       "      <td>1499</td>\n",
       "      <td>2018-04-01</td>\n",
       "    </tr>\n",
       "    <tr>\n",
       "      <th>4</th>\n",
       "      <td>A</td>\n",
       "      <td>139</td>\n",
       "      <td>177</td>\n",
       "      <td>241</td>\n",
       "      <td>376</td>\n",
       "      <td>933</td>\n",
       "      <td>2018-05-01</td>\n",
       "    </tr>\n",
       "  </tbody>\n",
       "</table>\n",
       "</div>"
      ],
      "text/plain": [
       "  Dealership  Red Cars  Silver Cars  Black Cars  Blue Cars  Total Car Sales  \\\n",
       "0          A       451          325         377        396             1549   \n",
       "1          A       355          238         259        246             1098   \n",
       "2          A       124          456         303        175             1058   \n",
       "3          A       391          456         429        223             1499   \n",
       "4          A       139          177         241        376              933   \n",
       "\n",
       "   Date Sold  \n",
       "0 2018-01-01  \n",
       "1 2018-02-01  \n",
       "2 2018-03-01  \n",
       "3 2018-04-01  \n",
       "4 2018-05-01  "
      ]
     },
     "execution_count": 65,
     "metadata": {},
     "output_type": "execute_result"
    }
   ],
   "source": [
    "df.head()"
   ]
  },
  {
   "cell_type": "markdown",
   "id": "a3306fc2-663a-4b7b-9467-ee92cf08a33b",
   "metadata": {},
   "source": [
    "### export final output"
   ]
  },
  {
   "cell_type": "code",
   "execution_count": 66,
   "id": "6bc7dc8b-42d4-40d5-b381-73cc109fdc6d",
   "metadata": {},
   "outputs": [],
   "source": [
    "df.to_csv('2019 Week 1 solution.csv')"
   ]
  }
 ],
 "metadata": {
  "kernelspec": {
   "display_name": "Python 3 (ipykernel)",
   "language": "python",
   "name": "python3"
  },
  "language_info": {
   "codemirror_mode": {
    "name": "ipython",
    "version": 3
   },
   "file_extension": ".py",
   "mimetype": "text/x-python",
   "name": "python",
   "nbconvert_exporter": "python",
   "pygments_lexer": "ipython3",
   "version": "3.10.4"
  }
 },
 "nbformat": 4,
 "nbformat_minor": 5
}
